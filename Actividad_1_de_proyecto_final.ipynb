{
  "nbformat": 4,
  "nbformat_minor": 0,
  "metadata": {
    "colab": {
      "provenance": [],
      "authorship_tag": "ABX9TyMCcGc3ECWr6RxyXbMcsQyp",
      "include_colab_link": true
    },
    "kernelspec": {
      "name": "python3",
      "display_name": "Python 3"
    },
    "language_info": {
      "name": "python"
    }
  },
  "cells": [
    {
      "cell_type": "markdown",
      "metadata": {
        "id": "view-in-github",
        "colab_type": "text"
      },
      "source": [
        "<a href=\"https://colab.research.google.com/github/PosgradoMNA/actividades-del-projecto-equipo-61/blob/main/Actividad_1_de_proyecto_final.ipynb\" target=\"_parent\"><img src=\"https://colab.research.google.com/assets/colab-badge.svg\" alt=\"Open In Colab\"/></a>"
      ]
    },
    {
      "cell_type": "markdown",
      "source": [
        "# Actividad 1 de proyecto final"
      ],
      "metadata": {
        "id": "FcJiw-lSp1Ek"
      }
    },
    {
      "cell_type": "markdown",
      "source": [
        "1. **Nombre de la base de datos:** \n",
        "\n",
        "Indicadores personales clave de enfermedad cardíaca (del inglés: \"*Personal Key Indicators of Heart Disease*\")\n",
        "\n",
        "\n",
        "2. **Organización que lo genero:** \n",
        "\n",
        "Centros para el Control y la Prevención de Enfermedades, CDC, a partir de la información de su encuesta anual 2020.\n",
        "\n",
        "\n",
        "3. **Enlace para descargar la base de datos:** \n",
        "\n",
        "https://www.kaggle.com/datasets/kamilpytlak/personal-key-indicators-of-heart-disease\n",
        "\n",
        "\n",
        "4. **Describe el conjunto de datos, ¿Qué datos contiene?:**\n",
        "\n",
        "La base de datos contiene 319,795 registros de los cuales se recabo información en 18 columnas. A continuación describo las columnas:\n",
        "\n",
        "-> **HeartDisease:** ¿El sujeto tiene alguna enfermedad del corazón?. Toma valores \"Yes\" (Si) y \"No\" (No).\n",
        "\n",
        "-> **BMI:** Índice de masa corporal. Toma valores flotantes.\n",
        "\n",
        "-> **Smoking:** ¿Sujeto fuma?. Toma valores \"Yes\" (Si) y \"No\" (No).\n",
        "\n",
        "-> **AlcoholDrinking:** ¿Sujeto toma alcohol?. Toma valores \"Yes\" (Si) y \"No\" (No).\n",
        "\n",
        "-> **Stroke:** ¿El sujeto ha sufrido un infarto?. Toma valores \"Yes\" (Si) y \"No\" (No).\n",
        "\n",
        "-> **PhysicalHealth:** ¿Cuál es la salud física del sujeto?. Toma valores enteros.\n",
        "\n",
        "-> **MentalHealth:** ¿Cuál es la salud mental del sujeto?. Toma valores enteros.\n",
        "\n",
        "-> **DiffWalking:** ¿El sujeto tiene dificultad al caminar?. Toma valores \"Yes\" (Si) y \"No\" (No).\n",
        "\n",
        "-> **Sex:** ¿El sujeto es hombre o mujer?.\n",
        "\n",
        "-> **AgeCategory:** ¿Cuál es la edad del sujeto?. La edad se divide en rangos, la variable es categórica.\n",
        "\n",
        "-> **Race:** ¿De qué raza es el sujeto?. La variable es categórica.\n",
        "\n",
        "-> **Diabetic:** ¿El sujeto tiene diabétes?. Toma valores \"Yes\" (Si) y \"No\" (No).\n",
        "\n",
        "-> **PhysicalActivity:** ¿El sujeto realiza actividad física?. Toma valores \"Yes\" (Si) y \"No\" (No).\n",
        "\n",
        "-> **GenHealth:** ¿Cuál es el nivel general de salud del sujeto?. La variable es categórica. Toma los valores Poor (Mala), Fair (Regular), Good (Buena), Very Good (Muy Buena), Excellent (Excelente).\n",
        "\n",
        "-> **SleepTime:** ¿Cuántas horas duerme el sujeto?. Variable toma valores enteros.\n",
        "\n",
        "-> **Asthma:** ¿El sujeto tiene asma?. Toma valores \"Yes\" (Si) y \"No\" (No).\n",
        "\n",
        "-> **KidneyDisease:** ¿El sujeto tiene una enfermedad en el riñón?. Toma valores \"Yes\" (Si) y \"No\" (No).\n",
        "\n",
        "-> **SkinCance:** ¿El sujeto tiene o tuvo cancer de piel?. Toma valores \"Yes\" (Si) y \"No\" (No).\n",
        "\n",
        "\n",
        "5. **Preguntas a responder:**\n",
        "\n",
        "    1) ¿Existe relación entre las variables independientes y la variable dependiente (HeartDisease)? Si si, ¿de que tipo?\n",
        "\n",
        "    2) ¿El género crea una distinción importante en el resto de las variables?\n",
        "\n",
        "    3) ¿La edad crea una distinción importante en el resto de las variables?\n",
        "\n",
        "    4) ¿La raza crea una distinción importante en el resto de las variables?\n",
        "\n",
        "    5) ¿Es posible predecir si una persona se va a ver afectada por una enfermedad del corazón a partir de las variables?\n",
        "\n",
        "    6) ¿Cuáles variables son más importantes para un modelo predictivo de enfermedad del corazón?\n",
        "\n",
        "    7) \n",
        "\n",
        "    8) \n",
        "\n",
        "\n",
        "\n",
        "6. **¿A quién le interesa el análisis (empresa, sector de la sociedad, organismo descentralizado, gobierno, etc.):**\n",
        "\n",
        "El análisis le puede interesar a diversos grupos. En primer lugar a la comunidad médica ya que podría ayudar a la más rápida identificación de pascientes en peligro de una enfermedad cardiaca o con alguna enfermedad cardiaca no detectada. De igual manera, puede ser de utilidad para los sistemas de salud públicos, para las organizacioens de salud, para la empresas de seguros médicos, y en general, para cualquier organismo público o privado que se encargue de temas de salud.\n"
      ],
      "metadata": {
        "id": "7ve5fP0cugVe"
      }
    }
  ]
}