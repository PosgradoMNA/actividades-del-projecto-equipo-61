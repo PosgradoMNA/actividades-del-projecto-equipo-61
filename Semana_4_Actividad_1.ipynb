{
  "cells": [
    {
      "cell_type": "markdown",
      "metadata": {
        "id": "view-in-github",
        "colab_type": "text"
      },
      "source": [
        "<a href=\"https://colab.research.google.com/github/PosgradoMNA/actividades-del-projecto-equipo-61/blob/main/Semana_4_Actividad_1.ipynb\" target=\"_parent\"><img src=\"https://colab.research.google.com/assets/colab-badge.svg\" alt=\"Open In Colab\"/></a>"
      ]
    },
    {
      "cell_type": "markdown",
      "metadata": {
        "id": "EjUigIi7kytY"
      },
      "source": [
        "# Semana 4 - Actividad 1"
      ]
    },
    {
      "cell_type": "markdown",
      "source": [
        "**Nombre 1:** Daniela Estevez Rodriguez\n",
        "\n",
        "**Matricula 1:** A01793723\n",
        "<br>\n",
        "<br>\n",
        "\n",
        "**Nombre 2:** Ernesto Nicanor Santillán Guerrero \n",
        "\n",
        "**Matricula 2:** A01793675\n",
        "\n",
        "\n",
        "\n",
        "**Materia:** Ciencia y analítica de datos\n",
        "\n",
        "**Profesor:** Jobish Vallikavungal Devassia\n",
        "\n",
        "**Fecha:** 11 de Octubre de 2022"
      ],
      "metadata": {
        "id": "dPpNUGdWx-KO"
      }
    },
    {
      "cell_type": "markdown",
      "metadata": {
        "id": "Pz0nRTw62Y-B"
      },
      "source": [
        "# PCA \n",
        "\n",
        "Revise el ejercicio guiado para el análisis de componentes principales utilizando el conjunto de datos.\n"
      ]
    },
    {
      "cell_type": "markdown",
      "source": [
        "## Paso 1: \n",
        "\n",
        "Determine el número mínimo de componentes principales que representan la mayor parte de la variación en sus datos\n",
        "\n",
        "Utilice la proporción acumulada de la varianza que explican los componentes para determinar la cantidad de varianza que explican los componentes principales.\n",
        "\n",
        "Utilizar dataset descrito a continuación"
      ],
      "metadata": {
        "id": "QHvPE6uVGdLa"
      }
    },
    {
      "cell_type": "markdown",
      "metadata": {
        "id": "0e8v4RYcN1SD"
      },
      "source": [
        "Dataset information\n",
        "Attribute Information:\n",
        "\n",
        "This research employed a binary variable, default payment (Yes = 1, No = 0), as the response variable. This study reviewed the literature and used the following 23 variables as explanatory variables: \n",
        "\n",
        "X1: Amount of the given credit (NT dollar): it includes both the individual consumer credit and his/her family (supplementary) credit. \n",
        "\n",
        "X2: Gender (1 = male; 2 = female). \n",
        "\n",
        "X3: Education (1 = graduate school; 2 = university; 3 = high school; 4 = others). \n",
        "\n",
        "X4: Marital status (1 = married; 2 = single; 3 = others). \n",
        "\n",
        "X5: Age (year). \n",
        "\n",
        "X6 - X11: History of past payment. We tracked the past monthly payment records (from April to September, 2005) as follows: X6 = the repayment status in September, 2005; X7 = the repayment status in August, 2005; . . .;X11 = the repayment status in April, 2005. The measurement scale for the repayment status is: -1 = pay duly; 1 = payment delay for one month; 2 = payment delay for two months; . . .; 8 = payment delay for eight months; 9 = payment delay for nine months and above. \n",
        "\n",
        "X12-X17: Amount of bill statement (NT dollar). X12 = amount of bill statement in September, 2005; X13 = amount of bill statement in August, 2005; . . .; X17 = amount of bill statement in April, 2005. \n",
        "\n",
        "X18-X23: Amount of previous payment (NT dollar). X18 = amount paid in September, 2005; X19 = amount paid in August, 2005; . . .;X23 = amount paid in April, 2005. "
      ]
    },
    {
      "cell_type": "code",
      "execution_count": 133,
      "metadata": {
        "id": "F11IFRFWKKTg"
      },
      "outputs": [],
      "source": [
        "# Librería de manejo de bases\n",
        "import pandas as pd\n",
        "import numpy as np\n",
        "\n",
        "# Librerías de visualización\n",
        "import matplotlib.pyplot as plt\n",
        "import seaborn as sns\n",
        "pd.options.display.max_columns=25\n",
        "%matplotlib inline\n",
        "\n",
        "# Librería de pre procesamiento de datos\n",
        "from sklearn.preprocessing import StandardScaler\n",
        "from sklearn.preprocessing import MinMaxScaler\n",
        "\n",
        "# Librería de PCA\n",
        "from sklearn.decomposition import PCA"
      ]
    },
    {
      "cell_type": "code",
      "execution_count": 134,
      "metadata": {
        "id": "kGd2pbKI2XMK"
      },
      "outputs": [],
      "source": [
        "# Datos desde github\n",
        "url = 'https://raw.githubusercontent.com/PosgradoMNA/Actividades_Aprendizaje-/main/default%20of%20credit%20card%20clients.csv'\n",
        "data = pd.read_csv(url)"
      ]
    },
    {
      "cell_type": "code",
      "execution_count": 135,
      "metadata": {
        "id": "kt8T7-PJ80go"
      },
      "outputs": [],
      "source": [
        "# Creates a copy of the data\n",
        "df=data.copy()"
      ]
    },
    {
      "cell_type": "code",
      "execution_count": 136,
      "metadata": {
        "colab": {
          "base_uri": "https://localhost:8080/",
          "height": 270
        },
        "id": "ixsYMvw58y88",
        "outputId": "e46e7882-75d3-4585-a16c-8cd05922ebda"
      },
      "outputs": [
        {
          "output_type": "execute_result",
          "data": {
            "text/plain": [
              "          ID      X1   X2   X3   X4    X5   X6   X7   X8   X9  X10  X11  \\\n",
              "10747  10748  310000  1.0  3.0  1.0  32.0  0.0  0.0  0.0  0.0  0.0  0.0   \n",
              "12573  12574   10000  2.0  3.0  1.0  49.0 -1.0 -1.0 -2.0 -1.0  2.0  2.0   \n",
              "29676  29677   50000  1.0  2.0  1.0  28.0 -1.0 -1.0 -1.0  0.0 -1.0 -1.0   \n",
              "8856    8857   80000  2.0  3.0  1.0  52.0  2.0  2.0  3.0  3.0  3.0  2.0   \n",
              "21098  21099  270000  1.0  1.0  2.0  34.0  1.0  2.0  0.0  0.0  2.0  0.0   \n",
              "\n",
              "            X12       X13       X14      X15      X16      X17     X18  \\\n",
              "10747  172772.0  152397.0  110375.0  84373.0  57779.0  14163.0  8295.0   \n",
              "12573      32.0    -358.0    -748.0   1690.0   1138.0    930.0     0.0   \n",
              "29676     430.0       0.0   46257.0  45975.0   1300.0  43987.0     0.0   \n",
              "8856    36649.0   39448.0   40101.0  40748.0  39816.0  40607.0  3700.0   \n",
              "21098   20979.0   17228.0   20924.0  22448.0  15490.0  17343.0     0.0   \n",
              "\n",
              "           X19     X20     X21      X22     X23    Y  \n",
              "10747   6000.0  4000.0  3000.0   1000.0  2000.0  0.0  \n",
              "12573      0.0  2828.0     0.0    182.0     0.0  1.0  \n",
              "29676  46257.0  2200.0  1300.0  43987.0  1386.0  0.0  \n",
              "8856    1600.0  1600.0     0.0   1600.0  1600.0  1.0  \n",
              "21098   4000.0  2000.0     0.0   2000.0  2000.0  0.0  "
            ],
            "text/html": [
              "\n",
              "  <div id=\"df-5bfa534e-4dda-49ed-b195-fc646f84a019\">\n",
              "    <div class=\"colab-df-container\">\n",
              "      <div>\n",
              "<style scoped>\n",
              "    .dataframe tbody tr th:only-of-type {\n",
              "        vertical-align: middle;\n",
              "    }\n",
              "\n",
              "    .dataframe tbody tr th {\n",
              "        vertical-align: top;\n",
              "    }\n",
              "\n",
              "    .dataframe thead th {\n",
              "        text-align: right;\n",
              "    }\n",
              "</style>\n",
              "<table border=\"1\" class=\"dataframe\">\n",
              "  <thead>\n",
              "    <tr style=\"text-align: right;\">\n",
              "      <th></th>\n",
              "      <th>ID</th>\n",
              "      <th>X1</th>\n",
              "      <th>X2</th>\n",
              "      <th>X3</th>\n",
              "      <th>X4</th>\n",
              "      <th>X5</th>\n",
              "      <th>X6</th>\n",
              "      <th>X7</th>\n",
              "      <th>X8</th>\n",
              "      <th>X9</th>\n",
              "      <th>X10</th>\n",
              "      <th>X11</th>\n",
              "      <th>X12</th>\n",
              "      <th>X13</th>\n",
              "      <th>X14</th>\n",
              "      <th>X15</th>\n",
              "      <th>X16</th>\n",
              "      <th>X17</th>\n",
              "      <th>X18</th>\n",
              "      <th>X19</th>\n",
              "      <th>X20</th>\n",
              "      <th>X21</th>\n",
              "      <th>X22</th>\n",
              "      <th>X23</th>\n",
              "      <th>Y</th>\n",
              "    </tr>\n",
              "  </thead>\n",
              "  <tbody>\n",
              "    <tr>\n",
              "      <th>10747</th>\n",
              "      <td>10748</td>\n",
              "      <td>310000</td>\n",
              "      <td>1.0</td>\n",
              "      <td>3.0</td>\n",
              "      <td>1.0</td>\n",
              "      <td>32.0</td>\n",
              "      <td>0.0</td>\n",
              "      <td>0.0</td>\n",
              "      <td>0.0</td>\n",
              "      <td>0.0</td>\n",
              "      <td>0.0</td>\n",
              "      <td>0.0</td>\n",
              "      <td>172772.0</td>\n",
              "      <td>152397.0</td>\n",
              "      <td>110375.0</td>\n",
              "      <td>84373.0</td>\n",
              "      <td>57779.0</td>\n",
              "      <td>14163.0</td>\n",
              "      <td>8295.0</td>\n",
              "      <td>6000.0</td>\n",
              "      <td>4000.0</td>\n",
              "      <td>3000.0</td>\n",
              "      <td>1000.0</td>\n",
              "      <td>2000.0</td>\n",
              "      <td>0.0</td>\n",
              "    </tr>\n",
              "    <tr>\n",
              "      <th>12573</th>\n",
              "      <td>12574</td>\n",
              "      <td>10000</td>\n",
              "      <td>2.0</td>\n",
              "      <td>3.0</td>\n",
              "      <td>1.0</td>\n",
              "      <td>49.0</td>\n",
              "      <td>-1.0</td>\n",
              "      <td>-1.0</td>\n",
              "      <td>-2.0</td>\n",
              "      <td>-1.0</td>\n",
              "      <td>2.0</td>\n",
              "      <td>2.0</td>\n",
              "      <td>32.0</td>\n",
              "      <td>-358.0</td>\n",
              "      <td>-748.0</td>\n",
              "      <td>1690.0</td>\n",
              "      <td>1138.0</td>\n",
              "      <td>930.0</td>\n",
              "      <td>0.0</td>\n",
              "      <td>0.0</td>\n",
              "      <td>2828.0</td>\n",
              "      <td>0.0</td>\n",
              "      <td>182.0</td>\n",
              "      <td>0.0</td>\n",
              "      <td>1.0</td>\n",
              "    </tr>\n",
              "    <tr>\n",
              "      <th>29676</th>\n",
              "      <td>29677</td>\n",
              "      <td>50000</td>\n",
              "      <td>1.0</td>\n",
              "      <td>2.0</td>\n",
              "      <td>1.0</td>\n",
              "      <td>28.0</td>\n",
              "      <td>-1.0</td>\n",
              "      <td>-1.0</td>\n",
              "      <td>-1.0</td>\n",
              "      <td>0.0</td>\n",
              "      <td>-1.0</td>\n",
              "      <td>-1.0</td>\n",
              "      <td>430.0</td>\n",
              "      <td>0.0</td>\n",
              "      <td>46257.0</td>\n",
              "      <td>45975.0</td>\n",
              "      <td>1300.0</td>\n",
              "      <td>43987.0</td>\n",
              "      <td>0.0</td>\n",
              "      <td>46257.0</td>\n",
              "      <td>2200.0</td>\n",
              "      <td>1300.0</td>\n",
              "      <td>43987.0</td>\n",
              "      <td>1386.0</td>\n",
              "      <td>0.0</td>\n",
              "    </tr>\n",
              "    <tr>\n",
              "      <th>8856</th>\n",
              "      <td>8857</td>\n",
              "      <td>80000</td>\n",
              "      <td>2.0</td>\n",
              "      <td>3.0</td>\n",
              "      <td>1.0</td>\n",
              "      <td>52.0</td>\n",
              "      <td>2.0</td>\n",
              "      <td>2.0</td>\n",
              "      <td>3.0</td>\n",
              "      <td>3.0</td>\n",
              "      <td>3.0</td>\n",
              "      <td>2.0</td>\n",
              "      <td>36649.0</td>\n",
              "      <td>39448.0</td>\n",
              "      <td>40101.0</td>\n",
              "      <td>40748.0</td>\n",
              "      <td>39816.0</td>\n",
              "      <td>40607.0</td>\n",
              "      <td>3700.0</td>\n",
              "      <td>1600.0</td>\n",
              "      <td>1600.0</td>\n",
              "      <td>0.0</td>\n",
              "      <td>1600.0</td>\n",
              "      <td>1600.0</td>\n",
              "      <td>1.0</td>\n",
              "    </tr>\n",
              "    <tr>\n",
              "      <th>21098</th>\n",
              "      <td>21099</td>\n",
              "      <td>270000</td>\n",
              "      <td>1.0</td>\n",
              "      <td>1.0</td>\n",
              "      <td>2.0</td>\n",
              "      <td>34.0</td>\n",
              "      <td>1.0</td>\n",
              "      <td>2.0</td>\n",
              "      <td>0.0</td>\n",
              "      <td>0.0</td>\n",
              "      <td>2.0</td>\n",
              "      <td>0.0</td>\n",
              "      <td>20979.0</td>\n",
              "      <td>17228.0</td>\n",
              "      <td>20924.0</td>\n",
              "      <td>22448.0</td>\n",
              "      <td>15490.0</td>\n",
              "      <td>17343.0</td>\n",
              "      <td>0.0</td>\n",
              "      <td>4000.0</td>\n",
              "      <td>2000.0</td>\n",
              "      <td>0.0</td>\n",
              "      <td>2000.0</td>\n",
              "      <td>2000.0</td>\n",
              "      <td>0.0</td>\n",
              "    </tr>\n",
              "  </tbody>\n",
              "</table>\n",
              "</div>\n",
              "      <button class=\"colab-df-convert\" onclick=\"convertToInteractive('df-5bfa534e-4dda-49ed-b195-fc646f84a019')\"\n",
              "              title=\"Convert this dataframe to an interactive table.\"\n",
              "              style=\"display:none;\">\n",
              "        \n",
              "  <svg xmlns=\"http://www.w3.org/2000/svg\" height=\"24px\"viewBox=\"0 0 24 24\"\n",
              "       width=\"24px\">\n",
              "    <path d=\"M0 0h24v24H0V0z\" fill=\"none\"/>\n",
              "    <path d=\"M18.56 5.44l.94 2.06.94-2.06 2.06-.94-2.06-.94-.94-2.06-.94 2.06-2.06.94zm-11 1L8.5 8.5l.94-2.06 2.06-.94-2.06-.94L8.5 2.5l-.94 2.06-2.06.94zm10 10l.94 2.06.94-2.06 2.06-.94-2.06-.94-.94-2.06-.94 2.06-2.06.94z\"/><path d=\"M17.41 7.96l-1.37-1.37c-.4-.4-.92-.59-1.43-.59-.52 0-1.04.2-1.43.59L10.3 9.45l-7.72 7.72c-.78.78-.78 2.05 0 2.83L4 21.41c.39.39.9.59 1.41.59.51 0 1.02-.2 1.41-.59l7.78-7.78 2.81-2.81c.8-.78.8-2.07 0-2.86zM5.41 20L4 18.59l7.72-7.72 1.47 1.35L5.41 20z\"/>\n",
              "  </svg>\n",
              "      </button>\n",
              "      \n",
              "  <style>\n",
              "    .colab-df-container {\n",
              "      display:flex;\n",
              "      flex-wrap:wrap;\n",
              "      gap: 12px;\n",
              "    }\n",
              "\n",
              "    .colab-df-convert {\n",
              "      background-color: #E8F0FE;\n",
              "      border: none;\n",
              "      border-radius: 50%;\n",
              "      cursor: pointer;\n",
              "      display: none;\n",
              "      fill: #1967D2;\n",
              "      height: 32px;\n",
              "      padding: 0 0 0 0;\n",
              "      width: 32px;\n",
              "    }\n",
              "\n",
              "    .colab-df-convert:hover {\n",
              "      background-color: #E2EBFA;\n",
              "      box-shadow: 0px 1px 2px rgba(60, 64, 67, 0.3), 0px 1px 3px 1px rgba(60, 64, 67, 0.15);\n",
              "      fill: #174EA6;\n",
              "    }\n",
              "\n",
              "    [theme=dark] .colab-df-convert {\n",
              "      background-color: #3B4455;\n",
              "      fill: #D2E3FC;\n",
              "    }\n",
              "\n",
              "    [theme=dark] .colab-df-convert:hover {\n",
              "      background-color: #434B5C;\n",
              "      box-shadow: 0px 1px 3px 1px rgba(0, 0, 0, 0.15);\n",
              "      filter: drop-shadow(0px 1px 2px rgba(0, 0, 0, 0.3));\n",
              "      fill: #FFFFFF;\n",
              "    }\n",
              "  </style>\n",
              "\n",
              "      <script>\n",
              "        const buttonEl =\n",
              "          document.querySelector('#df-5bfa534e-4dda-49ed-b195-fc646f84a019 button.colab-df-convert');\n",
              "        buttonEl.style.display =\n",
              "          google.colab.kernel.accessAllowed ? 'block' : 'none';\n",
              "\n",
              "        async function convertToInteractive(key) {\n",
              "          const element = document.querySelector('#df-5bfa534e-4dda-49ed-b195-fc646f84a019');\n",
              "          const dataTable =\n",
              "            await google.colab.kernel.invokeFunction('convertToInteractive',\n",
              "                                                     [key], {});\n",
              "          if (!dataTable) return;\n",
              "\n",
              "          const docLinkHtml = 'Like what you see? Visit the ' +\n",
              "            '<a target=\"_blank\" href=https://colab.research.google.com/notebooks/data_table.ipynb>data table notebook</a>'\n",
              "            + ' to learn more about interactive tables.';\n",
              "          element.innerHTML = '';\n",
              "          dataTable['output_type'] = 'display_data';\n",
              "          await google.colab.output.renderOutput(dataTable, element);\n",
              "          const docLink = document.createElement('div');\n",
              "          docLink.innerHTML = docLinkHtml;\n",
              "          element.appendChild(docLink);\n",
              "        }\n",
              "      </script>\n",
              "    </div>\n",
              "  </div>\n",
              "  "
            ]
          },
          "metadata": {},
          "execution_count": 136
        }
      ],
      "source": [
        "# Muestra algunas filas en aleatorio del dataframe (df)\n",
        "df.sample(n=5, random_state=1)"
      ]
    },
    {
      "cell_type": "code",
      "execution_count": 137,
      "metadata": {
        "id": "P9anBtCG7mdz",
        "colab": {
          "base_uri": "https://localhost:8080/"
        },
        "outputId": "611921a9-a456-44d6-c065-91c26bcf12b0"
      },
      "outputs": [
        {
          "output_type": "stream",
          "name": "stdout",
          "text": [
            "Hay 30000 filas y 25 columnas.\n"
          ]
        }
      ],
      "source": [
        "# Revisa el número de columnas y filas\n",
        "print(f\"Hay {df.shape[0]} filas y {df.shape[1]} columnas.\")  # f-string"
      ]
    },
    {
      "cell_type": "code",
      "execution_count": 138,
      "metadata": {
        "id": "Id3XeGXPNLKP",
        "colab": {
          "base_uri": "https://localhost:8080/"
        },
        "outputId": "d7911820-22a8-46b5-cbc2-7ea56f9ae3df"
      },
      "outputs": [
        {
          "output_type": "stream",
          "name": "stdout",
          "text": [
            "<class 'pandas.core.frame.DataFrame'>\n",
            "RangeIndex: 30000 entries, 0 to 29999\n",
            "Data columns (total 25 columns):\n",
            " #   Column  Non-Null Count  Dtype  \n",
            "---  ------  --------------  -----  \n",
            " 0   ID      30000 non-null  int64  \n",
            " 1   X1      30000 non-null  int64  \n",
            " 2   X2      29999 non-null  float64\n",
            " 3   X3      29998 non-null  float64\n",
            " 4   X4      29998 non-null  float64\n",
            " 5   X5      29995 non-null  float64\n",
            " 6   X6      29997 non-null  float64\n",
            " 7   X7      29995 non-null  float64\n",
            " 8   X8      29993 non-null  float64\n",
            " 9   X9      29991 non-null  float64\n",
            " 10  X10     29984 non-null  float64\n",
            " 11  X11     29986 non-null  float64\n",
            " 12  X12     29989 non-null  float64\n",
            " 13  X13     29989 non-null  float64\n",
            " 14  X14     29987 non-null  float64\n",
            " 15  X15     29985 non-null  float64\n",
            " 16  X16     29983 non-null  float64\n",
            " 17  X17     29990 non-null  float64\n",
            " 18  X18     29992 non-null  float64\n",
            " 19  X19     29991 non-null  float64\n",
            " 20  X20     29992 non-null  float64\n",
            " 21  X21     29989 non-null  float64\n",
            " 22  X22     29989 non-null  float64\n",
            " 23  X23     29995 non-null  float64\n",
            " 24  Y       29997 non-null  float64\n",
            "dtypes: float64(23), int64(2)\n",
            "memory usage: 5.7 MB\n"
          ]
        }
      ],
      "source": [
        "# Muestra la info básica de las variables\n",
        "df.info()"
      ]
    },
    {
      "cell_type": "markdown",
      "metadata": {
        "id": "nFLroMQ8NOaz"
      },
      "source": [
        "**Comentarios:**\n",
        "\n",
        "-> El dataframe consta de 25 variables de las cuales una es la variable de respuesta, 23 son variables explicativa y una es el ID de cada cliente.\n",
        "\n",
        "-> La variable ID no nos da ninguna información.\n",
        "\n",
        "-> Hay algunas columnas con datos faltantes.\n",
        "\n",
        "-> Todas las variables son numéricas.\n",
        "\n",
        "-> Las variables X2 a X4, X6 a X11, e Y deberían ser categóricas.\n",
        " "
      ]
    },
    {
      "cell_type": "markdown",
      "metadata": {
        "id": "HcYlWPZTwGNQ"
      },
      "source": [
        "## Análisis de PCA\n",
        "\n",
        "PCA se usa principalmente con variables numericas. En este caso vamos a eliminar del dataframe las variables categoricas y la variable ID."
      ]
    },
    {
      "cell_type": "code",
      "execution_count": 139,
      "metadata": {
        "id": "ACz_baY59qf0"
      },
      "outputs": [],
      "source": [
        "# Crea una lista de variables categóricas\n",
        "cat=['X2', 'X3', 'X4', 'X6', 'X7', 'X8', 'X9', 'X10', 'X11', 'Y']\n",
        "id_=['ID']"
      ]
    },
    {
      "cell_type": "code",
      "execution_count": 140,
      "metadata": {
        "id": "vqumqGIMwGNQ"
      },
      "outputs": [],
      "source": [
        "# Deja unicamente las variables no categórias\n",
        "df=df.loc[:, ~df.columns.isin(cat+id_)]"
      ]
    },
    {
      "cell_type": "code",
      "execution_count": 141,
      "metadata": {
        "id": "l0hk6YnHwGNQ",
        "outputId": "c9d23f43-6724-4b58-bd32-3157ed28fa8b",
        "colab": {
          "base_uri": "https://localhost:8080/",
          "height": 206
        }
      },
      "outputs": [
        {
          "output_type": "execute_result",
          "data": {
            "text/plain": [
              "       X1    X5      X12      X13      X14      X15      X16      X17     X18  \\\n",
              "0   20000  24.0   3913.0   3102.0    689.0      0.0      0.0      0.0     0.0   \n",
              "1  120000  26.0   2682.0   1725.0   2682.0   3272.0   3455.0   3261.0     0.0   \n",
              "2   90000  34.0  29239.0  14027.0  13559.0  14331.0  14948.0  15549.0  1518.0   \n",
              "3   50000  37.0  46990.0  48233.0  49291.0  28314.0  28959.0  29547.0  2000.0   \n",
              "4   50000  57.0   8617.0   5670.0  35835.0  20940.0  19146.0  19131.0  2000.0   \n",
              "\n",
              "       X19      X20     X21     X22     X23  \n",
              "0    689.0      0.0     0.0     0.0     0.0  \n",
              "1   1000.0   1000.0  1000.0     0.0  2000.0  \n",
              "2   1500.0   1000.0  1000.0  1000.0  5000.0  \n",
              "3   2019.0   1200.0  1100.0  1069.0  1000.0  \n",
              "4  36681.0  10000.0  9000.0   689.0   679.0  "
            ],
            "text/html": [
              "\n",
              "  <div id=\"df-cf5ccb00-d4ba-4e27-8c75-6493a98325f8\">\n",
              "    <div class=\"colab-df-container\">\n",
              "      <div>\n",
              "<style scoped>\n",
              "    .dataframe tbody tr th:only-of-type {\n",
              "        vertical-align: middle;\n",
              "    }\n",
              "\n",
              "    .dataframe tbody tr th {\n",
              "        vertical-align: top;\n",
              "    }\n",
              "\n",
              "    .dataframe thead th {\n",
              "        text-align: right;\n",
              "    }\n",
              "</style>\n",
              "<table border=\"1\" class=\"dataframe\">\n",
              "  <thead>\n",
              "    <tr style=\"text-align: right;\">\n",
              "      <th></th>\n",
              "      <th>X1</th>\n",
              "      <th>X5</th>\n",
              "      <th>X12</th>\n",
              "      <th>X13</th>\n",
              "      <th>X14</th>\n",
              "      <th>X15</th>\n",
              "      <th>X16</th>\n",
              "      <th>X17</th>\n",
              "      <th>X18</th>\n",
              "      <th>X19</th>\n",
              "      <th>X20</th>\n",
              "      <th>X21</th>\n",
              "      <th>X22</th>\n",
              "      <th>X23</th>\n",
              "    </tr>\n",
              "  </thead>\n",
              "  <tbody>\n",
              "    <tr>\n",
              "      <th>0</th>\n",
              "      <td>20000</td>\n",
              "      <td>24.0</td>\n",
              "      <td>3913.0</td>\n",
              "      <td>3102.0</td>\n",
              "      <td>689.0</td>\n",
              "      <td>0.0</td>\n",
              "      <td>0.0</td>\n",
              "      <td>0.0</td>\n",
              "      <td>0.0</td>\n",
              "      <td>689.0</td>\n",
              "      <td>0.0</td>\n",
              "      <td>0.0</td>\n",
              "      <td>0.0</td>\n",
              "      <td>0.0</td>\n",
              "    </tr>\n",
              "    <tr>\n",
              "      <th>1</th>\n",
              "      <td>120000</td>\n",
              "      <td>26.0</td>\n",
              "      <td>2682.0</td>\n",
              "      <td>1725.0</td>\n",
              "      <td>2682.0</td>\n",
              "      <td>3272.0</td>\n",
              "      <td>3455.0</td>\n",
              "      <td>3261.0</td>\n",
              "      <td>0.0</td>\n",
              "      <td>1000.0</td>\n",
              "      <td>1000.0</td>\n",
              "      <td>1000.0</td>\n",
              "      <td>0.0</td>\n",
              "      <td>2000.0</td>\n",
              "    </tr>\n",
              "    <tr>\n",
              "      <th>2</th>\n",
              "      <td>90000</td>\n",
              "      <td>34.0</td>\n",
              "      <td>29239.0</td>\n",
              "      <td>14027.0</td>\n",
              "      <td>13559.0</td>\n",
              "      <td>14331.0</td>\n",
              "      <td>14948.0</td>\n",
              "      <td>15549.0</td>\n",
              "      <td>1518.0</td>\n",
              "      <td>1500.0</td>\n",
              "      <td>1000.0</td>\n",
              "      <td>1000.0</td>\n",
              "      <td>1000.0</td>\n",
              "      <td>5000.0</td>\n",
              "    </tr>\n",
              "    <tr>\n",
              "      <th>3</th>\n",
              "      <td>50000</td>\n",
              "      <td>37.0</td>\n",
              "      <td>46990.0</td>\n",
              "      <td>48233.0</td>\n",
              "      <td>49291.0</td>\n",
              "      <td>28314.0</td>\n",
              "      <td>28959.0</td>\n",
              "      <td>29547.0</td>\n",
              "      <td>2000.0</td>\n",
              "      <td>2019.0</td>\n",
              "      <td>1200.0</td>\n",
              "      <td>1100.0</td>\n",
              "      <td>1069.0</td>\n",
              "      <td>1000.0</td>\n",
              "    </tr>\n",
              "    <tr>\n",
              "      <th>4</th>\n",
              "      <td>50000</td>\n",
              "      <td>57.0</td>\n",
              "      <td>8617.0</td>\n",
              "      <td>5670.0</td>\n",
              "      <td>35835.0</td>\n",
              "      <td>20940.0</td>\n",
              "      <td>19146.0</td>\n",
              "      <td>19131.0</td>\n",
              "      <td>2000.0</td>\n",
              "      <td>36681.0</td>\n",
              "      <td>10000.0</td>\n",
              "      <td>9000.0</td>\n",
              "      <td>689.0</td>\n",
              "      <td>679.0</td>\n",
              "    </tr>\n",
              "  </tbody>\n",
              "</table>\n",
              "</div>\n",
              "      <button class=\"colab-df-convert\" onclick=\"convertToInteractive('df-cf5ccb00-d4ba-4e27-8c75-6493a98325f8')\"\n",
              "              title=\"Convert this dataframe to an interactive table.\"\n",
              "              style=\"display:none;\">\n",
              "        \n",
              "  <svg xmlns=\"http://www.w3.org/2000/svg\" height=\"24px\"viewBox=\"0 0 24 24\"\n",
              "       width=\"24px\">\n",
              "    <path d=\"M0 0h24v24H0V0z\" fill=\"none\"/>\n",
              "    <path d=\"M18.56 5.44l.94 2.06.94-2.06 2.06-.94-2.06-.94-.94-2.06-.94 2.06-2.06.94zm-11 1L8.5 8.5l.94-2.06 2.06-.94-2.06-.94L8.5 2.5l-.94 2.06-2.06.94zm10 10l.94 2.06.94-2.06 2.06-.94-2.06-.94-.94-2.06-.94 2.06-2.06.94z\"/><path d=\"M17.41 7.96l-1.37-1.37c-.4-.4-.92-.59-1.43-.59-.52 0-1.04.2-1.43.59L10.3 9.45l-7.72 7.72c-.78.78-.78 2.05 0 2.83L4 21.41c.39.39.9.59 1.41.59.51 0 1.02-.2 1.41-.59l7.78-7.78 2.81-2.81c.8-.78.8-2.07 0-2.86zM5.41 20L4 18.59l7.72-7.72 1.47 1.35L5.41 20z\"/>\n",
              "  </svg>\n",
              "      </button>\n",
              "      \n",
              "  <style>\n",
              "    .colab-df-container {\n",
              "      display:flex;\n",
              "      flex-wrap:wrap;\n",
              "      gap: 12px;\n",
              "    }\n",
              "\n",
              "    .colab-df-convert {\n",
              "      background-color: #E8F0FE;\n",
              "      border: none;\n",
              "      border-radius: 50%;\n",
              "      cursor: pointer;\n",
              "      display: none;\n",
              "      fill: #1967D2;\n",
              "      height: 32px;\n",
              "      padding: 0 0 0 0;\n",
              "      width: 32px;\n",
              "    }\n",
              "\n",
              "    .colab-df-convert:hover {\n",
              "      background-color: #E2EBFA;\n",
              "      box-shadow: 0px 1px 2px rgba(60, 64, 67, 0.3), 0px 1px 3px 1px rgba(60, 64, 67, 0.15);\n",
              "      fill: #174EA6;\n",
              "    }\n",
              "\n",
              "    [theme=dark] .colab-df-convert {\n",
              "      background-color: #3B4455;\n",
              "      fill: #D2E3FC;\n",
              "    }\n",
              "\n",
              "    [theme=dark] .colab-df-convert:hover {\n",
              "      background-color: #434B5C;\n",
              "      box-shadow: 0px 1px 3px 1px rgba(0, 0, 0, 0.15);\n",
              "      filter: drop-shadow(0px 1px 2px rgba(0, 0, 0, 0.3));\n",
              "      fill: #FFFFFF;\n",
              "    }\n",
              "  </style>\n",
              "\n",
              "      <script>\n",
              "        const buttonEl =\n",
              "          document.querySelector('#df-cf5ccb00-d4ba-4e27-8c75-6493a98325f8 button.colab-df-convert');\n",
              "        buttonEl.style.display =\n",
              "          google.colab.kernel.accessAllowed ? 'block' : 'none';\n",
              "\n",
              "        async function convertToInteractive(key) {\n",
              "          const element = document.querySelector('#df-cf5ccb00-d4ba-4e27-8c75-6493a98325f8');\n",
              "          const dataTable =\n",
              "            await google.colab.kernel.invokeFunction('convertToInteractive',\n",
              "                                                     [key], {});\n",
              "          if (!dataTable) return;\n",
              "\n",
              "          const docLinkHtml = 'Like what you see? Visit the ' +\n",
              "            '<a target=\"_blank\" href=https://colab.research.google.com/notebooks/data_table.ipynb>data table notebook</a>'\n",
              "            + ' to learn more about interactive tables.';\n",
              "          element.innerHTML = '';\n",
              "          dataTable['output_type'] = 'display_data';\n",
              "          await google.colab.output.renderOutput(dataTable, element);\n",
              "          const docLink = document.createElement('div');\n",
              "          docLink.innerHTML = docLinkHtml;\n",
              "          element.appendChild(docLink);\n",
              "        }\n",
              "      </script>\n",
              "    </div>\n",
              "  </div>\n",
              "  "
            ]
          },
          "metadata": {},
          "execution_count": 141
        }
      ],
      "source": [
        "# Muestra las primeras 5 filas de la base\n",
        "df.head()"
      ]
    },
    {
      "cell_type": "code",
      "execution_count": 142,
      "metadata": {
        "colab": {
          "base_uri": "https://localhost:8080/"
        },
        "id": "tURlTpfi-IrX",
        "outputId": "bed63105-e682-468c-b8ba-bcccd814c959"
      },
      "outputs": [
        {
          "output_type": "stream",
          "name": "stdout",
          "text": [
            "<class 'pandas.core.frame.DataFrame'>\n",
            "RangeIndex: 30000 entries, 0 to 29999\n",
            "Data columns (total 14 columns):\n",
            " #   Column  Non-Null Count  Dtype  \n",
            "---  ------  --------------  -----  \n",
            " 0   X1      30000 non-null  int64  \n",
            " 1   X5      29995 non-null  float64\n",
            " 2   X12     29989 non-null  float64\n",
            " 3   X13     29989 non-null  float64\n",
            " 4   X14     29987 non-null  float64\n",
            " 5   X15     29985 non-null  float64\n",
            " 6   X16     29983 non-null  float64\n",
            " 7   X17     29990 non-null  float64\n",
            " 8   X18     29992 non-null  float64\n",
            " 9   X19     29991 non-null  float64\n",
            " 10  X20     29992 non-null  float64\n",
            " 11  X21     29989 non-null  float64\n",
            " 12  X22     29989 non-null  float64\n",
            " 13  X23     29995 non-null  float64\n",
            "dtypes: float64(13), int64(1)\n",
            "memory usage: 3.2 MB\n"
          ]
        }
      ],
      "source": [
        "# Muestra la info básica de las variables\n",
        "df.info()"
      ]
    },
    {
      "cell_type": "markdown",
      "metadata": {
        "id": "ahEpqQFPPM4r"
      },
      "source": [
        "**Comentarios:**\n",
        "\n",
        "-> Se elimino la columna ID.\n",
        "\n",
        "-> Se eliminaron las variables categoricas"
      ]
    },
    {
      "cell_type": "code",
      "execution_count": 143,
      "metadata": {
        "colab": {
          "base_uri": "https://localhost:8080/",
          "height": 488
        },
        "id": "QYTe_2cSJc71",
        "outputId": "35b3fb44-411d-45c6-965f-6b958eaf292e"
      },
      "outputs": [
        {
          "output_type": "execute_result",
          "data": {
            "text/plain": [
              "       count           mean            std       min       25%       50%  \\\n",
              "X1   30000.0  167484.322667  129747.661567   10000.0  50000.00  140000.0   \n",
              "X5   29995.0      35.484214       9.218024      21.0     28.00      34.0   \n",
              "X12  29989.0   51236.862750   73645.219278 -165580.0   3565.00   22387.0   \n",
              "X13  29989.0   49190.734669   71183.385123  -69777.0   2986.00   21207.0   \n",
              "X14  29987.0   47025.350152   69360.863317 -157264.0   2667.50   20089.0   \n",
              "X15  29985.0   43275.652326   64345.500073 -170000.0   2329.00   19052.0   \n",
              "X16  29983.0   40324.493980   60809.984983  -81334.0   1763.50   18107.0   \n",
              "X17  29990.0   38881.135745   59561.312967 -339603.0   1256.25   17081.0   \n",
              "X18  29992.0    5662.945886   16564.165089       0.0   1000.00    2100.0   \n",
              "X19  29991.0    5922.488913   23044.177075       0.0    835.50    2009.0   \n",
              "X20  29992.0    5225.623400   17608.422625       0.0    390.00    1800.0   \n",
              "X21  29989.0    4827.252526   15668.751975       0.0    296.00    1500.0   \n",
              "X22  29989.0    4800.297209   15280.842069       0.0    251.00    1500.0   \n",
              "X23  29995.0    5216.259977   17778.848359       0.0    118.00    1500.0   \n",
              "\n",
              "           75%        max  \n",
              "X1   240000.00  1000000.0  \n",
              "X5       41.00       79.0  \n",
              "X12   67139.00   964511.0  \n",
              "X13   64027.00   983931.0  \n",
              "X14   60182.00  1664089.0  \n",
              "X15   54560.00   891586.0  \n",
              "X16   50213.00   927171.0  \n",
              "X17   49208.25   961664.0  \n",
              "X18    5006.00   873552.0  \n",
              "X19    5000.00  1684259.0  \n",
              "X20    4505.50   896040.0  \n",
              "X21    4014.00   621000.0  \n",
              "X22    4033.00   426529.0  \n",
              "X23    4000.00   528666.0  "
            ],
            "text/html": [
              "\n",
              "  <div id=\"df-65976442-4fec-4780-9196-96b9ae84f741\">\n",
              "    <div class=\"colab-df-container\">\n",
              "      <div>\n",
              "<style scoped>\n",
              "    .dataframe tbody tr th:only-of-type {\n",
              "        vertical-align: middle;\n",
              "    }\n",
              "\n",
              "    .dataframe tbody tr th {\n",
              "        vertical-align: top;\n",
              "    }\n",
              "\n",
              "    .dataframe thead th {\n",
              "        text-align: right;\n",
              "    }\n",
              "</style>\n",
              "<table border=\"1\" class=\"dataframe\">\n",
              "  <thead>\n",
              "    <tr style=\"text-align: right;\">\n",
              "      <th></th>\n",
              "      <th>count</th>\n",
              "      <th>mean</th>\n",
              "      <th>std</th>\n",
              "      <th>min</th>\n",
              "      <th>25%</th>\n",
              "      <th>50%</th>\n",
              "      <th>75%</th>\n",
              "      <th>max</th>\n",
              "    </tr>\n",
              "  </thead>\n",
              "  <tbody>\n",
              "    <tr>\n",
              "      <th>X1</th>\n",
              "      <td>30000.0</td>\n",
              "      <td>167484.322667</td>\n",
              "      <td>129747.661567</td>\n",
              "      <td>10000.0</td>\n",
              "      <td>50000.00</td>\n",
              "      <td>140000.0</td>\n",
              "      <td>240000.00</td>\n",
              "      <td>1000000.0</td>\n",
              "    </tr>\n",
              "    <tr>\n",
              "      <th>X5</th>\n",
              "      <td>29995.0</td>\n",
              "      <td>35.484214</td>\n",
              "      <td>9.218024</td>\n",
              "      <td>21.0</td>\n",
              "      <td>28.00</td>\n",
              "      <td>34.0</td>\n",
              "      <td>41.00</td>\n",
              "      <td>79.0</td>\n",
              "    </tr>\n",
              "    <tr>\n",
              "      <th>X12</th>\n",
              "      <td>29989.0</td>\n",
              "      <td>51236.862750</td>\n",
              "      <td>73645.219278</td>\n",
              "      <td>-165580.0</td>\n",
              "      <td>3565.00</td>\n",
              "      <td>22387.0</td>\n",
              "      <td>67139.00</td>\n",
              "      <td>964511.0</td>\n",
              "    </tr>\n",
              "    <tr>\n",
              "      <th>X13</th>\n",
              "      <td>29989.0</td>\n",
              "      <td>49190.734669</td>\n",
              "      <td>71183.385123</td>\n",
              "      <td>-69777.0</td>\n",
              "      <td>2986.00</td>\n",
              "      <td>21207.0</td>\n",
              "      <td>64027.00</td>\n",
              "      <td>983931.0</td>\n",
              "    </tr>\n",
              "    <tr>\n",
              "      <th>X14</th>\n",
              "      <td>29987.0</td>\n",
              "      <td>47025.350152</td>\n",
              "      <td>69360.863317</td>\n",
              "      <td>-157264.0</td>\n",
              "      <td>2667.50</td>\n",
              "      <td>20089.0</td>\n",
              "      <td>60182.00</td>\n",
              "      <td>1664089.0</td>\n",
              "    </tr>\n",
              "    <tr>\n",
              "      <th>X15</th>\n",
              "      <td>29985.0</td>\n",
              "      <td>43275.652326</td>\n",
              "      <td>64345.500073</td>\n",
              "      <td>-170000.0</td>\n",
              "      <td>2329.00</td>\n",
              "      <td>19052.0</td>\n",
              "      <td>54560.00</td>\n",
              "      <td>891586.0</td>\n",
              "    </tr>\n",
              "    <tr>\n",
              "      <th>X16</th>\n",
              "      <td>29983.0</td>\n",
              "      <td>40324.493980</td>\n",
              "      <td>60809.984983</td>\n",
              "      <td>-81334.0</td>\n",
              "      <td>1763.50</td>\n",
              "      <td>18107.0</td>\n",
              "      <td>50213.00</td>\n",
              "      <td>927171.0</td>\n",
              "    </tr>\n",
              "    <tr>\n",
              "      <th>X17</th>\n",
              "      <td>29990.0</td>\n",
              "      <td>38881.135745</td>\n",
              "      <td>59561.312967</td>\n",
              "      <td>-339603.0</td>\n",
              "      <td>1256.25</td>\n",
              "      <td>17081.0</td>\n",
              "      <td>49208.25</td>\n",
              "      <td>961664.0</td>\n",
              "    </tr>\n",
              "    <tr>\n",
              "      <th>X18</th>\n",
              "      <td>29992.0</td>\n",
              "      <td>5662.945886</td>\n",
              "      <td>16564.165089</td>\n",
              "      <td>0.0</td>\n",
              "      <td>1000.00</td>\n",
              "      <td>2100.0</td>\n",
              "      <td>5006.00</td>\n",
              "      <td>873552.0</td>\n",
              "    </tr>\n",
              "    <tr>\n",
              "      <th>X19</th>\n",
              "      <td>29991.0</td>\n",
              "      <td>5922.488913</td>\n",
              "      <td>23044.177075</td>\n",
              "      <td>0.0</td>\n",
              "      <td>835.50</td>\n",
              "      <td>2009.0</td>\n",
              "      <td>5000.00</td>\n",
              "      <td>1684259.0</td>\n",
              "    </tr>\n",
              "    <tr>\n",
              "      <th>X20</th>\n",
              "      <td>29992.0</td>\n",
              "      <td>5225.623400</td>\n",
              "      <td>17608.422625</td>\n",
              "      <td>0.0</td>\n",
              "      <td>390.00</td>\n",
              "      <td>1800.0</td>\n",
              "      <td>4505.50</td>\n",
              "      <td>896040.0</td>\n",
              "    </tr>\n",
              "    <tr>\n",
              "      <th>X21</th>\n",
              "      <td>29989.0</td>\n",
              "      <td>4827.252526</td>\n",
              "      <td>15668.751975</td>\n",
              "      <td>0.0</td>\n",
              "      <td>296.00</td>\n",
              "      <td>1500.0</td>\n",
              "      <td>4014.00</td>\n",
              "      <td>621000.0</td>\n",
              "    </tr>\n",
              "    <tr>\n",
              "      <th>X22</th>\n",
              "      <td>29989.0</td>\n",
              "      <td>4800.297209</td>\n",
              "      <td>15280.842069</td>\n",
              "      <td>0.0</td>\n",
              "      <td>251.00</td>\n",
              "      <td>1500.0</td>\n",
              "      <td>4033.00</td>\n",
              "      <td>426529.0</td>\n",
              "    </tr>\n",
              "    <tr>\n",
              "      <th>X23</th>\n",
              "      <td>29995.0</td>\n",
              "      <td>5216.259977</td>\n",
              "      <td>17778.848359</td>\n",
              "      <td>0.0</td>\n",
              "      <td>118.00</td>\n",
              "      <td>1500.0</td>\n",
              "      <td>4000.00</td>\n",
              "      <td>528666.0</td>\n",
              "    </tr>\n",
              "  </tbody>\n",
              "</table>\n",
              "</div>\n",
              "      <button class=\"colab-df-convert\" onclick=\"convertToInteractive('df-65976442-4fec-4780-9196-96b9ae84f741')\"\n",
              "              title=\"Convert this dataframe to an interactive table.\"\n",
              "              style=\"display:none;\">\n",
              "        \n",
              "  <svg xmlns=\"http://www.w3.org/2000/svg\" height=\"24px\"viewBox=\"0 0 24 24\"\n",
              "       width=\"24px\">\n",
              "    <path d=\"M0 0h24v24H0V0z\" fill=\"none\"/>\n",
              "    <path d=\"M18.56 5.44l.94 2.06.94-2.06 2.06-.94-2.06-.94-.94-2.06-.94 2.06-2.06.94zm-11 1L8.5 8.5l.94-2.06 2.06-.94-2.06-.94L8.5 2.5l-.94 2.06-2.06.94zm10 10l.94 2.06.94-2.06 2.06-.94-2.06-.94-.94-2.06-.94 2.06-2.06.94z\"/><path d=\"M17.41 7.96l-1.37-1.37c-.4-.4-.92-.59-1.43-.59-.52 0-1.04.2-1.43.59L10.3 9.45l-7.72 7.72c-.78.78-.78 2.05 0 2.83L4 21.41c.39.39.9.59 1.41.59.51 0 1.02-.2 1.41-.59l7.78-7.78 2.81-2.81c.8-.78.8-2.07 0-2.86zM5.41 20L4 18.59l7.72-7.72 1.47 1.35L5.41 20z\"/>\n",
              "  </svg>\n",
              "      </button>\n",
              "      \n",
              "  <style>\n",
              "    .colab-df-container {\n",
              "      display:flex;\n",
              "      flex-wrap:wrap;\n",
              "      gap: 12px;\n",
              "    }\n",
              "\n",
              "    .colab-df-convert {\n",
              "      background-color: #E8F0FE;\n",
              "      border: none;\n",
              "      border-radius: 50%;\n",
              "      cursor: pointer;\n",
              "      display: none;\n",
              "      fill: #1967D2;\n",
              "      height: 32px;\n",
              "      padding: 0 0 0 0;\n",
              "      width: 32px;\n",
              "    }\n",
              "\n",
              "    .colab-df-convert:hover {\n",
              "      background-color: #E2EBFA;\n",
              "      box-shadow: 0px 1px 2px rgba(60, 64, 67, 0.3), 0px 1px 3px 1px rgba(60, 64, 67, 0.15);\n",
              "      fill: #174EA6;\n",
              "    }\n",
              "\n",
              "    [theme=dark] .colab-df-convert {\n",
              "      background-color: #3B4455;\n",
              "      fill: #D2E3FC;\n",
              "    }\n",
              "\n",
              "    [theme=dark] .colab-df-convert:hover {\n",
              "      background-color: #434B5C;\n",
              "      box-shadow: 0px 1px 3px 1px rgba(0, 0, 0, 0.15);\n",
              "      filter: drop-shadow(0px 1px 2px rgba(0, 0, 0, 0.3));\n",
              "      fill: #FFFFFF;\n",
              "    }\n",
              "  </style>\n",
              "\n",
              "      <script>\n",
              "        const buttonEl =\n",
              "          document.querySelector('#df-65976442-4fec-4780-9196-96b9ae84f741 button.colab-df-convert');\n",
              "        buttonEl.style.display =\n",
              "          google.colab.kernel.accessAllowed ? 'block' : 'none';\n",
              "\n",
              "        async function convertToInteractive(key) {\n",
              "          const element = document.querySelector('#df-65976442-4fec-4780-9196-96b9ae84f741');\n",
              "          const dataTable =\n",
              "            await google.colab.kernel.invokeFunction('convertToInteractive',\n",
              "                                                     [key], {});\n",
              "          if (!dataTable) return;\n",
              "\n",
              "          const docLinkHtml = 'Like what you see? Visit the ' +\n",
              "            '<a target=\"_blank\" href=https://colab.research.google.com/notebooks/data_table.ipynb>data table notebook</a>'\n",
              "            + ' to learn more about interactive tables.';\n",
              "          element.innerHTML = '';\n",
              "          dataTable['output_type'] = 'display_data';\n",
              "          await google.colab.output.renderOutput(dataTable, element);\n",
              "          const docLink = document.createElement('div');\n",
              "          docLink.innerHTML = docLinkHtml;\n",
              "          element.appendChild(docLink);\n",
              "        }\n",
              "      </script>\n",
              "    </div>\n",
              "  </div>\n",
              "  "
            ]
          },
          "metadata": {},
          "execution_count": 143
        }
      ],
      "source": [
        "# Muestra un resumen estadístico de todas las variables\n",
        "df.describe(include=\"all\").T"
      ]
    },
    {
      "cell_type": "code",
      "execution_count": 144,
      "metadata": {
        "id": "cvZbjNpRwGNR",
        "outputId": "01698546-fb28-46e0-f479-4802276394e2",
        "colab": {
          "base_uri": "https://localhost:8080/"
        }
      },
      "outputs": [
        {
          "output_type": "execute_result",
          "data": {
            "text/plain": [
              "X1      0\n",
              "X5      5\n",
              "X12    11\n",
              "X13    11\n",
              "X14    13\n",
              "X15    15\n",
              "X16    17\n",
              "X17    10\n",
              "X18     8\n",
              "X19     9\n",
              "X20     8\n",
              "X21    11\n",
              "X22    11\n",
              "X23     5\n",
              "dtype: int64"
            ]
          },
          "metadata": {},
          "execution_count": 144
        }
      ],
      "source": [
        "# Revisa si hay valores faltantes\n",
        "df.isnull().sum()"
      ]
    },
    {
      "cell_type": "markdown",
      "metadata": {
        "id": "Nrpz5LO4NFqW"
      },
      "source": [
        "**Comentarios:**\n",
        "\n",
        "-> Hay varias variables númericas con potenciales outliers ya que se observa una diferencia muy grande entre el min y el primer cuartil, y entre el máximo y el tercer cuartil.\n",
        "\n",
        "-> Varias variables tienen valores faltantes\n"
      ]
    },
    {
      "cell_type": "code",
      "execution_count": 145,
      "metadata": {
        "id": "7Ur7W8NiwGNR"
      },
      "outputs": [],
      "source": [
        "# Procedemos a imputar con la mediana estos valores faltantes\n",
        "for n in df.columns:\n",
        "  df[n].fillna(df[n].median(), inplace=True)"
      ]
    },
    {
      "cell_type": "code",
      "execution_count": 146,
      "metadata": {
        "id": "egbIgkSfwGNR",
        "outputId": "340e89ea-e9f3-4e80-e5ec-c02150a51ba6",
        "colab": {
          "base_uri": "https://localhost:8080/"
        }
      },
      "outputs": [
        {
          "output_type": "execute_result",
          "data": {
            "text/plain": [
              "X1     0\n",
              "X5     0\n",
              "X12    0\n",
              "X13    0\n",
              "X14    0\n",
              "X15    0\n",
              "X16    0\n",
              "X17    0\n",
              "X18    0\n",
              "X19    0\n",
              "X20    0\n",
              "X21    0\n",
              "X22    0\n",
              "X23    0\n",
              "dtype: int64"
            ]
          },
          "metadata": {},
          "execution_count": 146
        }
      ],
      "source": [
        "# Revisa si hay valores faltantes\n",
        "df.isnull().sum()"
      ]
    },
    {
      "cell_type": "markdown",
      "metadata": {
        "id": "4svkpAfmSndP"
      },
      "source": [
        "### Análisis Exploratorio de Datos"
      ]
    },
    {
      "cell_type": "code",
      "execution_count": 147,
      "metadata": {
        "id": "-Bv3Z14DS0qV"
      },
      "outputs": [],
      "source": [
        "# función para crear un boxplot y un histograma en la misma escala.\n",
        "\n",
        "\n",
        "def histogram_boxplot(data, feature, figsize=(12, 7), kde=False, bins=None):\n",
        "    \"\"\"\n",
        "    Boxplot and histogram combined\n",
        "\n",
        "    data: dataframe\n",
        "    feature: dataframe column\n",
        "    figsize: size of figure (default (12,7))\n",
        "    kde: whether to show the density curve (default False)\n",
        "    bins: number of bins for histogram (default None)\n",
        "    \"\"\"\n",
        "    f2, (ax_box2, ax_hist2) = plt.subplots(\n",
        "        nrows=2,  # Number of rows of the subplot grid= 2\n",
        "        sharex=True,  # x-axis will be shared among all subplots\n",
        "        gridspec_kw={\"height_ratios\": (0.25, 0.75)},\n",
        "        figsize=figsize,\n",
        "    )\n",
        "    # creating the 2 subplots\n",
        "\n",
        "    sns.boxplot(data=data, x=feature, ax=ax_box2, showmeans=True, color=\"violet\")\n",
        "    # boxplot will be created and a star will indicate the mean value of the column\n",
        "\n",
        "    sns.histplot(\n",
        "        data=data, x=feature, kde=kde, ax=ax_hist2, bins=bins, palette=\"winter\"\n",
        "    ) if bins else sns.histplot(data=data, x=feature, kde=kde, ax=ax_hist2)\n",
        "    # For histogram\n",
        "\n",
        "    ax_hist2.axvline(data[feature].mean(), color=\"green\", linestyle=\"--\")\n",
        "    # Add mean to the histogram\n",
        "\n",
        "    ax_hist2.axvline(data[feature].median(), color=\"black\", linestyle=\"-\")\n",
        "    # Add median to the histogram"
      ]
    },
    {
      "cell_type": "code",
      "execution_count": 148,
      "metadata": {
        "id": "neDcOH6aS0td"
      },
      "outputs": [],
      "source": [
        "# función para crear barplot con etiquetas\n",
        "\n",
        "\n",
        "def labeled_barplot(data, feature, perc=False, n=None):\n",
        "    \"\"\"\n",
        "    Barplot with percentage at the top\n",
        "\n",
        "    data: dataframe\n",
        "    feature: dataframe column\n",
        "    perc: whether to display percentages instead of count (default is False)\n",
        "    n: displays the top n category levels (default is None, i.e., display all levels)\n",
        "    \"\"\"\n",
        "\n",
        "    total = len(data[feature])  # length of the column\n",
        "    count = data[feature].nunique()\n",
        "    if n is None:\n",
        "        plt.figure(figsize=(count + 1, 5))\n",
        "    else:\n",
        "        plt.figure(figsize=(n + 1, 5))\n",
        "\n",
        "    plt.xticks(rotation=90, fontsize=15)\n",
        "    ax = sns.countplot(\n",
        "        data=data,\n",
        "        x=feature,\n",
        "        palette=\"Paired\",\n",
        "        order=data[feature].value_counts().index[:n].sort_values(),\n",
        "    )\n",
        "\n",
        "    for p in ax.patches:\n",
        "        if perc == True:\n",
        "            label = \"{:.1f}%\".format(\n",
        "                100 * p.get_height() / total\n",
        "            )  # percentage of each class of the category\n",
        "        else:\n",
        "            label = p.get_height()  # count of each level of the category\n",
        "\n",
        "        x = p.get_x() + p.get_width() / 2  # width of the plot\n",
        "        y = p.get_height()  # height of the plot\n",
        "\n",
        "        ax.annotate(\n",
        "            label,\n",
        "            (x, y),\n",
        "            ha=\"center\",\n",
        "            va=\"center\",\n",
        "            size=12,\n",
        "            xytext=(0, 5),\n",
        "            textcoords=\"offset points\",\n",
        "        )  # annotate the percentage\n",
        "\n",
        "    plt.show()  # show the plot"
      ]
    },
    {
      "cell_type": "markdown",
      "metadata": {
        "id": "QgcW18lVTPZh"
      },
      "source": [
        "** Graficar Variables numéricas**"
      ]
    },
    {
      "cell_type": "code",
      "execution_count": 149,
      "metadata": {
        "colab": {
          "base_uri": "https://localhost:8080/",
          "height": 1000
        },
        "id": "NUEP2VxSTOvd",
        "outputId": "9a05e19c-b8b2-4f14-c1cd-f89ec3df2efa"
      },
      "outputs": [
        {
          "output_type": "display_data",
          "data": {
            "text/plain": [
              "<Figure size 864x504 with 2 Axes>"
            ],
            "image/png": "[encoded data removed]"
          },
          "metadata": {
            "needs_background": "light"
          }
        },
        {
          "output_type": "display_data",
          "data": {
            "text/plain": [
              "<Figure size 864x504 with 2 Axes>"
            ],
            "image/png": "[encoded data removed]"
          },
          "metadata": {
            "needs_background": "light"
          }
        },
        {
          "output_type": "display_data",
          "data": {
            "text/plain": [
              "<Figure size 864x504 with 2 Axes>"
            ],
            "image/png": "[encoded data removed]"
          },
          "metadata": {
            "needs_background": "light"
          }
        },
        {
          "output_type": "display_data",
          "data": {
            "text/plain": [
              "<Figure size 864x504 with 2 Axes>"
            ],
            "image/png": "[encoded data removed]"
          },
          "metadata": {
            "needs_background": "light"
          }
        },
        {
          "output_type": "display_data",
          "data": {
            "text/plain": [
              "<Figure size 864x504 with 2 Axes>"
            ],
            "image/png": "[encoded data removed]"
          },
          "metadata": {
            "needs_background": "light"
          }
        },
        {
          "output_type": "display_data",
          "data": {
            "text/plain": [
              "<Figure size 864x504 with 2 Axes>"
            ],
            "image/png": "[encoded data removed]"
          },
          "metadata": {
            "needs_background": "light"
          }
        },
        {
          "output_type": "display_data",
          "data": {
            "text/plain": [
              "<Figure size 864x504 with 2 Axes>"
            ],
            "image/png": "[encoded data removed]"
          },
          "metadata": {
            "needs_background": "light"
          }
        },
        {
          "output_type": "display_data",
          "data": {
            "text/plain": [
              "<Figure size 864x504 with 2 Axes>"
            ],
            "image/png": "[encoded data removed]"
          },
          "metadata": {
            "needs_background": "light"
          }
        },
        {
          "output_type": "display_data",
          "data": {
            "text/plain": [
              "<Figure size 864x504 with 2 Axes>"
            ],
            "image/png": "[encoded data removed]"
          },
          "metadata": {
            "needs_background": "light"
          }
        },
        {
          "output_type": "display_data",
          "data": {
            "text/plain": [
              "<Figure size 864x504 with 2 Axes>"
            ],
            "image/png": "[encoded data removed]"
          },
          "metadata": {
            "needs_background": "light"
          }
        },
        {
          "output_type": "display_data",
          "data": {
            "text/plain": [
              "<Figure size 864x504 with 2 Axes>"
            ],
            "image/png": "[encoded data removed]"
          },
          "metadata": {
            "needs_background": "light"
          }
        },
        {
          "output_type": "display_data",
          "data": {
            "text/plain": [
              "<Figure size 864x504 with 2 Axes>"
            ],
            "image/png": "[encoded data removed]"
          },
          "metadata": {
            "needs_background": "light"
          }
        },
        {
          "output_type": "display_data",
          "data": {
            "text/plain": [
              "<Figure size 864x504 with 2 Axes>"
            ],
            "image/png": "[encoded data removed]"
          },
          "metadata": {
            "needs_background": "light"
          }
        },
        {
          "output_type": "display_data",
          "data": {
            "text/plain": [
              "<Figure size 864x504 with 2 Axes>"
            ],
            "image/png": "[encoded data removed]"
          },
          "metadata": {
            "needs_background": "light"
          }
        }
      ],
      "source": [
        "# Crea lista de las variables numericas\n",
        "#num_col = df.columns[df.dtypes != \"category\"]\n",
        "\n",
        "for n in df.columns:\n",
        "  histogram_boxplot(data=df, feature=n, kde=True)"
      ]
    },
    {
      "cell_type": "markdown",
      "metadata": {
        "id": "UUSZmBlDUYz3"
      },
      "source": [
        "**Comentarios:**\n",
        "\n",
        "-> Se observa que todas las variables tienen sesgo a la izquierda y la mayoría tienen muchos valores que potencialmente podrían ser outliers."
      ]
    },
    {
      "cell_type": "code",
      "execution_count": 150,
      "metadata": {
        "id": "QOopr5iowGNS",
        "outputId": "7189709d-c153-4290-cb18-fb36bae437b9",
        "colab": {
          "base_uri": "https://localhost:8080/",
          "height": 616
        }
      },
      "outputs": [
        {
          "output_type": "execute_result",
          "data": {
            "text/plain": [
              "<matplotlib.axes._subplots.AxesSubplot at 0x7f5995476290>"
            ]
          },
          "metadata": {},
          "execution_count": 150
        },
        {
          "output_type": "display_data",
          "data": {
            "text/plain": [
              "<Figure size 1080x720 with 2 Axes>"
            ],
            "image/png": "[encoded data removed]"
          },
          "metadata": {}
        }
      ],
      "source": [
        "# Crea gráfico de correleción con codigo de colores\n",
        "sns.set(rc = {'figure.figsize':(15,10)})\n",
        "sns.heatmap(df.corr(), vmin = -1, vmax = 1, cmap = \"BuGn\", annot= True)"
      ]
    },
    {
      "cell_type": "markdown",
      "metadata": {
        "id": "HOoaS9OZwGNS"
      },
      "source": [
        "**Comentarios:**\n",
        "\n",
        "-> Se observa correlacion entre varias variables. Principalmente entre las variables: X12 con X13 a X17, X13 con X14 a X17, X15 con X16 y X17, y, X16 con X17."
      ]
    },
    {
      "cell_type": "code",
      "source": [
        "# Revisión de la varianza explicada por las variales para las variables X1, X5, X12\n",
        "# Solo se va a revisar algunas para darse una idea.\n",
        "\n",
        "cols=[\"X1\",\"X5\",\"X12\"]\n",
        "\n",
        "summary={\"Varianza total\":df[cols].var()[0:3],\n",
        "         \"Valor min\":df[cols].min()[0:3],\n",
        "         \"Valor Max\":df[cols].max()[0:3]}\n",
        "\n",
        "pd.DataFrame(summary,index=cols).transpose()"
      ],
      "metadata": {
        "colab": {
          "base_uri": "https://localhost:8080/",
          "height": 143
        },
        "id": "tHL3wDvO5cz0",
        "outputId": "c182b685-1771-473d-a488-aae895e47761"
      },
      "execution_count": 151,
      "outputs": [
        {
          "output_type": "execute_result",
          "data": {
            "text/plain": [
              "                          X1         X5           X12\n",
              "Varianza total  1.683446e+10  84.958175  5.421935e+09\n",
              "Valor min       1.000000e+04  21.000000 -1.655800e+05\n",
              "Valor Max       1.000000e+06  79.000000  9.645110e+05"
            ],
            "text/html": [
              "\n",
              "  <div id=\"df-f283b8ae-10b2-4577-9bc4-86d6b3d2a818\">\n",
              "    <div class=\"colab-df-container\">\n",
              "      <div>\n",
              "<style scoped>\n",
              "    .dataframe tbody tr th:only-of-type {\n",
              "        vertical-align: middle;\n",
              "    }\n",
              "\n",
              "    .dataframe tbody tr th {\n",
              "        vertical-align: top;\n",
              "    }\n",
              "\n",
              "    .dataframe thead th {\n",
              "        text-align: right;\n",
              "    }\n",
              "</style>\n",
              "<table border=\"1\" class=\"dataframe\">\n",
              "  <thead>\n",
              "    <tr style=\"text-align: right;\">\n",
              "      <th></th>\n",
              "      <th>X1</th>\n",
              "      <th>X5</th>\n",
              "      <th>X12</th>\n",
              "    </tr>\n",
              "  </thead>\n",
              "  <tbody>\n",
              "    <tr>\n",
              "      <th>Varianza total</th>\n",
              "      <td>1.683446e+10</td>\n",
              "      <td>84.958175</td>\n",
              "      <td>5.421935e+09</td>\n",
              "    </tr>\n",
              "    <tr>\n",
              "      <th>Valor min</th>\n",
              "      <td>1.000000e+04</td>\n",
              "      <td>21.000000</td>\n",
              "      <td>-1.655800e+05</td>\n",
              "    </tr>\n",
              "    <tr>\n",
              "      <th>Valor Max</th>\n",
              "      <td>1.000000e+06</td>\n",
              "      <td>79.000000</td>\n",
              "      <td>9.645110e+05</td>\n",
              "    </tr>\n",
              "  </tbody>\n",
              "</table>\n",
              "</div>\n",
              "      <button class=\"colab-df-convert\" onclick=\"convertToInteractive('df-f283b8ae-10b2-4577-9bc4-86d6b3d2a818')\"\n",
              "              title=\"Convert this dataframe to an interactive table.\"\n",
              "              style=\"display:none;\">\n",
              "        \n",
              "  <svg xmlns=\"http://www.w3.org/2000/svg\" height=\"24px\"viewBox=\"0 0 24 24\"\n",
              "       width=\"24px\">\n",
              "    <path d=\"M0 0h24v24H0V0z\" fill=\"none\"/>\n",
              "    <path d=\"M18.56 5.44l.94 2.06.94-2.06 2.06-.94-2.06-.94-.94-2.06-.94 2.06-2.06.94zm-11 1L8.5 8.5l.94-2.06 2.06-.94-2.06-.94L8.5 2.5l-.94 2.06-2.06.94zm10 10l.94 2.06.94-2.06 2.06-.94-2.06-.94-.94-2.06-.94 2.06-2.06.94z\"/><path d=\"M17.41 7.96l-1.37-1.37c-.4-.4-.92-.59-1.43-.59-.52 0-1.04.2-1.43.59L10.3 9.45l-7.72 7.72c-.78.78-.78 2.05 0 2.83L4 21.41c.39.39.9.59 1.41.59.51 0 1.02-.2 1.41-.59l7.78-7.78 2.81-2.81c.8-.78.8-2.07 0-2.86zM5.41 20L4 18.59l7.72-7.72 1.47 1.35L5.41 20z\"/>\n",
              "  </svg>\n",
              "      </button>\n",
              "      \n",
              "  <style>\n",
              "    .colab-df-container {\n",
              "      display:flex;\n",
              "      flex-wrap:wrap;\n",
              "      gap: 12px;\n",
              "    }\n",
              "\n",
              "    .colab-df-convert {\n",
              "      background-color: #E8F0FE;\n",
              "      border: none;\n",
              "      border-radius: 50%;\n",
              "      cursor: pointer;\n",
              "      display: none;\n",
              "      fill: #1967D2;\n",
              "      height: 32px;\n",
              "      padding: 0 0 0 0;\n",
              "      width: 32px;\n",
              "    }\n",
              "\n",
              "    .colab-df-convert:hover {\n",
              "      background-color: #E2EBFA;\n",
              "      box-shadow: 0px 1px 2px rgba(60, 64, 67, 0.3), 0px 1px 3px 1px rgba(60, 64, 67, 0.15);\n",
              "      fill: #174EA6;\n",
              "    }\n",
              "\n",
              "    [theme=dark] .colab-df-convert {\n",
              "      background-color: #3B4455;\n",
              "      fill: #D2E3FC;\n",
              "    }\n",
              "\n",
              "    [theme=dark] .colab-df-convert:hover {\n",
              "      background-color: #434B5C;\n",
              "      box-shadow: 0px 1px 3px 1px rgba(0, 0, 0, 0.15);\n",
              "      filter: drop-shadow(0px 1px 2px rgba(0, 0, 0, 0.3));\n",
              "      fill: #FFFFFF;\n",
              "    }\n",
              "  </style>\n",
              "\n",
              "      <script>\n",
              "        const buttonEl =\n",
              "          document.querySelector('#df-f283b8ae-10b2-4577-9bc4-86d6b3d2a818 button.colab-df-convert');\n",
              "        buttonEl.style.display =\n",
              "          google.colab.kernel.accessAllowed ? 'block' : 'none';\n",
              "\n",
              "        async function convertToInteractive(key) {\n",
              "          const element = document.querySelector('#df-f283b8ae-10b2-4577-9bc4-86d6b3d2a818');\n",
              "          const dataTable =\n",
              "            await google.colab.kernel.invokeFunction('convertToInteractive',\n",
              "                                                     [key], {});\n",
              "          if (!dataTable) return;\n",
              "\n",
              "          const docLinkHtml = 'Like what you see? Visit the ' +\n",
              "            '<a target=\"_blank\" href=https://colab.research.google.com/notebooks/data_table.ipynb>data table notebook</a>'\n",
              "            + ' to learn more about interactive tables.';\n",
              "          element.innerHTML = '';\n",
              "          dataTable['output_type'] = 'display_data';\n",
              "          await google.colab.output.renderOutput(dataTable, element);\n",
              "          const docLink = document.createElement('div');\n",
              "          docLink.innerHTML = docLinkHtml;\n",
              "          element.appendChild(docLink);\n",
              "        }\n",
              "      </script>\n",
              "    </div>\n",
              "  </div>\n",
              "  "
            ]
          },
          "metadata": {},
          "execution_count": 151
        }
      ]
    },
    {
      "cell_type": "code",
      "source": [
        "# Revisión de la varianza explicada por las variales para las variables X1, X5, X12\n",
        "# Solo se va a revisar algunas para darse una idea.\n",
        "\n",
        "t=df.var().sum()\n",
        "\n",
        "var_X1=df.X1.var()\n",
        "var_X5=df.X5.var()\n",
        "var_X12=df.X12.var()\n",
        "\n",
        "#Sacamos el % que representa la varianza de cada variable respecto al total.\n",
        "print('Varianza Total \\t\\t:',t.round(2) )\n",
        "print('Varianza X1 \\t:', ((var_X1/t)*100).round(2),'%' )\n",
        "print('Varianza X5 \\t\\t:', ((var_X5/t)*100).round(2),'%' )\n",
        "print('Varianza X12 \\t:', ((var_X12/t)*100).round(2),'%' )"
      ],
      "metadata": {
        "colab": {
          "base_uri": "https://localhost:8080/"
        },
        "id": "_6Ocank15c2e",
        "outputId": "40af16a7-d93e-413d-f4af-8663ee79dd51"
      },
      "execution_count": 152,
      "outputs": [
        {
          "output_type": "stream",
          "name": "stdout",
          "text": [
            "Varianza Total \t\t: 45422224722.84\n",
            "Varianza X1 \t: 37.06 %\n",
            "Varianza X5 \t\t: 0.0 %\n",
            "Varianza X12 \t: 11.94 %\n"
          ]
        }
      ]
    },
    {
      "cell_type": "markdown",
      "source": [
        "**Comentarios:**\n",
        "\n",
        "  -> Notamos que X1 es responsable de casi un 40% de la variablidad total.\n",
        "  \n",
        "  -> Este resultado al igual que PCA se ve influenciado por la magnitud de las varialbes por lo que se normalizaran los datos más adelante."
      ],
      "metadata": {
        "id": "ec6IgIFU7vkG"
      }
    },
    {
      "cell_type": "markdown",
      "metadata": {
        "id": "l9pRBih_wGNS"
      },
      "source": [
        "**Procedemos a normalizar usando StandarScaler y generar copia de df normalizado**"
      ]
    },
    {
      "cell_type": "code",
      "execution_count": 153,
      "metadata": {
        "id": "1XQz_RHIwGNT",
        "outputId": "d52691f8-eca6-49b3-8572-4e23a7d5ac93",
        "colab": {
          "base_uri": "https://localhost:8080/"
        }
      },
      "outputs": [
        {
          "output_type": "execute_result",
          "data": {
            "text/plain": [
              "array([[-1.13672015, -1.24593841, -0.64255927, -0.64743179, -0.66801326,\n",
              "        -0.67251865, -0.66308975, -0.65277489, -0.34187116, -0.2270927 ,\n",
              "        -0.29675954, -0.30806271, -0.31411922, -0.29339039],\n",
              "       [-0.3659805 , -1.02895094, -0.65927742, -0.66677952, -0.63927371,\n",
              "        -0.6216564 , -0.60625852, -0.59801577, -0.34187116, -0.2135947 ,\n",
              "        -0.2399603 , -0.24422917, -0.31411922, -0.18088632],\n",
              "       [-0.59720239, -0.16100108, -0.29860817, -0.49392861, -0.48242469,\n",
              "        -0.44974759, -0.41721038, -0.39167413, -0.25021436, -0.19189372,\n",
              "        -0.2399603 , -0.24422917, -0.24866527, -0.01213022],\n",
              "       [-0.90549825,  0.16448012, -0.05753276, -0.01331261,  0.03283955,\n",
              "        -0.23238608, -0.18674371, -0.15661796, -0.22111121, -0.1693681 ,\n",
              "        -0.22860046, -0.23784582, -0.24414894, -0.23713836],\n",
              "       [-0.90549825,  2.33435477, -0.57867449, -0.61134976, -0.16119929,\n",
              "        -0.34701268, -0.34815756, -0.33152474, -0.22111121,  1.33503053,\n",
              "         0.27123284,  0.26643909, -0.26902144, -0.25519526]])"
            ]
          },
          "metadata": {},
          "execution_count": 153
        }
      ],
      "source": [
        "# Normaliza los datos\n",
        "scaler = StandardScaler()\n",
        "scaled_std = scaler.fit_transform(df)\n",
        "scaled_std[:5]"
      ]
    },
    {
      "cell_type": "code",
      "execution_count": 154,
      "metadata": {
        "id": "RdXuRPXTwGNT",
        "colab": {
          "base_uri": "https://localhost:8080/",
          "height": 206
        },
        "outputId": "a8726cee-d76b-4ff7-c7d5-1fe8c508e1c7"
      },
      "outputs": [
        {
          "output_type": "execute_result",
          "data": {
            "text/plain": [
              "         X1        X5       X12       X13       X14       X15       X16  \\\n",
              "0 -1.136720 -1.245938 -0.642559 -0.647432 -0.668013 -0.672519 -0.663090   \n",
              "1 -0.365981 -1.028951 -0.659277 -0.666780 -0.639274 -0.621656 -0.606259   \n",
              "2 -0.597202 -0.161001 -0.298608 -0.493929 -0.482425 -0.449748 -0.417210   \n",
              "3 -0.905498  0.164480 -0.057533 -0.013313  0.032840 -0.232386 -0.186744   \n",
              "4 -0.905498  2.334355 -0.578674 -0.611350 -0.161199 -0.347013 -0.348158   \n",
              "\n",
              "        X17       X18       X19       X20       X21       X22       X23  \n",
              "0 -0.652775 -0.341871 -0.227093 -0.296760 -0.308063 -0.314119 -0.293390  \n",
              "1 -0.598016 -0.341871 -0.213595 -0.239960 -0.244229 -0.314119 -0.180886  \n",
              "2 -0.391674 -0.250214 -0.191894 -0.239960 -0.244229 -0.248665 -0.012130  \n",
              "3 -0.156618 -0.221111 -0.169368 -0.228600 -0.237846 -0.244149 -0.237138  \n",
              "4 -0.331525 -0.221111  1.335031  0.271233  0.266439 -0.269021 -0.255195  "
            ],
            "text/html": [
              "\n",
              "  <div id=\"df-670beb02-bce7-4f91-9d34-66ba84c1b643\">\n",
              "    <div class=\"colab-df-container\">\n",
              "      <div>\n",
              "<style scoped>\n",
              "    .dataframe tbody tr th:only-of-type {\n",
              "        vertical-align: middle;\n",
              "    }\n",
              "\n",
              "    .dataframe tbody tr th {\n",
              "        vertical-align: top;\n",
              "    }\n",
              "\n",
              "    .dataframe thead th {\n",
              "        text-align: right;\n",
              "    }\n",
              "</style>\n",
              "<table border=\"1\" class=\"dataframe\">\n",
              "  <thead>\n",
              "    <tr style=\"text-align: right;\">\n",
              "      <th></th>\n",
              "      <th>X1</th>\n",
              "      <th>X5</th>\n",
              "      <th>X12</th>\n",
              "      <th>X13</th>\n",
              "      <th>X14</th>\n",
              "      <th>X15</th>\n",
              "      <th>X16</th>\n",
              "      <th>X17</th>\n",
              "      <th>X18</th>\n",
              "      <th>X19</th>\n",
              "      <th>X20</th>\n",
              "      <th>X21</th>\n",
              "      <th>X22</th>\n",
              "      <th>X23</th>\n",
              "    </tr>\n",
              "  </thead>\n",
              "  <tbody>\n",
              "    <tr>\n",
              "      <th>0</th>\n",
              "      <td>-1.136720</td>\n",
              "      <td>-1.245938</td>\n",
              "      <td>-0.642559</td>\n",
              "      <td>-0.647432</td>\n",
              "      <td>-0.668013</td>\n",
              "      <td>-0.672519</td>\n",
              "      <td>-0.663090</td>\n",
              "      <td>-0.652775</td>\n",
              "      <td>-0.341871</td>\n",
              "      <td>-0.227093</td>\n",
              "      <td>-0.296760</td>\n",
              "      <td>-0.308063</td>\n",
              "      <td>-0.314119</td>\n",
              "      <td>-0.293390</td>\n",
              "    </tr>\n",
              "    <tr>\n",
              "      <th>1</th>\n",
              "      <td>-0.365981</td>\n",
              "      <td>-1.028951</td>\n",
              "      <td>-0.659277</td>\n",
              "      <td>-0.666780</td>\n",
              "      <td>-0.639274</td>\n",
              "      <td>-0.621656</td>\n",
              "      <td>-0.606259</td>\n",
              "      <td>-0.598016</td>\n",
              "      <td>-0.341871</td>\n",
              "      <td>-0.213595</td>\n",
              "      <td>-0.239960</td>\n",
              "      <td>-0.244229</td>\n",
              "      <td>-0.314119</td>\n",
              "      <td>-0.180886</td>\n",
              "    </tr>\n",
              "    <tr>\n",
              "      <th>2</th>\n",
              "      <td>-0.597202</td>\n",
              "      <td>-0.161001</td>\n",
              "      <td>-0.298608</td>\n",
              "      <td>-0.493929</td>\n",
              "      <td>-0.482425</td>\n",
              "      <td>-0.449748</td>\n",
              "      <td>-0.417210</td>\n",
              "      <td>-0.391674</td>\n",
              "      <td>-0.250214</td>\n",
              "      <td>-0.191894</td>\n",
              "      <td>-0.239960</td>\n",
              "      <td>-0.244229</td>\n",
              "      <td>-0.248665</td>\n",
              "      <td>-0.012130</td>\n",
              "    </tr>\n",
              "    <tr>\n",
              "      <th>3</th>\n",
              "      <td>-0.905498</td>\n",
              "      <td>0.164480</td>\n",
              "      <td>-0.057533</td>\n",
              "      <td>-0.013313</td>\n",
              "      <td>0.032840</td>\n",
              "      <td>-0.232386</td>\n",
              "      <td>-0.186744</td>\n",
              "      <td>-0.156618</td>\n",
              "      <td>-0.221111</td>\n",
              "      <td>-0.169368</td>\n",
              "      <td>-0.228600</td>\n",
              "      <td>-0.237846</td>\n",
              "      <td>-0.244149</td>\n",
              "      <td>-0.237138</td>\n",
              "    </tr>\n",
              "    <tr>\n",
              "      <th>4</th>\n",
              "      <td>-0.905498</td>\n",
              "      <td>2.334355</td>\n",
              "      <td>-0.578674</td>\n",
              "      <td>-0.611350</td>\n",
              "      <td>-0.161199</td>\n",
              "      <td>-0.347013</td>\n",
              "      <td>-0.348158</td>\n",
              "      <td>-0.331525</td>\n",
              "      <td>-0.221111</td>\n",
              "      <td>1.335031</td>\n",
              "      <td>0.271233</td>\n",
              "      <td>0.266439</td>\n",
              "      <td>-0.269021</td>\n",
              "      <td>-0.255195</td>\n",
              "    </tr>\n",
              "  </tbody>\n",
              "</table>\n",
              "</div>\n",
              "      <button class=\"colab-df-convert\" onclick=\"convertToInteractive('df-670beb02-bce7-4f91-9d34-66ba84c1b643')\"\n",
              "              title=\"Convert this dataframe to an interactive table.\"\n",
              "              style=\"display:none;\">\n",
              "        \n",
              "  <svg xmlns=\"http://www.w3.org/2000/svg\" height=\"24px\"viewBox=\"0 0 24 24\"\n",
              "       width=\"24px\">\n",
              "    <path d=\"M0 0h24v24H0V0z\" fill=\"none\"/>\n",
              "    <path d=\"M18.56 5.44l.94 2.06.94-2.06 2.06-.94-2.06-.94-.94-2.06-.94 2.06-2.06.94zm-11 1L8.5 8.5l.94-2.06 2.06-.94-2.06-.94L8.5 2.5l-.94 2.06-2.06.94zm10 10l.94 2.06.94-2.06 2.06-.94-2.06-.94-.94-2.06-.94 2.06-2.06.94z\"/><path d=\"M17.41 7.96l-1.37-1.37c-.4-.4-.92-.59-1.43-.59-.52 0-1.04.2-1.43.59L10.3 9.45l-7.72 7.72c-.78.78-.78 2.05 0 2.83L4 21.41c.39.39.9.59 1.41.59.51 0 1.02-.2 1.41-.59l7.78-7.78 2.81-2.81c.8-.78.8-2.07 0-2.86zM5.41 20L4 18.59l7.72-7.72 1.47 1.35L5.41 20z\"/>\n",
              "  </svg>\n",
              "      </button>\n",
              "      \n",
              "  <style>\n",
              "    .colab-df-container {\n",
              "      display:flex;\n",
              "      flex-wrap:wrap;\n",
              "      gap: 12px;\n",
              "    }\n",
              "\n",
              "    .colab-df-convert {\n",
              "      background-color: #E8F0FE;\n",
              "      border: none;\n",
              "      border-radius: 50%;\n",
              "      cursor: pointer;\n",
              "      display: none;\n",
              "      fill: #1967D2;\n",
              "      height: 32px;\n",
              "      padding: 0 0 0 0;\n",
              "      width: 32px;\n",
              "    }\n",
              "\n",
              "    .colab-df-convert:hover {\n",
              "      background-color: #E2EBFA;\n",
              "      box-shadow: 0px 1px 2px rgba(60, 64, 67, 0.3), 0px 1px 3px 1px rgba(60, 64, 67, 0.15);\n",
              "      fill: #174EA6;\n",
              "    }\n",
              "\n",
              "    [theme=dark] .colab-df-convert {\n",
              "      background-color: #3B4455;\n",
              "      fill: #D2E3FC;\n",
              "    }\n",
              "\n",
              "    [theme=dark] .colab-df-convert:hover {\n",
              "      background-color: #434B5C;\n",
              "      box-shadow: 0px 1px 3px 1px rgba(0, 0, 0, 0.15);\n",
              "      filter: drop-shadow(0px 1px 2px rgba(0, 0, 0, 0.3));\n",
              "      fill: #FFFFFF;\n",
              "    }\n",
              "  </style>\n",
              "\n",
              "      <script>\n",
              "        const buttonEl =\n",
              "          document.querySelector('#df-670beb02-bce7-4f91-9d34-66ba84c1b643 button.colab-df-convert');\n",
              "        buttonEl.style.display =\n",
              "          google.colab.kernel.accessAllowed ? 'block' : 'none';\n",
              "\n",
              "        async function convertToInteractive(key) {\n",
              "          const element = document.querySelector('#df-670beb02-bce7-4f91-9d34-66ba84c1b643');\n",
              "          const dataTable =\n",
              "            await google.colab.kernel.invokeFunction('convertToInteractive',\n",
              "                                                     [key], {});\n",
              "          if (!dataTable) return;\n",
              "\n",
              "          const docLinkHtml = 'Like what you see? Visit the ' +\n",
              "            '<a target=\"_blank\" href=https://colab.research.google.com/notebooks/data_table.ipynb>data table notebook</a>'\n",
              "            + ' to learn more about interactive tables.';\n",
              "          element.innerHTML = '';\n",
              "          dataTable['output_type'] = 'display_data';\n",
              "          await google.colab.output.renderOutput(dataTable, element);\n",
              "          const docLink = document.createElement('div');\n",
              "          docLink.innerHTML = docLinkHtml;\n",
              "          element.appendChild(docLink);\n",
              "        }\n",
              "      </script>\n",
              "    </div>\n",
              "  </div>\n",
              "  "
            ]
          },
          "metadata": {},
          "execution_count": 154
        }
      ],
      "source": [
        "# Crea copia de la base con los datos normalizados\n",
        "scaled_df_std = pd.DataFrame(scaled_std, columns=df.columns)\n",
        "scaled_df_std.head()"
      ]
    },
    {
      "cell_type": "markdown",
      "source": [
        "**Comentarios:**\n",
        "\n",
        "  -> Se observa que todas las variables estan en la misma escala. Esto se realizó para que el PCA no sobreestime las variables con numeros más grandes."
      ],
      "metadata": {
        "id": "dqc2ObGf4nQF"
      }
    },
    {
      "cell_type": "markdown",
      "source": [
        "**Revisión de la varianza explicada por las variales después de la normalización**"
      ],
      "metadata": {
        "id": "UNht4ND-5I9w"
      }
    },
    {
      "cell_type": "code",
      "source": [
        "# Revisión de la varianza explicada por las variales para las variables X1, X5, X12\n",
        "# Solo se va a revisar algunas para darse una idea.\n",
        "\n",
        "cols=[\"X1\",\"X5\",\"X12\"]\n",
        "\n",
        "summary={\"Varianza total\":scaled_df_std[cols].var()[0:3],\n",
        "         \"Valor min\":scaled_df_std[cols].min()[0:3],\n",
        "         \"Valor Max\":scaled_df_std[cols].max()[0:3]}\n",
        "\n",
        "pd.DataFrame(summary,index=cols).transpose()"
      ],
      "metadata": {
        "colab": {
          "base_uri": "https://localhost:8080/",
          "height": 143
        },
        "id": "IqJxaT2L8U14",
        "outputId": "68792687-249e-47d2-b3b6-8825e4faf946"
      },
      "execution_count": 155,
      "outputs": [
        {
          "output_type": "execute_result",
          "data": {
            "text/plain": [
              "                      X1        X5        X12\n",
              "Varianza total  1.000033  1.000033   1.000033\n",
              "Valor min      -1.213794 -1.571420  -2.944435\n",
              "Valor Max       6.416528  4.721217  12.403273"
            ],
            "text/html": [
              "\n",
              "  <div id=\"df-87494fa8-7c53-4561-a8d8-98eba4fda423\">\n",
              "    <div class=\"colab-df-container\">\n",
              "      <div>\n",
              "<style scoped>\n",
              "    .dataframe tbody tr th:only-of-type {\n",
              "        vertical-align: middle;\n",
              "    }\n",
              "\n",
              "    .dataframe tbody tr th {\n",
              "        vertical-align: top;\n",
              "    }\n",
              "\n",
              "    .dataframe thead th {\n",
              "        text-align: right;\n",
              "    }\n",
              "</style>\n",
              "<table border=\"1\" class=\"dataframe\">\n",
              "  <thead>\n",
              "    <tr style=\"text-align: right;\">\n",
              "      <th></th>\n",
              "      <th>X1</th>\n",
              "      <th>X5</th>\n",
              "      <th>X12</th>\n",
              "    </tr>\n",
              "  </thead>\n",
              "  <tbody>\n",
              "    <tr>\n",
              "      <th>Varianza total</th>\n",
              "      <td>1.000033</td>\n",
              "      <td>1.000033</td>\n",
              "      <td>1.000033</td>\n",
              "    </tr>\n",
              "    <tr>\n",
              "      <th>Valor min</th>\n",
              "      <td>-1.213794</td>\n",
              "      <td>-1.571420</td>\n",
              "      <td>-2.944435</td>\n",
              "    </tr>\n",
              "    <tr>\n",
              "      <th>Valor Max</th>\n",
              "      <td>6.416528</td>\n",
              "      <td>4.721217</td>\n",
              "      <td>12.403273</td>\n",
              "    </tr>\n",
              "  </tbody>\n",
              "</table>\n",
              "</div>\n",
              "      <button class=\"colab-df-convert\" onclick=\"convertToInteractive('df-87494fa8-7c53-4561-a8d8-98eba4fda423')\"\n",
              "              title=\"Convert this dataframe to an interactive table.\"\n",
              "              style=\"display:none;\">\n",
              "        \n",
              "  <svg xmlns=\"http://www.w3.org/2000/svg\" height=\"24px\"viewBox=\"0 0 24 24\"\n",
              "       width=\"24px\">\n",
              "    <path d=\"M0 0h24v24H0V0z\" fill=\"none\"/>\n",
              "    <path d=\"M18.56 5.44l.94 2.06.94-2.06 2.06-.94-2.06-.94-.94-2.06-.94 2.06-2.06.94zm-11 1L8.5 8.5l.94-2.06 2.06-.94-2.06-.94L8.5 2.5l-.94 2.06-2.06.94zm10 10l.94 2.06.94-2.06 2.06-.94-2.06-.94-.94-2.06-.94 2.06-2.06.94z\"/><path d=\"M17.41 7.96l-1.37-1.37c-.4-.4-.92-.59-1.43-.59-.52 0-1.04.2-1.43.59L10.3 9.45l-7.72 7.72c-.78.78-.78 2.05 0 2.83L4 21.41c.39.39.9.59 1.41.59.51 0 1.02-.2 1.41-.59l7.78-7.78 2.81-2.81c.8-.78.8-2.07 0-2.86zM5.41 20L4 18.59l7.72-7.72 1.47 1.35L5.41 20z\"/>\n",
              "  </svg>\n",
              "      </button>\n",
              "      \n",
              "  <style>\n",
              "    .colab-df-container {\n",
              "      display:flex;\n",
              "      flex-wrap:wrap;\n",
              "      gap: 12px;\n",
              "    }\n",
              "\n",
              "    .colab-df-convert {\n",
              "      background-color: #E8F0FE;\n",
              "      border: none;\n",
              "      border-radius: 50%;\n",
              "      cursor: pointer;\n",
              "      display: none;\n",
              "      fill: #1967D2;\n",
              "      height: 32px;\n",
              "      padding: 0 0 0 0;\n",
              "      width: 32px;\n",
              "    }\n",
              "\n",
              "    .colab-df-convert:hover {\n",
              "      background-color: #E2EBFA;\n",
              "      box-shadow: 0px 1px 2px rgba(60, 64, 67, 0.3), 0px 1px 3px 1px rgba(60, 64, 67, 0.15);\n",
              "      fill: #174EA6;\n",
              "    }\n",
              "\n",
              "    [theme=dark] .colab-df-convert {\n",
              "      background-color: #3B4455;\n",
              "      fill: #D2E3FC;\n",
              "    }\n",
              "\n",
              "    [theme=dark] .colab-df-convert:hover {\n",
              "      background-color: #434B5C;\n",
              "      box-shadow: 0px 1px 3px 1px rgba(0, 0, 0, 0.15);\n",
              "      filter: drop-shadow(0px 1px 2px rgba(0, 0, 0, 0.3));\n",
              "      fill: #FFFFFF;\n",
              "    }\n",
              "  </style>\n",
              "\n",
              "      <script>\n",
              "        const buttonEl =\n",
              "          document.querySelector('#df-87494fa8-7c53-4561-a8d8-98eba4fda423 button.colab-df-convert');\n",
              "        buttonEl.style.display =\n",
              "          google.colab.kernel.accessAllowed ? 'block' : 'none';\n",
              "\n",
              "        async function convertToInteractive(key) {\n",
              "          const element = document.querySelector('#df-87494fa8-7c53-4561-a8d8-98eba4fda423');\n",
              "          const dataTable =\n",
              "            await google.colab.kernel.invokeFunction('convertToInteractive',\n",
              "                                                     [key], {});\n",
              "          if (!dataTable) return;\n",
              "\n",
              "          const docLinkHtml = 'Like what you see? Visit the ' +\n",
              "            '<a target=\"_blank\" href=https://colab.research.google.com/notebooks/data_table.ipynb>data table notebook</a>'\n",
              "            + ' to learn more about interactive tables.';\n",
              "          element.innerHTML = '';\n",
              "          dataTable['output_type'] = 'display_data';\n",
              "          await google.colab.output.renderOutput(dataTable, element);\n",
              "          const docLink = document.createElement('div');\n",
              "          docLink.innerHTML = docLinkHtml;\n",
              "          element.appendChild(docLink);\n",
              "        }\n",
              "      </script>\n",
              "    </div>\n",
              "  </div>\n",
              "  "
            ]
          },
          "metadata": {},
          "execution_count": 155
        }
      ]
    },
    {
      "cell_type": "code",
      "source": [
        "# Revisión de la varianza explicada por las variales para las variables X1, X5, X12\n",
        "# Solo se va a revisar algunas para darse una idea.\n",
        "\n",
        "t=scaled_df_std.var().sum()\n",
        "\n",
        "var_X1=scaled_df_std.X1.var()\n",
        "var_X5=scaled_df_std.X5.var()\n",
        "var_X12=scaled_df_std.X12.var()\n",
        "\n",
        "#Sacamos el % que representa la varianza de cada variable respecto al total.\n",
        "print('Varianza Total \\t\\t:',t.round(2) )\n",
        "print('Varianza X1 \\t:', ((var_X1/t)*100).round(2),'%' )\n",
        "print('Varianza X5 \\t\\t:', ((var_X5/t)*100).round(2),'%' )\n",
        "print('Varianza X12 \\t:', ((var_X12/t)*100).round(2),'%' )"
      ],
      "metadata": {
        "colab": {
          "base_uri": "https://localhost:8080/"
        },
        "id": "tE6UpTnS5M33",
        "outputId": "0d2476f7-50cc-4ced-937e-75a4b82c0d78"
      },
      "execution_count": 156,
      "outputs": [
        {
          "output_type": "stream",
          "name": "stdout",
          "text": [
            "Varianza Total \t\t: 14.0\n",
            "Varianza X1 \t: 7.14 %\n",
            "Varianza X5 \t\t: 7.14 %\n",
            "Varianza X12 \t: 7.14 %\n"
          ]
        }
      ]
    },
    {
      "cell_type": "markdown",
      "source": [
        "**Comentarios:**\n",
        "\n",
        "  -> Una vez normalizados los datos notamos que las 3 variables explican casi el mismo porcentaje de la variabilidad total."
      ],
      "metadata": {
        "id": "8LuJbgXQ8lCv"
      }
    },
    {
      "cell_type": "markdown",
      "metadata": {
        "id": "np14N9hNwGNT"
      },
      "source": [
        "### Aplicación de PCA"
      ]
    },
    {
      "cell_type": "code",
      "execution_count": 157,
      "metadata": {
        "id": "BnYT0PNAwGNT",
        "outputId": "345210e8-69fd-4014-bf49-6e99bc00c923",
        "colab": {
          "base_uri": "https://localhost:8080/"
        }
      },
      "outputs": [
        {
          "output_type": "execute_result",
          "data": {
            "text/plain": [
              "array([[-1.95855890e+00, -5.36490100e-01,  1.33009614e+00, ...,\n",
              "        -3.21510387e-03,  8.12810521e-03,  9.86832627e-03],\n",
              "       [-1.73537313e+00, -2.16924444e-01,  8.63723178e-01, ...,\n",
              "         1.22190138e-02, -4.08900982e-03,  7.22018340e-04],\n",
              "       [-1.22429620e+00, -2.84703830e-01,  2.13102074e-01, ...,\n",
              "        -8.04889777e-02, -4.12371775e-02, -5.72265582e-02],\n",
              "       ...,\n",
              "       [-1.28489442e+00,  1.46863587e-01,  2.50542144e-01, ...,\n",
              "         3.47386659e-02,  1.29955733e-02, -1.21186823e-02],\n",
              "       [ 8.31877850e-01,  2.42169652e+00,  3.64722434e-01, ...,\n",
              "         1.70868459e-01, -1.40378487e-01, -8.47087148e-03],\n",
              "       [-5.16862809e-01, -6.00711078e-01, -7.49612781e-01, ...,\n",
              "        -1.76377391e-02,  1.15558101e-01, -4.68530189e-02]])"
            ]
          },
          "metadata": {},
          "execution_count": 157
        }
      ],
      "source": [
        "# Creación de los componentes principales\n",
        "pca_std = PCA()\n",
        "pca_std.fit_transform(scaled_df_std)"
      ]
    },
    {
      "cell_type": "code",
      "execution_count": 158,
      "metadata": {
        "id": "vc2d6kSpwGNT",
        "outputId": "87a9c71b-28c8-4575-9549-d4f440cb0ce5",
        "colab": {
          "base_uri": "https://localhost:8080/",
          "height": 143
        }
      },
      "outputs": [
        {
          "output_type": "execute_result",
          "data": {
            "text/plain": [
              "                                PC1      PC2      PC3      PC4      PC5  \\\n",
              "Desviación estándar          2.4330   1.3100   1.0223   0.9617   0.9400   \n",
              "% de la varianza explicada  42.2799  12.2579   7.4652   6.6066   6.3115   \n",
              "% Varianza acumulada        42.2799  54.5377  62.0029  68.6095  74.9210   \n",
              "\n",
              "                                PC6      PC7      PC8      PC9     PC10  \\\n",
              "Desviación estándar          0.9342   0.8829   0.8524   0.8410   0.5142   \n",
              "% de la varianza explicada   6.2333   5.5681   5.1899   5.0514   1.8887   \n",
              "% Varianza acumulada        81.1543  86.7223  91.9122  96.9635  98.8523   \n",
              "\n",
              "                               PC11     PC12     PC13      PC14  \n",
              "Desviación estándar          0.2665   0.2027   0.1592    0.1525  \n",
              "% de la varianza explicada   0.5072   0.2934   0.1811    0.1660  \n",
              "% Varianza acumulada        99.3595  99.6529  99.8340  100.0000  "
            ],
            "text/html": [
              "\n",
              "  <div id=\"df-6d5994a4-b9fb-4b4f-95d8-d231e020f8b8\">\n",
              "    <div class=\"colab-df-container\">\n",
              "      <div>\n",
              "<style scoped>\n",
              "    .dataframe tbody tr th:only-of-type {\n",
              "        vertical-align: middle;\n",
              "    }\n",
              "\n",
              "    .dataframe tbody tr th {\n",
              "        vertical-align: top;\n",
              "    }\n",
              "\n",
              "    .dataframe thead th {\n",
              "        text-align: right;\n",
              "    }\n",
              "</style>\n",
              "<table border=\"1\" class=\"dataframe\">\n",
              "  <thead>\n",
              "    <tr style=\"text-align: right;\">\n",
              "      <th></th>\n",
              "      <th>PC1</th>\n",
              "      <th>PC2</th>\n",
              "      <th>PC3</th>\n",
              "      <th>PC4</th>\n",
              "      <th>PC5</th>\n",
              "      <th>PC6</th>\n",
              "      <th>PC7</th>\n",
              "      <th>PC8</th>\n",
              "      <th>PC9</th>\n",
              "      <th>PC10</th>\n",
              "      <th>PC11</th>\n",
              "      <th>PC12</th>\n",
              "      <th>PC13</th>\n",
              "      <th>PC14</th>\n",
              "    </tr>\n",
              "  </thead>\n",
              "  <tbody>\n",
              "    <tr>\n",
              "      <th>Desviación estándar</th>\n",
              "      <td>2.4330</td>\n",
              "      <td>1.3100</td>\n",
              "      <td>1.0223</td>\n",
              "      <td>0.9617</td>\n",
              "      <td>0.9400</td>\n",
              "      <td>0.9342</td>\n",
              "      <td>0.8829</td>\n",
              "      <td>0.8524</td>\n",
              "      <td>0.8410</td>\n",
              "      <td>0.5142</td>\n",
              "      <td>0.2665</td>\n",
              "      <td>0.2027</td>\n",
              "      <td>0.1592</td>\n",
              "      <td>0.1525</td>\n",
              "    </tr>\n",
              "    <tr>\n",
              "      <th>% de la varianza explicada</th>\n",
              "      <td>42.2799</td>\n",
              "      <td>12.2579</td>\n",
              "      <td>7.4652</td>\n",
              "      <td>6.6066</td>\n",
              "      <td>6.3115</td>\n",
              "      <td>6.2333</td>\n",
              "      <td>5.5681</td>\n",
              "      <td>5.1899</td>\n",
              "      <td>5.0514</td>\n",
              "      <td>1.8887</td>\n",
              "      <td>0.5072</td>\n",
              "      <td>0.2934</td>\n",
              "      <td>0.1811</td>\n",
              "      <td>0.1660</td>\n",
              "    </tr>\n",
              "    <tr>\n",
              "      <th>% Varianza acumulada</th>\n",
              "      <td>42.2799</td>\n",
              "      <td>54.5377</td>\n",
              "      <td>62.0029</td>\n",
              "      <td>68.6095</td>\n",
              "      <td>74.9210</td>\n",
              "      <td>81.1543</td>\n",
              "      <td>86.7223</td>\n",
              "      <td>91.9122</td>\n",
              "      <td>96.9635</td>\n",
              "      <td>98.8523</td>\n",
              "      <td>99.3595</td>\n",
              "      <td>99.6529</td>\n",
              "      <td>99.8340</td>\n",
              "      <td>100.0000</td>\n",
              "    </tr>\n",
              "  </tbody>\n",
              "</table>\n",
              "</div>\n",
              "      <button class=\"colab-df-convert\" onclick=\"convertToInteractive('df-6d5994a4-b9fb-4b4f-95d8-d231e020f8b8')\"\n",
              "              title=\"Convert this dataframe to an interactive table.\"\n",
              "              style=\"display:none;\">\n",
              "        \n",
              "  <svg xmlns=\"http://www.w3.org/2000/svg\" height=\"24px\"viewBox=\"0 0 24 24\"\n",
              "       width=\"24px\">\n",
              "    <path d=\"M0 0h24v24H0V0z\" fill=\"none\"/>\n",
              "    <path d=\"M18.56 5.44l.94 2.06.94-2.06 2.06-.94-2.06-.94-.94-2.06-.94 2.06-2.06.94zm-11 1L8.5 8.5l.94-2.06 2.06-.94-2.06-.94L8.5 2.5l-.94 2.06-2.06.94zm10 10l.94 2.06.94-2.06 2.06-.94-2.06-.94-.94-2.06-.94 2.06-2.06.94z\"/><path d=\"M17.41 7.96l-1.37-1.37c-.4-.4-.92-.59-1.43-.59-.52 0-1.04.2-1.43.59L10.3 9.45l-7.72 7.72c-.78.78-.78 2.05 0 2.83L4 21.41c.39.39.9.59 1.41.59.51 0 1.02-.2 1.41-.59l7.78-7.78 2.81-2.81c.8-.78.8-2.07 0-2.86zM5.41 20L4 18.59l7.72-7.72 1.47 1.35L5.41 20z\"/>\n",
              "  </svg>\n",
              "      </button>\n",
              "      \n",
              "  <style>\n",
              "    .colab-df-container {\n",
              "      display:flex;\n",
              "      flex-wrap:wrap;\n",
              "      gap: 12px;\n",
              "    }\n",
              "\n",
              "    .colab-df-convert {\n",
              "      background-color: #E8F0FE;\n",
              "      border: none;\n",
              "      border-radius: 50%;\n",
              "      cursor: pointer;\n",
              "      display: none;\n",
              "      fill: #1967D2;\n",
              "      height: 32px;\n",
              "      padding: 0 0 0 0;\n",
              "      width: 32px;\n",
              "    }\n",
              "\n",
              "    .colab-df-convert:hover {\n",
              "      background-color: #E2EBFA;\n",
              "      box-shadow: 0px 1px 2px rgba(60, 64, 67, 0.3), 0px 1px 3px 1px rgba(60, 64, 67, 0.15);\n",
              "      fill: #174EA6;\n",
              "    }\n",
              "\n",
              "    [theme=dark] .colab-df-convert {\n",
              "      background-color: #3B4455;\n",
              "      fill: #D2E3FC;\n",
              "    }\n",
              "\n",
              "    [theme=dark] .colab-df-convert:hover {\n",
              "      background-color: #434B5C;\n",
              "      box-shadow: 0px 1px 3px 1px rgba(0, 0, 0, 0.15);\n",
              "      filter: drop-shadow(0px 1px 2px rgba(0, 0, 0, 0.3));\n",
              "      fill: #FFFFFF;\n",
              "    }\n",
              "  </style>\n",
              "\n",
              "      <script>\n",
              "        const buttonEl =\n",
              "          document.querySelector('#df-6d5994a4-b9fb-4b4f-95d8-d231e020f8b8 button.colab-df-convert');\n",
              "        buttonEl.style.display =\n",
              "          google.colab.kernel.accessAllowed ? 'block' : 'none';\n",
              "\n",
              "        async function convertToInteractive(key) {\n",
              "          const element = document.querySelector('#df-6d5994a4-b9fb-4b4f-95d8-d231e020f8b8');\n",
              "          const dataTable =\n",
              "            await google.colab.kernel.invokeFunction('convertToInteractive',\n",
              "                                                     [key], {});\n",
              "          if (!dataTable) return;\n",
              "\n",
              "          const docLinkHtml = 'Like what you see? Visit the ' +\n",
              "            '<a target=\"_blank\" href=https://colab.research.google.com/notebooks/data_table.ipynb>data table notebook</a>'\n",
              "            + ' to learn more about interactive tables.';\n",
              "          element.innerHTML = '';\n",
              "          dataTable['output_type'] = 'display_data';\n",
              "          await google.colab.output.renderOutput(dataTable, element);\n",
              "          const docLink = document.createElement('div');\n",
              "          docLink.innerHTML = docLinkHtml;\n",
              "          element.appendChild(docLink);\n",
              "        }\n",
              "      </script>\n",
              "    </div>\n",
              "  </div>\n",
              "  "
            ]
          },
          "metadata": {},
          "execution_count": 158
        }
      ],
      "source": [
        "# Resumen de varianza de los componentes principales\n",
        "\n",
        "pcsSummary_df_std = pd.DataFrame({'Desviación estándar': np.sqrt(pca_std.explained_variance_),\n",
        "                             '% de la varianza explicada': pca_std.explained_variance_ratio_*100,\n",
        "                             '% Varianza acumulada': np.cumsum(pca_std.explained_variance_ratio_)*100\n",
        "                             })\n",
        "\n",
        "pcsSummary_df_std = pcsSummary_df_std.transpose()\n",
        "pcsSummary_df_std.columns = ['PC{}'.format(i) for i in range(1, len(pcsSummary_df_std.columns) + 1)]\n",
        "pcsSummary_df_std.round(4) "
      ]
    },
    {
      "cell_type": "markdown",
      "metadata": {
        "id": "Fm5fX9UMwGNT"
      },
      "source": [
        "**Comentario:**\n",
        "\n",
        "  -> Los primeros 8 componentes explican poco más del 90% de la variacion.\n",
        "\n",
        "  -> Las variables que contribuyen más a los componentes PC1, PC2, PC3, PC4 y PC5 (solo capturando 75% variacion).\n",
        "\n",
        "  -> Lo regular es querer explicar al menos el 80% de la variabilidad por lo que podrían elegirse usar los componentes 1 al 7.\n",
        "  \n",
        "  -> Si nos decidimos por los primeros 9 componenetes estariamos explicando casi el 97% de la variabilidad."
      ]
    },
    {
      "cell_type": "code",
      "execution_count": 159,
      "metadata": {
        "id": "OifCYUfCwGNT",
        "outputId": "fde0dee6-12e5-4a8d-cbe4-f1278221f048",
        "colab": {
          "base_uri": "https://localhost:8080/",
          "height": 488
        }
      },
      "outputs": [
        {
          "output_type": "execute_result",
          "data": {
            "text/plain": [
              "          PC1       PC2       PC3       PC4       PC5       PC6       PC7  \\\n",
              "X1   0.165480  0.300820 -0.378693 -0.200291  0.034732 -0.078238  0.110961   \n",
              "X5   0.032714  0.071917 -0.869618  0.338328 -0.038962  0.071319 -0.078628   \n",
              "X12  0.372422 -0.190860 -0.034292 -0.063983  0.041153 -0.044065  0.008158   \n",
              "X13  0.383241 -0.174661 -0.001872  0.007379  0.083062 -0.029004 -0.032345   \n",
              "X14  0.388252 -0.126928  0.034695  0.060466  0.114153  0.098805 -0.121318   \n",
              "X15  0.391547 -0.120432  0.033998  0.074804  0.028585  0.014391  0.126416   \n",
              "X16  0.388494 -0.105963  0.033826  0.039658 -0.106923 -0.099039 -0.007577   \n",
              "X17  0.380658 -0.094250  0.018532 -0.070265 -0.164908  0.069734  0.007979   \n",
              "X18  0.135184  0.383263  0.173454  0.361370  0.226152  0.039909 -0.201109   \n",
              "X19  0.116806  0.408284  0.200782  0.346352  0.150497  0.407283 -0.279626   \n",
              "X20  0.128113  0.392236  0.122023  0.245351 -0.239281 -0.107804  0.785228   \n",
              "X21  0.116939  0.349532  0.062190 -0.094151 -0.579413 -0.499366 -0.462049   \n",
              "X22  0.113818  0.304035 -0.060148 -0.609167 -0.192848  0.603372  0.014701   \n",
              "X23  0.105524  0.323466 -0.050550 -0.367171  0.657456 -0.410914  0.025472   \n",
              "\n",
              "          PC8  \n",
              "X1  -0.048218  \n",
              "X5   0.028122  \n",
              "X12  0.009440  \n",
              "X13 -0.135667  \n",
              "X14  0.092860  \n",
              "X15  0.039199  \n",
              "X16  0.049710  \n",
              "X17  0.000053  \n",
              "X18 -0.749032  \n",
              "X19  0.577970  \n",
              "X20  0.069250  \n",
              "X21  0.077587  \n",
              "X22 -0.163441  \n",
              "X23  0.182023  "
            ],
            "text/html": [
              "\n",
              "  <div id=\"df-9b562fc0-736a-434f-80fe-dfc0fc9eeaf7\">\n",
              "    <div class=\"colab-df-container\">\n",
              "      <div>\n",
              "<style scoped>\n",
              "    .dataframe tbody tr th:only-of-type {\n",
              "        vertical-align: middle;\n",
              "    }\n",
              "\n",
              "    .dataframe tbody tr th {\n",
              "        vertical-align: top;\n",
              "    }\n",
              "\n",
              "    .dataframe thead th {\n",
              "        text-align: right;\n",
              "    }\n",
              "</style>\n",
              "<table border=\"1\" class=\"dataframe\">\n",
              "  <thead>\n",
              "    <tr style=\"text-align: right;\">\n",
              "      <th></th>\n",
              "      <th>PC1</th>\n",
              "      <th>PC2</th>\n",
              "      <th>PC3</th>\n",
              "      <th>PC4</th>\n",
              "      <th>PC5</th>\n",
              "      <th>PC6</th>\n",
              "      <th>PC7</th>\n",
              "      <th>PC8</th>\n",
              "    </tr>\n",
              "  </thead>\n",
              "  <tbody>\n",
              "    <tr>\n",
              "      <th>X1</th>\n",
              "      <td>0.165480</td>\n",
              "      <td>0.300820</td>\n",
              "      <td>-0.378693</td>\n",
              "      <td>-0.200291</td>\n",
              "      <td>0.034732</td>\n",
              "      <td>-0.078238</td>\n",
              "      <td>0.110961</td>\n",
              "      <td>-0.048218</td>\n",
              "    </tr>\n",
              "    <tr>\n",
              "      <th>X5</th>\n",
              "      <td>0.032714</td>\n",
              "      <td>0.071917</td>\n",
              "      <td>-0.869618</td>\n",
              "      <td>0.338328</td>\n",
              "      <td>-0.038962</td>\n",
              "      <td>0.071319</td>\n",
              "      <td>-0.078628</td>\n",
              "      <td>0.028122</td>\n",
              "    </tr>\n",
              "    <tr>\n",
              "      <th>X12</th>\n",
              "      <td>0.372422</td>\n",
              "      <td>-0.190860</td>\n",
              "      <td>-0.034292</td>\n",
              "      <td>-0.063983</td>\n",
              "      <td>0.041153</td>\n",
              "      <td>-0.044065</td>\n",
              "      <td>0.008158</td>\n",
              "      <td>0.009440</td>\n",
              "    </tr>\n",
              "    <tr>\n",
              "      <th>X13</th>\n",
              "      <td>0.383241</td>\n",
              "      <td>-0.174661</td>\n",
              "      <td>-0.001872</td>\n",
              "      <td>0.007379</td>\n",
              "      <td>0.083062</td>\n",
              "      <td>-0.029004</td>\n",
              "      <td>-0.032345</td>\n",
              "      <td>-0.135667</td>\n",
              "    </tr>\n",
              "    <tr>\n",
              "      <th>X14</th>\n",
              "      <td>0.388252</td>\n",
              "      <td>-0.126928</td>\n",
              "      <td>0.034695</td>\n",
              "      <td>0.060466</td>\n",
              "      <td>0.114153</td>\n",
              "      <td>0.098805</td>\n",
              "      <td>-0.121318</td>\n",
              "      <td>0.092860</td>\n",
              "    </tr>\n",
              "    <tr>\n",
              "      <th>X15</th>\n",
              "      <td>0.391547</td>\n",
              "      <td>-0.120432</td>\n",
              "      <td>0.033998</td>\n",
              "      <td>0.074804</td>\n",
              "      <td>0.028585</td>\n",
              "      <td>0.014391</td>\n",
              "      <td>0.126416</td>\n",
              "      <td>0.039199</td>\n",
              "    </tr>\n",
              "    <tr>\n",
              "      <th>X16</th>\n",
              "      <td>0.388494</td>\n",
              "      <td>-0.105963</td>\n",
              "      <td>0.033826</td>\n",
              "      <td>0.039658</td>\n",
              "      <td>-0.106923</td>\n",
              "      <td>-0.099039</td>\n",
              "      <td>-0.007577</td>\n",
              "      <td>0.049710</td>\n",
              "    </tr>\n",
              "    <tr>\n",
              "      <th>X17</th>\n",
              "      <td>0.380658</td>\n",
              "      <td>-0.094250</td>\n",
              "      <td>0.018532</td>\n",
              "      <td>-0.070265</td>\n",
              "      <td>-0.164908</td>\n",
              "      <td>0.069734</td>\n",
              "      <td>0.007979</td>\n",
              "      <td>0.000053</td>\n",
              "    </tr>\n",
              "    <tr>\n",
              "      <th>X18</th>\n",
              "      <td>0.135184</td>\n",
              "      <td>0.383263</td>\n",
              "      <td>0.173454</td>\n",
              "      <td>0.361370</td>\n",
              "      <td>0.226152</td>\n",
              "      <td>0.039909</td>\n",
              "      <td>-0.201109</td>\n",
              "      <td>-0.749032</td>\n",
              "    </tr>\n",
              "    <tr>\n",
              "      <th>X19</th>\n",
              "      <td>0.116806</td>\n",
              "      <td>0.408284</td>\n",
              "      <td>0.200782</td>\n",
              "      <td>0.346352</td>\n",
              "      <td>0.150497</td>\n",
              "      <td>0.407283</td>\n",
              "      <td>-0.279626</td>\n",
              "      <td>0.577970</td>\n",
              "    </tr>\n",
              "    <tr>\n",
              "      <th>X20</th>\n",
              "      <td>0.128113</td>\n",
              "      <td>0.392236</td>\n",
              "      <td>0.122023</td>\n",
              "      <td>0.245351</td>\n",
              "      <td>-0.239281</td>\n",
              "      <td>-0.107804</td>\n",
              "      <td>0.785228</td>\n",
              "      <td>0.069250</td>\n",
              "    </tr>\n",
              "    <tr>\n",
              "      <th>X21</th>\n",
              "      <td>0.116939</td>\n",
              "      <td>0.349532</td>\n",
              "      <td>0.062190</td>\n",
              "      <td>-0.094151</td>\n",
              "      <td>-0.579413</td>\n",
              "      <td>-0.499366</td>\n",
              "      <td>-0.462049</td>\n",
              "      <td>0.077587</td>\n",
              "    </tr>\n",
              "    <tr>\n",
              "      <th>X22</th>\n",
              "      <td>0.113818</td>\n",
              "      <td>0.304035</td>\n",
              "      <td>-0.060148</td>\n",
              "      <td>-0.609167</td>\n",
              "      <td>-0.192848</td>\n",
              "      <td>0.603372</td>\n",
              "      <td>0.014701</td>\n",
              "      <td>-0.163441</td>\n",
              "    </tr>\n",
              "    <tr>\n",
              "      <th>X23</th>\n",
              "      <td>0.105524</td>\n",
              "      <td>0.323466</td>\n",
              "      <td>-0.050550</td>\n",
              "      <td>-0.367171</td>\n",
              "      <td>0.657456</td>\n",
              "      <td>-0.410914</td>\n",
              "      <td>0.025472</td>\n",
              "      <td>0.182023</td>\n",
              "    </tr>\n",
              "  </tbody>\n",
              "</table>\n",
              "</div>\n",
              "      <button class=\"colab-df-convert\" onclick=\"convertToInteractive('df-9b562fc0-736a-434f-80fe-dfc0fc9eeaf7')\"\n",
              "              title=\"Convert this dataframe to an interactive table.\"\n",
              "              style=\"display:none;\">\n",
              "        \n",
              "  <svg xmlns=\"http://www.w3.org/2000/svg\" height=\"24px\"viewBox=\"0 0 24 24\"\n",
              "       width=\"24px\">\n",
              "    <path d=\"M0 0h24v24H0V0z\" fill=\"none\"/>\n",
              "    <path d=\"M18.56 5.44l.94 2.06.94-2.06 2.06-.94-2.06-.94-.94-2.06-.94 2.06-2.06.94zm-11 1L8.5 8.5l.94-2.06 2.06-.94-2.06-.94L8.5 2.5l-.94 2.06-2.06.94zm10 10l.94 2.06.94-2.06 2.06-.94-2.06-.94-.94-2.06-.94 2.06-2.06.94z\"/><path d=\"M17.41 7.96l-1.37-1.37c-.4-.4-.92-.59-1.43-.59-.52 0-1.04.2-1.43.59L10.3 9.45l-7.72 7.72c-.78.78-.78 2.05 0 2.83L4 21.41c.39.39.9.59 1.41.59.51 0 1.02-.2 1.41-.59l7.78-7.78 2.81-2.81c.8-.78.8-2.07 0-2.86zM5.41 20L4 18.59l7.72-7.72 1.47 1.35L5.41 20z\"/>\n",
              "  </svg>\n",
              "      </button>\n",
              "      \n",
              "  <style>\n",
              "    .colab-df-container {\n",
              "      display:flex;\n",
              "      flex-wrap:wrap;\n",
              "      gap: 12px;\n",
              "    }\n",
              "\n",
              "    .colab-df-convert {\n",
              "      background-color: #E8F0FE;\n",
              "      border: none;\n",
              "      border-radius: 50%;\n",
              "      cursor: pointer;\n",
              "      display: none;\n",
              "      fill: #1967D2;\n",
              "      height: 32px;\n",
              "      padding: 0 0 0 0;\n",
              "      width: 32px;\n",
              "    }\n",
              "\n",
              "    .colab-df-convert:hover {\n",
              "      background-color: #E2EBFA;\n",
              "      box-shadow: 0px 1px 2px rgba(60, 64, 67, 0.3), 0px 1px 3px 1px rgba(60, 64, 67, 0.15);\n",
              "      fill: #174EA6;\n",
              "    }\n",
              "\n",
              "    [theme=dark] .colab-df-convert {\n",
              "      background-color: #3B4455;\n",
              "      fill: #D2E3FC;\n",
              "    }\n",
              "\n",
              "    [theme=dark] .colab-df-convert:hover {\n",
              "      background-color: #434B5C;\n",
              "      box-shadow: 0px 1px 3px 1px rgba(0, 0, 0, 0.15);\n",
              "      filter: drop-shadow(0px 1px 2px rgba(0, 0, 0, 0.3));\n",
              "      fill: #FFFFFF;\n",
              "    }\n",
              "  </style>\n",
              "\n",
              "      <script>\n",
              "        const buttonEl =\n",
              "          document.querySelector('#df-9b562fc0-736a-434f-80fe-dfc0fc9eeaf7 button.colab-df-convert');\n",
              "        buttonEl.style.display =\n",
              "          google.colab.kernel.accessAllowed ? 'block' : 'none';\n",
              "\n",
              "        async function convertToInteractive(key) {\n",
              "          const element = document.querySelector('#df-9b562fc0-736a-434f-80fe-dfc0fc9eeaf7');\n",
              "          const dataTable =\n",
              "            await google.colab.kernel.invokeFunction('convertToInteractive',\n",
              "                                                     [key], {});\n",
              "          if (!dataTable) return;\n",
              "\n",
              "          const docLinkHtml = 'Like what you see? Visit the ' +\n",
              "            '<a target=\"_blank\" href=https://colab.research.google.com/notebooks/data_table.ipynb>data table notebook</a>'\n",
              "            + ' to learn more about interactive tables.';\n",
              "          element.innerHTML = '';\n",
              "          dataTable['output_type'] = 'display_data';\n",
              "          await google.colab.output.renderOutput(dataTable, element);\n",
              "          const docLink = document.createElement('div');\n",
              "          docLink.innerHTML = docLinkHtml;\n",
              "          element.appendChild(docLink);\n",
              "        }\n",
              "      </script>\n",
              "    </div>\n",
              "  </div>\n",
              "  "
            ]
          },
          "metadata": {},
          "execution_count": 159
        }
      ],
      "source": [
        "# Explicación de como se compone cada uno de los componentes principales\n",
        "pcsComponents_df = pd.DataFrame(pca_std.components_.transpose(), \n",
        "                                columns=pcsSummary_df_std.columns,\n",
        "                                index=scaled_df_std.iloc[:,0:].columns\n",
        "                                )\n",
        "pcsComponents_df.iloc[:,:8]"
      ]
    },
    {
      "cell_type": "code",
      "execution_count": 160,
      "metadata": {
        "id": "NDTtYKkSwGNT",
        "outputId": "fdcae833-5a38-495f-f082-86707987ec2c",
        "colab": {
          "base_uri": "https://localhost:8080/"
        }
      },
      "outputs": [
        {
          "output_type": "execute_result",
          "data": {
            "text/plain": [
              "[('PC1', X15    0.391547\n",
              "  X16    0.388494\n",
              "  X14    0.388252\n",
              "  X13    0.383241\n",
              "  X17    0.380658\n",
              "  Name: PC1, dtype: float64), ('PC2', X19    0.408284\n",
              "  X20    0.392236\n",
              "  X18    0.383263\n",
              "  X21    0.349532\n",
              "  X23    0.323466\n",
              "  Name: PC2, dtype: float64), ('PC3', X5    -0.869618\n",
              "  X1    -0.378693\n",
              "  X19    0.200782\n",
              "  X18    0.173454\n",
              "  X20    0.122023\n",
              "  Name: PC3, dtype: float64), ('PC4', X22   -0.609167\n",
              "  X23   -0.367171\n",
              "  X18    0.361370\n",
              "  X19    0.346352\n",
              "  X5     0.338328\n",
              "  Name: PC4, dtype: float64), ('PC5', X23    0.657456\n",
              "  X21   -0.579413\n",
              "  X20   -0.239281\n",
              "  X18    0.226152\n",
              "  X22   -0.192848\n",
              "  Name: PC5, dtype: float64)]"
            ]
          },
          "metadata": {},
          "execution_count": 160
        }
      ],
      "source": [
        "# Se muestran las variables principales que construyen los primeros 5 componentes principales\n",
        "[(item,pcsComponents_df.sort_values(by=item, key=abs, ascending=False)[item][0:5]) for item in ['PC1','PC2','PC3','PC4','PC5']]"
      ]
    },
    {
      "cell_type": "markdown",
      "source": [
        "**Comentarios:**\n",
        "\n",
        "-> Esta tabla es un resumen de la tabla anterior. En ella podemos observar las variables originales principales que componen los primeros 5 componentes.\n",
        "\n",
        "-> Por ejemplo PC1 esta compuesto principalmente de la variables X16 (Monto de factura del credito en Mayo 2005), X14 (Monto de factura del credito en Julio 2005), X13 (Monto de factura del credito en Agosto 2005) y X17 (Monto de factura del credito en Abril 2005)."
      ],
      "metadata": {
        "id": "PuuMXAsVIVjj"
      }
    },
    {
      "cell_type": "code",
      "execution_count": 161,
      "metadata": {
        "id": "ig7EOdNDwGNT",
        "outputId": "c6ce3d38-3144-425e-ec1c-f204ae232410",
        "colab": {
          "base_uri": "https://localhost:8080/",
          "height": 488
        }
      },
      "outputs": [
        {
          "output_type": "execute_result",
          "data": {
            "text/plain": [
              "    % varianza explicada  % varianza acumulada\n",
              "0                  42.28             42.279866\n",
              "1                  12.26             54.537746\n",
              "2                   7.47             62.002923\n",
              "3                   6.61             68.609477\n",
              "4                   6.31             74.921010\n",
              "5                   6.23             81.154264\n",
              "6                   5.57             86.722320\n",
              "7                   5.19             91.912176\n",
              "8                   5.05             96.963545\n",
              "9                   1.89             98.852254\n",
              "10                  0.51             99.359500\n",
              "11                  0.29             99.652873\n",
              "12                  0.18             99.833988\n",
              "13                  0.17            100.000000"
            ],
            "text/html": [
              "\n",
              "  <div id=\"df-f0eb8b27-fd5a-4c79-87e1-ded46877114c\">\n",
              "    <div class=\"colab-df-container\">\n",
              "      <div>\n",
              "<style scoped>\n",
              "    .dataframe tbody tr th:only-of-type {\n",
              "        vertical-align: middle;\n",
              "    }\n",
              "\n",
              "    .dataframe tbody tr th {\n",
              "        vertical-align: top;\n",
              "    }\n",
              "\n",
              "    .dataframe thead th {\n",
              "        text-align: right;\n",
              "    }\n",
              "</style>\n",
              "<table border=\"1\" class=\"dataframe\">\n",
              "  <thead>\n",
              "    <tr style=\"text-align: right;\">\n",
              "      <th></th>\n",
              "      <th>% varianza explicada</th>\n",
              "      <th>% varianza acumulada</th>\n",
              "    </tr>\n",
              "  </thead>\n",
              "  <tbody>\n",
              "    <tr>\n",
              "      <th>0</th>\n",
              "      <td>42.28</td>\n",
              "      <td>42.279866</td>\n",
              "    </tr>\n",
              "    <tr>\n",
              "      <th>1</th>\n",
              "      <td>12.26</td>\n",
              "      <td>54.537746</td>\n",
              "    </tr>\n",
              "    <tr>\n",
              "      <th>2</th>\n",
              "      <td>7.47</td>\n",
              "      <td>62.002923</td>\n",
              "    </tr>\n",
              "    <tr>\n",
              "      <th>3</th>\n",
              "      <td>6.61</td>\n",
              "      <td>68.609477</td>\n",
              "    </tr>\n",
              "    <tr>\n",
              "      <th>4</th>\n",
              "      <td>6.31</td>\n",
              "      <td>74.921010</td>\n",
              "    </tr>\n",
              "    <tr>\n",
              "      <th>5</th>\n",
              "      <td>6.23</td>\n",
              "      <td>81.154264</td>\n",
              "    </tr>\n",
              "    <tr>\n",
              "      <th>6</th>\n",
              "      <td>5.57</td>\n",
              "      <td>86.722320</td>\n",
              "    </tr>\n",
              "    <tr>\n",
              "      <th>7</th>\n",
              "      <td>5.19</td>\n",
              "      <td>91.912176</td>\n",
              "    </tr>\n",
              "    <tr>\n",
              "      <th>8</th>\n",
              "      <td>5.05</td>\n",
              "      <td>96.963545</td>\n",
              "    </tr>\n",
              "    <tr>\n",
              "      <th>9</th>\n",
              "      <td>1.89</td>\n",
              "      <td>98.852254</td>\n",
              "    </tr>\n",
              "    <tr>\n",
              "      <th>10</th>\n",
              "      <td>0.51</td>\n",
              "      <td>99.359500</td>\n",
              "    </tr>\n",
              "    <tr>\n",
              "      <th>11</th>\n",
              "      <td>0.29</td>\n",
              "      <td>99.652873</td>\n",
              "    </tr>\n",
              "    <tr>\n",
              "      <th>12</th>\n",
              "      <td>0.18</td>\n",
              "      <td>99.833988</td>\n",
              "    </tr>\n",
              "    <tr>\n",
              "      <th>13</th>\n",
              "      <td>0.17</td>\n",
              "      <td>100.000000</td>\n",
              "    </tr>\n",
              "  </tbody>\n",
              "</table>\n",
              "</div>\n",
              "      <button class=\"colab-df-convert\" onclick=\"convertToInteractive('df-f0eb8b27-fd5a-4c79-87e1-ded46877114c')\"\n",
              "              title=\"Convert this dataframe to an interactive table.\"\n",
              "              style=\"display:none;\">\n",
              "        \n",
              "  <svg xmlns=\"http://www.w3.org/2000/svg\" height=\"24px\"viewBox=\"0 0 24 24\"\n",
              "       width=\"24px\">\n",
              "    <path d=\"M0 0h24v24H0V0z\" fill=\"none\"/>\n",
              "    <path d=\"M18.56 5.44l.94 2.06.94-2.06 2.06-.94-2.06-.94-.94-2.06-.94 2.06-2.06.94zm-11 1L8.5 8.5l.94-2.06 2.06-.94-2.06-.94L8.5 2.5l-.94 2.06-2.06.94zm10 10l.94 2.06.94-2.06 2.06-.94-2.06-.94-.94-2.06-.94 2.06-2.06.94z\"/><path d=\"M17.41 7.96l-1.37-1.37c-.4-.4-.92-.59-1.43-.59-.52 0-1.04.2-1.43.59L10.3 9.45l-7.72 7.72c-.78.78-.78 2.05 0 2.83L4 21.41c.39.39.9.59 1.41.59.51 0 1.02-.2 1.41-.59l7.78-7.78 2.81-2.81c.8-.78.8-2.07 0-2.86zM5.41 20L4 18.59l7.72-7.72 1.47 1.35L5.41 20z\"/>\n",
              "  </svg>\n",
              "      </button>\n",
              "      \n",
              "  <style>\n",
              "    .colab-df-container {\n",
              "      display:flex;\n",
              "      flex-wrap:wrap;\n",
              "      gap: 12px;\n",
              "    }\n",
              "\n",
              "    .colab-df-convert {\n",
              "      background-color: #E8F0FE;\n",
              "      border: none;\n",
              "      border-radius: 50%;\n",
              "      cursor: pointer;\n",
              "      display: none;\n",
              "      fill: #1967D2;\n",
              "      height: 32px;\n",
              "      padding: 0 0 0 0;\n",
              "      width: 32px;\n",
              "    }\n",
              "\n",
              "    .colab-df-convert:hover {\n",
              "      background-color: #E2EBFA;\n",
              "      box-shadow: 0px 1px 2px rgba(60, 64, 67, 0.3), 0px 1px 3px 1px rgba(60, 64, 67, 0.15);\n",
              "      fill: #174EA6;\n",
              "    }\n",
              "\n",
              "    [theme=dark] .colab-df-convert {\n",
              "      background-color: #3B4455;\n",
              "      fill: #D2E3FC;\n",
              "    }\n",
              "\n",
              "    [theme=dark] .colab-df-convert:hover {\n",
              "      background-color: #434B5C;\n",
              "      box-shadow: 0px 1px 3px 1px rgba(0, 0, 0, 0.15);\n",
              "      filter: drop-shadow(0px 1px 2px rgba(0, 0, 0, 0.3));\n",
              "      fill: #FFFFFF;\n",
              "    }\n",
              "  </style>\n",
              "\n",
              "      <script>\n",
              "        const buttonEl =\n",
              "          document.querySelector('#df-f0eb8b27-fd5a-4c79-87e1-ded46877114c button.colab-df-convert');\n",
              "        buttonEl.style.display =\n",
              "          google.colab.kernel.accessAllowed ? 'block' : 'none';\n",
              "\n",
              "        async function convertToInteractive(key) {\n",
              "          const element = document.querySelector('#df-f0eb8b27-fd5a-4c79-87e1-ded46877114c');\n",
              "          const dataTable =\n",
              "            await google.colab.kernel.invokeFunction('convertToInteractive',\n",
              "                                                     [key], {});\n",
              "          if (!dataTable) return;\n",
              "\n",
              "          const docLinkHtml = 'Like what you see? Visit the ' +\n",
              "            '<a target=\"_blank\" href=https://colab.research.google.com/notebooks/data_table.ipynb>data table notebook</a>'\n",
              "            + ' to learn more about interactive tables.';\n",
              "          element.innerHTML = '';\n",
              "          dataTable['output_type'] = 'display_data';\n",
              "          await google.colab.output.renderOutput(dataTable, element);\n",
              "          const docLink = document.createElement('div');\n",
              "          docLink.innerHTML = docLinkHtml;\n",
              "          element.appendChild(docLink);\n",
              "        }\n",
              "      </script>\n",
              "    </div>\n",
              "  </div>\n",
              "  "
            ]
          },
          "metadata": {},
          "execution_count": 161
        }
      ],
      "source": [
        "# Muestra la varianza explicada con cada componente\n",
        "pcsSummary_df = pd.DataFrame({'% varianza explicada': np.round(pca_std.\n",
        "                                explained_variance_ratio_,4) * 100,'% varianza acumulada': np.cumsum(pca_std.\n",
        "                            explained_variance_ratio_) * 100})\n",
        "\n",
        "pcsSummary_df"
      ]
    },
    {
      "cell_type": "markdown",
      "metadata": {
        "id": "QTjbfTKywGNT"
      },
      "source": [
        "**Comentarios:**\n",
        "\n",
        "-> PCA de componentes, de los cuales los top 8 explican el 91% de la variacion de los datos\n",
        "-> Estos componentes podrían estar muy influenciados por los valores fuera de lo comun (outliers)."
      ]
    },
    {
      "cell_type": "markdown",
      "metadata": {
        "id": "KFNtej-dwGNT"
      },
      "source": [
        "**Vamos a graficar el boxplot con los datos normalizados usando el standardscaler**\n"
      ]
    },
    {
      "cell_type": "code",
      "execution_count": 162,
      "metadata": {
        "id": "B1fby4L0wGNT",
        "outputId": "7a15fe32-dac7-43ae-f842-5ebc00b98415",
        "colab": {
          "base_uri": "https://localhost:8080/",
          "height": 736
        }
      },
      "outputs": [
        {
          "output_type": "display_data",
          "data": {
            "text/plain": [
              "<Figure size 864x864 with 1 Axes>"
            ],
            "image/png": "[encoded data removed]"
          },
          "metadata": {}
        }
      ],
      "source": [
        "# Boxplot de los datos normalizados\n",
        "sns.set(rc={'figure.figsize':(12,12)})\n",
        "sns.boxplot(x='variable', y='value', data=pd.melt(scaled_df_std));\n",
        "plt.title(\"Boxplot de variables numericas dataset (Standard Scaler)\");"
      ]
    },
    {
      "cell_type": "code",
      "execution_count": 163,
      "metadata": {
        "id": "u8HSPk5RwGNT",
        "outputId": "019c0c47-a674-4e69-eeec-61b368203566",
        "colab": {
          "base_uri": "https://localhost:8080/",
          "height": 736
        }
      },
      "outputs": [
        {
          "output_type": "display_data",
          "data": {
            "text/plain": [
              "<Figure size 864x864 with 1 Axes>"
            ],
            "image/png": "[encoded data removed]"
          },
          "metadata": {}
        }
      ],
      "source": [
        "# Boxplot de los datos originales\n",
        "sns.boxplot(x='variable', y='value', data=pd.melt(df));\n",
        "plt.title(\"Boxplot de variables numericas dataset (Sin normalizar)\");"
      ]
    },
    {
      "cell_type": "markdown",
      "source": [
        "**Comentarios:**\n",
        "\n",
        "  -> Se sigue observando los mismos outliers al normalizar con el Standard Scaler."
      ],
      "metadata": {
        "id": "HRuldmkdA9Lk"
      }
    },
    {
      "cell_type": "markdown",
      "metadata": {
        "id": "PGyH5ckEwGNT"
      },
      "source": [
        "**Procedemos a normalizar usando MinMax y generar copia de df normalizado con la intención de ver si cambia los componentes generados durante el PCA**"
      ]
    },
    {
      "cell_type": "code",
      "execution_count": 164,
      "metadata": {
        "id": "UQ30K-9qwGNT",
        "outputId": "3402ff47-9591-4c82-f84a-2736db09cd5a",
        "colab": {
          "base_uri": "https://localhost:8080/"
        }
      },
      "outputs": [
        {
          "output_type": "execute_result",
          "data": {
            "text/plain": [
              "array([[0.01010101, 0.05172414, 0.14998173, 0.06916432, 0.08672289,\n",
              "        0.16013776, 0.08064809, 0.26097872, 0.        , 0.00040908,\n",
              "        0.        , 0.        , 0.        , 0.        ],\n",
              "       [0.11111111, 0.0862069 , 0.14889243, 0.06785751, 0.08781713,\n",
              "        0.16321994, 0.08407395, 0.26348474, 0.        , 0.00059373,\n",
              "        0.00111602, 0.00161031, 0.        , 0.00378311]])"
            ]
          },
          "metadata": {},
          "execution_count": 164
        }
      ],
      "source": [
        "# Normalización de los datos utilizando la normalización mix-max\n",
        "minmax_scaler = MinMaxScaler()\n",
        "scaled_minmax = minmax_scaler.fit_transform(df)\n",
        "scaled_minmax[:2]"
      ]
    },
    {
      "cell_type": "code",
      "execution_count": 165,
      "metadata": {
        "id": "iQ3h2pd9wGNU"
      },
      "outputs": [],
      "source": [
        "# Copia de bd con los datos normalizados con min-max\n",
        "scaled_df_minmax = pd.DataFrame(scaled_minmax, columns=df.columns)"
      ]
    },
    {
      "cell_type": "code",
      "execution_count": 166,
      "metadata": {
        "id": "JncZCRwLwGNU",
        "outputId": "77a60c94-b3d1-44c8-fab0-73b1ac910272",
        "colab": {
          "base_uri": "https://localhost:8080/",
          "height": 754
        }
      },
      "outputs": [
        {
          "output_type": "execute_result",
          "data": {
            "text/plain": [
              "Text(0.5, 1.0, 'Boxplot de variables numericas dataset (Normalizacion MinMax )')"
            ]
          },
          "metadata": {},
          "execution_count": 166
        },
        {
          "output_type": "display_data",
          "data": {
            "text/plain": [
              "<Figure size 864x864 with 1 Axes>"
            ],
            "image/png": "[encoded data removed]"
          },
          "metadata": {}
        }
      ],
      "source": [
        "# Boxplot de datos normalizados con min-max\n",
        "sns.set(rc={'figure.figsize':(12,12)})\n",
        "sns.boxplot(x='variable', y='value', data=pd.melt(scaled_df_minmax))\n",
        "plt.title(\"Boxplot de variables numericas dataset (Normalizacion MinMax )\")"
      ]
    },
    {
      "cell_type": "markdown",
      "source": [
        "**Comentarios:**\n",
        "\n",
        "  -> Se observa una reducción de los valores outliers."
      ],
      "metadata": {
        "id": "nQ2VlN9WCyW2"
      }
    },
    {
      "cell_type": "markdown",
      "metadata": {
        "id": "RMpzyBE0wGNU"
      },
      "source": [
        "**PCA (datos con minmax scaler)**"
      ]
    },
    {
      "cell_type": "code",
      "execution_count": 167,
      "metadata": {
        "id": "GZyagLicwGNU",
        "outputId": "3c77e0f4-61cb-450b-f261-f9fa92e26bfd",
        "colab": {
          "base_uri": "https://localhost:8080/"
        }
      },
      "outputs": [
        {
          "output_type": "execute_result",
          "data": {
            "text/plain": [
              "array([[-2.62106016e-01, -2.71309899e-02,  2.81243812e-02, ...,\n",
              "         3.96234115e-04,  3.45169428e-04,  6.17014902e-04],\n",
              "       [-1.88345137e-01,  6.45803056e-03, -4.12649023e-02, ...,\n",
              "         7.40883083e-04, -2.79490567e-04, -9.06301604e-05],\n",
              "       [-7.67098382e-02, -6.46185185e-02,  1.66235993e-02, ...,\n",
              "        -5.17039340e-03, -1.22217481e-03, -4.17959106e-04],\n",
              "       ...,\n",
              "       [-6.39615136e-02, -1.30048887e-01,  5.98110681e-02, ...,\n",
              "         4.13109961e-03,  9.03072940e-04, -1.46978725e-03],\n",
              "       [ 4.14173466e-02, -9.53482246e-02,  6.87747710e-02, ...,\n",
              "        -1.28232753e-02, -7.89310240e-03, -9.93359044e-03],\n",
              "       [ 9.21884933e-02, -1.69902475e-01,  1.00099798e-01, ...,\n",
              "        -9.41236013e-05,  7.38905947e-03, -1.93918862e-03]])"
            ]
          },
          "metadata": {},
          "execution_count": 167
        }
      ],
      "source": [
        "# Creación de componentes PCA con datos min-max\n",
        "pca_minmax = PCA()\n",
        "pca_minmax.fit_transform(scaled_df_minmax)"
      ]
    },
    {
      "cell_type": "code",
      "execution_count": 168,
      "metadata": {
        "id": "zXd_5nwiwGNU",
        "outputId": "0780d841-b62b-48fb-ff50-e7320f0ce2cd",
        "colab": {
          "base_uri": "https://localhost:8080/",
          "height": 143
        }
      },
      "outputs": [
        {
          "output_type": "execute_result",
          "data": {
            "text/plain": [
              "                                PC1      PC2      PC3      PC4      PC5  \\\n",
              "Desviación                   0.1654   0.1453   0.1099   0.0368   0.0337   \n",
              "% de la varianza explicada  41.4252  31.9465  18.2653   2.0481   1.7199   \n",
              "% Varianza acumulada        41.4252  73.3717  91.6370  93.6852  95.4051   \n",
              "\n",
              "                                PC6      PC7      PC8      PC9     PC10  \\\n",
              "Desviación                   0.0319   0.0248   0.0210   0.0188   0.0156   \n",
              "% de la varianza explicada   1.5434   0.9307   0.6669   0.5325   0.3688   \n",
              "% Varianza acumulada        96.9485  97.8792  98.5461  99.0785  99.4473   \n",
              "\n",
              "                               PC11     PC12     PC13      PC14  \n",
              "Desviación                   0.0120   0.0104   0.0086    0.0062  \n",
              "% de la varianza explicada   0.2178   0.1648   0.1125    0.0576  \n",
              "% Varianza acumulada        99.6651  99.8299  99.9424  100.0000  "
            ],
            "text/html": [
              "\n",
              "  <div id=\"df-dfe9c7d8-0e4d-48eb-9a29-712ef1458e1d\">\n",
              "    <div class=\"colab-df-container\">\n",
              "      <div>\n",
              "<style scoped>\n",
              "    .dataframe tbody tr th:only-of-type {\n",
              "        vertical-align: middle;\n",
              "    }\n",
              "\n",
              "    .dataframe tbody tr th {\n",
              "        vertical-align: top;\n",
              "    }\n",
              "\n",
              "    .dataframe thead th {\n",
              "        text-align: right;\n",
              "    }\n",
              "</style>\n",
              "<table border=\"1\" class=\"dataframe\">\n",
              "  <thead>\n",
              "    <tr style=\"text-align: right;\">\n",
              "      <th></th>\n",
              "      <th>PC1</th>\n",
              "      <th>PC2</th>\n",
              "      <th>PC3</th>\n",
              "      <th>PC4</th>\n",
              "      <th>PC5</th>\n",
              "      <th>PC6</th>\n",
              "      <th>PC7</th>\n",
              "      <th>PC8</th>\n",
              "      <th>PC9</th>\n",
              "      <th>PC10</th>\n",
              "      <th>PC11</th>\n",
              "      <th>PC12</th>\n",
              "      <th>PC13</th>\n",
              "      <th>PC14</th>\n",
              "    </tr>\n",
              "  </thead>\n",
              "  <tbody>\n",
              "    <tr>\n",
              "      <th>Desviación</th>\n",
              "      <td>0.1654</td>\n",
              "      <td>0.1453</td>\n",
              "      <td>0.1099</td>\n",
              "      <td>0.0368</td>\n",
              "      <td>0.0337</td>\n",
              "      <td>0.0319</td>\n",
              "      <td>0.0248</td>\n",
              "      <td>0.0210</td>\n",
              "      <td>0.0188</td>\n",
              "      <td>0.0156</td>\n",
              "      <td>0.0120</td>\n",
              "      <td>0.0104</td>\n",
              "      <td>0.0086</td>\n",
              "      <td>0.0062</td>\n",
              "    </tr>\n",
              "    <tr>\n",
              "      <th>% de la varianza explicada</th>\n",
              "      <td>41.4252</td>\n",
              "      <td>31.9465</td>\n",
              "      <td>18.2653</td>\n",
              "      <td>2.0481</td>\n",
              "      <td>1.7199</td>\n",
              "      <td>1.5434</td>\n",
              "      <td>0.9307</td>\n",
              "      <td>0.6669</td>\n",
              "      <td>0.5325</td>\n",
              "      <td>0.3688</td>\n",
              "      <td>0.2178</td>\n",
              "      <td>0.1648</td>\n",
              "      <td>0.1125</td>\n",
              "      <td>0.0576</td>\n",
              "    </tr>\n",
              "    <tr>\n",
              "      <th>% Varianza acumulada</th>\n",
              "      <td>41.4252</td>\n",
              "      <td>73.3717</td>\n",
              "      <td>91.6370</td>\n",
              "      <td>93.6852</td>\n",
              "      <td>95.4051</td>\n",
              "      <td>96.9485</td>\n",
              "      <td>97.8792</td>\n",
              "      <td>98.5461</td>\n",
              "      <td>99.0785</td>\n",
              "      <td>99.4473</td>\n",
              "      <td>99.6651</td>\n",
              "      <td>99.8299</td>\n",
              "      <td>99.9424</td>\n",
              "      <td>100.0000</td>\n",
              "    </tr>\n",
              "  </tbody>\n",
              "</table>\n",
              "</div>\n",
              "      <button class=\"colab-df-convert\" onclick=\"convertToInteractive('df-dfe9c7d8-0e4d-48eb-9a29-712ef1458e1d')\"\n",
              "              title=\"Convert this dataframe to an interactive table.\"\n",
              "              style=\"display:none;\">\n",
              "        \n",
              "  <svg xmlns=\"http://www.w3.org/2000/svg\" height=\"24px\"viewBox=\"0 0 24 24\"\n",
              "       width=\"24px\">\n",
              "    <path d=\"M0 0h24v24H0V0z\" fill=\"none\"/>\n",
              "    <path d=\"M18.56 5.44l.94 2.06.94-2.06 2.06-.94-2.06-.94-.94-2.06-.94 2.06-2.06.94zm-11 1L8.5 8.5l.94-2.06 2.06-.94-2.06-.94L8.5 2.5l-.94 2.06-2.06.94zm10 10l.94 2.06.94-2.06 2.06-.94-2.06-.94-.94-2.06-.94 2.06-2.06.94z\"/><path d=\"M17.41 7.96l-1.37-1.37c-.4-.4-.92-.59-1.43-.59-.52 0-1.04.2-1.43.59L10.3 9.45l-7.72 7.72c-.78.78-.78 2.05 0 2.83L4 21.41c.39.39.9.59 1.41.59.51 0 1.02-.2 1.41-.59l7.78-7.78 2.81-2.81c.8-.78.8-2.07 0-2.86zM5.41 20L4 18.59l7.72-7.72 1.47 1.35L5.41 20z\"/>\n",
              "  </svg>\n",
              "      </button>\n",
              "      \n",
              "  <style>\n",
              "    .colab-df-container {\n",
              "      display:flex;\n",
              "      flex-wrap:wrap;\n",
              "      gap: 12px;\n",
              "    }\n",
              "\n",
              "    .colab-df-convert {\n",
              "      background-color: #E8F0FE;\n",
              "      border: none;\n",
              "      border-radius: 50%;\n",
              "      cursor: pointer;\n",
              "      display: none;\n",
              "      fill: #1967D2;\n",
              "      height: 32px;\n",
              "      padding: 0 0 0 0;\n",
              "      width: 32px;\n",
              "    }\n",
              "\n",
              "    .colab-df-convert:hover {\n",
              "      background-color: #E2EBFA;\n",
              "      box-shadow: 0px 1px 2px rgba(60, 64, 67, 0.3), 0px 1px 3px 1px rgba(60, 64, 67, 0.15);\n",
              "      fill: #174EA6;\n",
              "    }\n",
              "\n",
              "    [theme=dark] .colab-df-convert {\n",
              "      background-color: #3B4455;\n",
              "      fill: #D2E3FC;\n",
              "    }\n",
              "\n",
              "    [theme=dark] .colab-df-convert:hover {\n",
              "      background-color: #434B5C;\n",
              "      box-shadow: 0px 1px 3px 1px rgba(0, 0, 0, 0.15);\n",
              "      filter: drop-shadow(0px 1px 2px rgba(0, 0, 0, 0.3));\n",
              "      fill: #FFFFFF;\n",
              "    }\n",
              "  </style>\n",
              "\n",
              "      <script>\n",
              "        const buttonEl =\n",
              "          document.querySelector('#df-dfe9c7d8-0e4d-48eb-9a29-712ef1458e1d button.colab-df-convert');\n",
              "        buttonEl.style.display =\n",
              "          google.colab.kernel.accessAllowed ? 'block' : 'none';\n",
              "\n",
              "        async function convertToInteractive(key) {\n",
              "          const element = document.querySelector('#df-dfe9c7d8-0e4d-48eb-9a29-712ef1458e1d');\n",
              "          const dataTable =\n",
              "            await google.colab.kernel.invokeFunction('convertToInteractive',\n",
              "                                                     [key], {});\n",
              "          if (!dataTable) return;\n",
              "\n",
              "          const docLinkHtml = 'Like what you see? Visit the ' +\n",
              "            '<a target=\"_blank\" href=https://colab.research.google.com/notebooks/data_table.ipynb>data table notebook</a>'\n",
              "            + ' to learn more about interactive tables.';\n",
              "          element.innerHTML = '';\n",
              "          dataTable['output_type'] = 'display_data';\n",
              "          await google.colab.output.renderOutput(dataTable, element);\n",
              "          const docLink = document.createElement('div');\n",
              "          docLink.innerHTML = docLinkHtml;\n",
              "          element.appendChild(docLink);\n",
              "        }\n",
              "      </script>\n",
              "    </div>\n",
              "  </div>\n",
              "  "
            ]
          },
          "metadata": {},
          "execution_count": 168
        }
      ],
      "source": [
        "# Resumen de varianza de los componentes principales\n",
        "pcsSummary_df_minmax = pd.DataFrame({'Desviación': np.sqrt(pca_minmax.explained_variance_),\n",
        "                             '% de la varianza explicada': pca_minmax.explained_variance_ratio_*100,\n",
        "                             '% Varianza acumulada': np.cumsum(pca_minmax.explained_variance_ratio_*100)\n",
        "                             })\n",
        "\n",
        "pcsSummary_df_minmax = pcsSummary_df_minmax.transpose()\n",
        "pcsSummary_df_minmax.columns = ['PC{}'.format(i) for i in range(1, len(pcsSummary_df_minmax.columns) + 1)]\n",
        "pcsSummary_df_minmax.round(4) "
      ]
    },
    {
      "cell_type": "markdown",
      "metadata": {
        "id": "D3jaSLhdwGNU"
      },
      "source": [
        "**Comentarios:**\n",
        "\n",
        "  -> Con los datos min-max se captura más varianza en menos componentes.\n",
        "\n",
        "  -> Los primeros 3 componentes explican mas del 90% de la variación. \n",
        "\n",
        "  -> Bajo nuestro criterio es adecuado quedarse con 3 componentes."
      ]
    },
    {
      "cell_type": "code",
      "execution_count": 169,
      "metadata": {
        "id": "tW6f1M_pwGNU",
        "outputId": "0fa295c5-904a-42ec-b3bc-be35426926a1",
        "colab": {
          "base_uri": "https://localhost:8080/",
          "height": 488
        }
      },
      "outputs": [
        {
          "output_type": "execute_result",
          "data": {
            "text/plain": [
              "          PC1       PC2       PC3\n",
              "X1   0.437234  0.500816 -0.741745\n",
              "X5   0.824708 -0.554503  0.111099\n",
              "X12  0.164544  0.302391  0.306196\n",
              "X13  0.171193  0.318066  0.330680\n",
              "X14  0.096055  0.178208  0.181198\n",
              "X15  0.154545  0.288691  0.286747\n",
              "X16  0.152013  0.284822  0.278143\n",
              "X17  0.112540  0.210894  0.203392\n",
              "X18  0.018288  0.028957  0.002488\n",
              "X19  0.010888  0.016698 -0.002875\n",
              "X20  0.019443  0.029608 -0.001857\n",
              "X21  0.022729  0.036062 -0.005766\n",
              "X22  0.033595  0.052344 -0.015594\n",
              "X23  0.030667  0.048678 -0.016828"
            ],
            "text/html": [
              "\n",
              "  <div id=\"df-6e8f9d15-c62c-429b-b0cb-5c2a06d76ec5\">\n",
              "    <div class=\"colab-df-container\">\n",
              "      <div>\n",
              "<style scoped>\n",
              "    .dataframe tbody tr th:only-of-type {\n",
              "        vertical-align: middle;\n",
              "    }\n",
              "\n",
              "    .dataframe tbody tr th {\n",
              "        vertical-align: top;\n",
              "    }\n",
              "\n",
              "    .dataframe thead th {\n",
              "        text-align: right;\n",
              "    }\n",
              "</style>\n",
              "<table border=\"1\" class=\"dataframe\">\n",
              "  <thead>\n",
              "    <tr style=\"text-align: right;\">\n",
              "      <th></th>\n",
              "      <th>PC1</th>\n",
              "      <th>PC2</th>\n",
              "      <th>PC3</th>\n",
              "    </tr>\n",
              "  </thead>\n",
              "  <tbody>\n",
              "    <tr>\n",
              "      <th>X1</th>\n",
              "      <td>0.437234</td>\n",
              "      <td>0.500816</td>\n",
              "      <td>-0.741745</td>\n",
              "    </tr>\n",
              "    <tr>\n",
              "      <th>X5</th>\n",
              "      <td>0.824708</td>\n",
              "      <td>-0.554503</td>\n",
              "      <td>0.111099</td>\n",
              "    </tr>\n",
              "    <tr>\n",
              "      <th>X12</th>\n",
              "      <td>0.164544</td>\n",
              "      <td>0.302391</td>\n",
              "      <td>0.306196</td>\n",
              "    </tr>\n",
              "    <tr>\n",
              "      <th>X13</th>\n",
              "      <td>0.171193</td>\n",
              "      <td>0.318066</td>\n",
              "      <td>0.330680</td>\n",
              "    </tr>\n",
              "    <tr>\n",
              "      <th>X14</th>\n",
              "      <td>0.096055</td>\n",
              "      <td>0.178208</td>\n",
              "      <td>0.181198</td>\n",
              "    </tr>\n",
              "    <tr>\n",
              "      <th>X15</th>\n",
              "      <td>0.154545</td>\n",
              "      <td>0.288691</td>\n",
              "      <td>0.286747</td>\n",
              "    </tr>\n",
              "    <tr>\n",
              "      <th>X16</th>\n",
              "      <td>0.152013</td>\n",
              "      <td>0.284822</td>\n",
              "      <td>0.278143</td>\n",
              "    </tr>\n",
              "    <tr>\n",
              "      <th>X17</th>\n",
              "      <td>0.112540</td>\n",
              "      <td>0.210894</td>\n",
              "      <td>0.203392</td>\n",
              "    </tr>\n",
              "    <tr>\n",
              "      <th>X18</th>\n",
              "      <td>0.018288</td>\n",
              "      <td>0.028957</td>\n",
              "      <td>0.002488</td>\n",
              "    </tr>\n",
              "    <tr>\n",
              "      <th>X19</th>\n",
              "      <td>0.010888</td>\n",
              "      <td>0.016698</td>\n",
              "      <td>-0.002875</td>\n",
              "    </tr>\n",
              "    <tr>\n",
              "      <th>X20</th>\n",
              "      <td>0.019443</td>\n",
              "      <td>0.029608</td>\n",
              "      <td>-0.001857</td>\n",
              "    </tr>\n",
              "    <tr>\n",
              "      <th>X21</th>\n",
              "      <td>0.022729</td>\n",
              "      <td>0.036062</td>\n",
              "      <td>-0.005766</td>\n",
              "    </tr>\n",
              "    <tr>\n",
              "      <th>X22</th>\n",
              "      <td>0.033595</td>\n",
              "      <td>0.052344</td>\n",
              "      <td>-0.015594</td>\n",
              "    </tr>\n",
              "    <tr>\n",
              "      <th>X23</th>\n",
              "      <td>0.030667</td>\n",
              "      <td>0.048678</td>\n",
              "      <td>-0.016828</td>\n",
              "    </tr>\n",
              "  </tbody>\n",
              "</table>\n",
              "</div>\n",
              "      <button class=\"colab-df-convert\" onclick=\"convertToInteractive('df-6e8f9d15-c62c-429b-b0cb-5c2a06d76ec5')\"\n",
              "              title=\"Convert this dataframe to an interactive table.\"\n",
              "              style=\"display:none;\">\n",
              "        \n",
              "  <svg xmlns=\"http://www.w3.org/2000/svg\" height=\"24px\"viewBox=\"0 0 24 24\"\n",
              "       width=\"24px\">\n",
              "    <path d=\"M0 0h24v24H0V0z\" fill=\"none\"/>\n",
              "    <path d=\"M18.56 5.44l.94 2.06.94-2.06 2.06-.94-2.06-.94-.94-2.06-.94 2.06-2.06.94zm-11 1L8.5 8.5l.94-2.06 2.06-.94-2.06-.94L8.5 2.5l-.94 2.06-2.06.94zm10 10l.94 2.06.94-2.06 2.06-.94-2.06-.94-.94-2.06-.94 2.06-2.06.94z\"/><path d=\"M17.41 7.96l-1.37-1.37c-.4-.4-.92-.59-1.43-.59-.52 0-1.04.2-1.43.59L10.3 9.45l-7.72 7.72c-.78.78-.78 2.05 0 2.83L4 21.41c.39.39.9.59 1.41.59.51 0 1.02-.2 1.41-.59l7.78-7.78 2.81-2.81c.8-.78.8-2.07 0-2.86zM5.41 20L4 18.59l7.72-7.72 1.47 1.35L5.41 20z\"/>\n",
              "  </svg>\n",
              "      </button>\n",
              "      \n",
              "  <style>\n",
              "    .colab-df-container {\n",
              "      display:flex;\n",
              "      flex-wrap:wrap;\n",
              "      gap: 12px;\n",
              "    }\n",
              "\n",
              "    .colab-df-convert {\n",
              "      background-color: #E8F0FE;\n",
              "      border: none;\n",
              "      border-radius: 50%;\n",
              "      cursor: pointer;\n",
              "      display: none;\n",
              "      fill: #1967D2;\n",
              "      height: 32px;\n",
              "      padding: 0 0 0 0;\n",
              "      width: 32px;\n",
              "    }\n",
              "\n",
              "    .colab-df-convert:hover {\n",
              "      background-color: #E2EBFA;\n",
              "      box-shadow: 0px 1px 2px rgba(60, 64, 67, 0.3), 0px 1px 3px 1px rgba(60, 64, 67, 0.15);\n",
              "      fill: #174EA6;\n",
              "    }\n",
              "\n",
              "    [theme=dark] .colab-df-convert {\n",
              "      background-color: #3B4455;\n",
              "      fill: #D2E3FC;\n",
              "    }\n",
              "\n",
              "    [theme=dark] .colab-df-convert:hover {\n",
              "      background-color: #434B5C;\n",
              "      box-shadow: 0px 1px 3px 1px rgba(0, 0, 0, 0.15);\n",
              "      filter: drop-shadow(0px 1px 2px rgba(0, 0, 0, 0.3));\n",
              "      fill: #FFFFFF;\n",
              "    }\n",
              "  </style>\n",
              "\n",
              "      <script>\n",
              "        const buttonEl =\n",
              "          document.querySelector('#df-6e8f9d15-c62c-429b-b0cb-5c2a06d76ec5 button.colab-df-convert');\n",
              "        buttonEl.style.display =\n",
              "          google.colab.kernel.accessAllowed ? 'block' : 'none';\n",
              "\n",
              "        async function convertToInteractive(key) {\n",
              "          const element = document.querySelector('#df-6e8f9d15-c62c-429b-b0cb-5c2a06d76ec5');\n",
              "          const dataTable =\n",
              "            await google.colab.kernel.invokeFunction('convertToInteractive',\n",
              "                                                     [key], {});\n",
              "          if (!dataTable) return;\n",
              "\n",
              "          const docLinkHtml = 'Like what you see? Visit the ' +\n",
              "            '<a target=\"_blank\" href=https://colab.research.google.com/notebooks/data_table.ipynb>data table notebook</a>'\n",
              "            + ' to learn more about interactive tables.';\n",
              "          element.innerHTML = '';\n",
              "          dataTable['output_type'] = 'display_data';\n",
              "          await google.colab.output.renderOutput(dataTable, element);\n",
              "          const docLink = document.createElement('div');\n",
              "          docLink.innerHTML = docLinkHtml;\n",
              "          element.appendChild(docLink);\n",
              "        }\n",
              "      </script>\n",
              "    </div>\n",
              "  </div>\n",
              "  "
            ]
          },
          "metadata": {},
          "execution_count": 169
        }
      ],
      "source": [
        "# Composición de los componentes principales\n",
        "pcsminmaxComponents_df = pd.DataFrame(pca_minmax.components_.transpose(), \n",
        "                                columns=pcsSummary_df_minmax.columns,\n",
        "                                index=scaled_df_minmax.iloc[:,0:].columns\n",
        "                                )\n",
        "pcsminmaxComponents_df.iloc[:,:3]"
      ]
    },
    {
      "cell_type": "code",
      "execution_count": 170,
      "metadata": {
        "id": "Q4DVY_KJwGNU",
        "outputId": "7c1d697a-79d7-447b-c6e7-950ab1064e9b",
        "colab": {
          "base_uri": "https://localhost:8080/"
        }
      },
      "outputs": [
        {
          "output_type": "execute_result",
          "data": {
            "text/plain": [
              "[('PC1', X5     0.824708\n",
              "  X1     0.437234\n",
              "  X13    0.171193\n",
              "  X12    0.164544\n",
              "  X15    0.154545\n",
              "  Name: PC1, dtype: float64), ('PC2', X5    -0.554503\n",
              "  X1     0.500816\n",
              "  X13    0.318066\n",
              "  X12    0.302391\n",
              "  X15    0.288691\n",
              "  Name: PC2, dtype: float64), ('PC3', X1    -0.741745\n",
              "  X13    0.330680\n",
              "  X12    0.306196\n",
              "  X15    0.286747\n",
              "  X16    0.278143\n",
              "  Name: PC3, dtype: float64)]"
            ]
          },
          "metadata": {},
          "execution_count": 170
        }
      ],
      "source": [
        "# Principales variables que componen los primeros 3 componentes principales\n",
        "[(item,pcsminmaxComponents_df.sort_values(by=item, key=abs, ascending=False)[item][0:5]) for item in ['PC1','PC2','PC3']]"
      ]
    },
    {
      "cell_type": "markdown",
      "source": [
        "**Comentarios:**\n",
        "\n",
        "-> Como se menciono en la sección anterior, esta tabla es un resumen de la tabla anterior. En ella podemos observar las variables originales principales que componen los primeros 3 componentes.\n",
        "\n",
        "-> Por ejemplo, PC1 y PC2 estan compuestos principalmente de la variables X1, X13, X12 y X15. Y, PC3 está compouesto principalmente por X13, X12, X15 y X16. Esto nos dice que las variables que más influencian la variabilidad (y por tanto los componente principales) son edad, monto de credito y monto a pagar en los primero dos meses."
      ],
      "metadata": {
        "id": "_-z4i-HzKc4U"
      }
    },
    {
      "cell_type": "code",
      "execution_count": 171,
      "metadata": {
        "id": "ELoE3ESPwGNV",
        "outputId": "2fd37a56-bd9d-4eb2-9f96-5ee3f57b22b1",
        "colab": {
          "base_uri": "https://localhost:8080/",
          "height": 469
        }
      },
      "outputs": [
        {
          "output_type": "display_data",
          "data": {
            "text/plain": [
              "<Figure size 720x504 with 1 Axes>"
            ],
            "image/png": "[encoded data removed]"
          },
          "metadata": {}
        }
      ],
      "source": [
        "PC_components = np.arange(pca_minmax.n_components_) + 1\n",
        "#PC_components\n",
        "\n",
        "# Gráfico Scree\n",
        "_ = sns.set(style = 'whitegrid', \n",
        "            font_scale = 1.2\n",
        "            )\n",
        "\n",
        "fig, ax = plt.subplots(figsize=(10, 7))\n",
        "\n",
        "_ = sns.barplot(x = PC_components, \n",
        "                y = pca_minmax.explained_variance_ratio_, \n",
        "                color = 'b'\n",
        "                )\n",
        "\n",
        "_ = sns.lineplot(x = PC_components-1, \n",
        "                 y = np.cumsum(pca_minmax.explained_variance_ratio_), \n",
        "                 color = 'black', \n",
        "                 linestyle = '-', \n",
        "                 linewidth = 2, \n",
        "                 marker = 'o', \n",
        "                 markersize = 8\n",
        "                 )\n",
        "\n",
        "plt.title('Gráfico Scree')\n",
        "plt.xlabel('N-ésimo Componente Principal')\n",
        "plt.ylabel('Varianza explicada')\n",
        "plt.ylim(0, 1)\n",
        "plt.show()"
      ]
    },
    {
      "cell_type": "markdown",
      "source": [
        "**Cometarios:**\n",
        "\n",
        "  -> En la gráfica Scree notamos claramente el \"codo\" en el componente 3, lo cual concuerda con el número de componente que habíamos seleccionado."
      ],
      "metadata": {
        "id": "z9h-WgVcFg7W"
      }
    },
    {
      "cell_type": "markdown",
      "metadata": {
        "id": "qigj58uNwGNV"
      },
      "source": [
        "**Cometarios finales:**\n",
        "\n",
        "  ->Usar minmaxscaler mejora la captura de mayor variacion en menos componentes.\n",
        "\n",
        "  ->Tambien las variables que contribuyen a estos componentes son mas congruentes tal como edad, monto credito y monto a pagar en los primeros 2 meses."
      ]
    },
    {
      "cell_type": "markdown",
      "source": [
        "## Paso 2: \n",
        "\n",
        "Responde las siguientes preguntas en una celda de texto en Jupyter Notebook\n",
        "\n",
        "1. ¿Cuál es el número de componentes mínimo y por qué?\n",
        "2. ¿Cuál es la variación de los datos que representan esos componentes?\n",
        "3. ¿Cuál es la pérdida de información después de realizar PCA?\n",
        "4. De las variables originales, ¿Cuál tiene mayor y cuál tiene menor importancia en los componentes principales?\n",
        "5. ¿Cuándo se recomienda realizar un PCA y qué beneficios ofrece para Machine Learning?\n",
        " \n",
        "Extensión: 200 palabras o más entre todas las respuestas. Sigue el formato pregunta-respuesta."
      ],
      "metadata": {
        "id": "DXmgyK90GUU7"
      }
    },
    {
      "cell_type": "markdown",
      "source": [
        "**1. ¿Cuál es el número de componentes mínimo y por qué?**\n",
        "<br><br>\n",
        "Por lo general se considera como mínimo que se los componentes principales elegidos deben explicar el 80% de la variabilidad de los datos. En el caso del PCA de los valores normalizados con min-max, como mínimo deberíamos quedarnos con los tres primeros componentes ya que si se elige uno menos solo se explicaría poco más del 70% de la variabilidad. "
      ],
      "metadata": {
        "id": "Na6HipkXGzo_"
      }
    },
    {
      "cell_type": "markdown",
      "source": [
        "**2. ¿Cuál es la variación de los datos que representan esos componentes?**\n",
        "<br><br>\n",
        "La variación de los datos que representan los primeros tres componentes, PC1, PC2 y PC3 es del 91.64%."
      ],
      "metadata": {
        "id": "muvGwOsJHLEj"
      }
    },
    {
      "cell_type": "markdown",
      "source": [
        "**3. ¿Cuál es la pérdida de información después de realizar PCA?**\n",
        "<br><br>\n",
        "La perdida de información sería del 8.36%. Es una pérdida de información pequeña considerando que se pasó de tener catorce variables a tener 3 variables. Sin embargo, igualmente debe considerarse una pérdida en la interpretabilidad de los resultados. Ya que a pesar de que es posible saber qué variables originales componen los PCA al momento de realizar un modelo la interpretación del mismo no es tan clara."
      ],
      "metadata": {
        "id": "qrq00GEhHLMX"
      }
    },
    {
      "cell_type": "markdown",
      "source": [
        "**4. De las variables originales, ¿Cuál tiene mayor y cuál tiene menor importancia en los componentes principales?**\n",
        "<br><br>\n",
        "Mayor impacto: Edad (X5), Cantidad de crédito (X1) y monto facturado de los últimos 2 meses (X12 y X13).\n",
        "Menor impacto: Cantidad que pagaste en los últimos 3 meses es decir variables X19, X20 y X18 \n",
        "\n",
        "En resumen, importa más lo que se debe y la edad del cliente. Importa menos lo que pagaste recientemente.\n",
        "Puede explicarse que con la edad se adquiere mayor madurez a la hora de cumplir los compromisos financieros. \n",
        "No están importante cuanto pagaste los últimos meses, si el saldo facturado sigue siendo significativo."
      ],
      "metadata": {
        "id": "qdK5eACWHLPW"
      }
    },
    {
      "cell_type": "markdown",
      "source": [
        "**5. ¿Cuándo se recomienda realizar un PCA y qué beneficios ofrece para Machine Learning?**\n",
        "<br><br>\n",
        "PCA es un método que se utiliza cuando el conjunto de datos a analizar cuenta con muchas características (es decir tiene muchas dimensiones) y queremos reducirlas a un número menor sin perder la información que contienes, es decir preservando la varianza. Logra esto filtrando información redundante en el conjunto de datos. Por ejemplo, datos altamente correla-cionados entre sí. Los beneficios principales que ofrece para el machine learning es que permite trabajar con conjuntos de datos menos complejos, reduce el uso de memoria y costos computacionales como se refiere en (Avinash Navlani et al., 2021). PCA es en esencia un método no supervisado de machine learning que se puede usar como tal y/o como soporte en el desarrollo de modelos supervisados. Es decir, se puede usar como parte de la etapa de preprocesamiento para disminuir las variables a explorar en un algoritmo de clasificación/regresión.\n",
        " \n",
        "Adicionalmente, se utiliza el analisis de componentes principales (PCA) cuando se tiene multicolinearidad (correlación entre las variables explicativas) entre las variables. Esto es posible ya que PCA, lo que hace es utilizar la correlación entre las varaibles para encontrar un set de variables nuevas que no estan relacionadas y por tanto elimina la multicolinearidad.\n",
        "<br><br>\n",
        "*Bibliografía*<br><br>\n",
        "Avinash Navlani, Fandango, A., & Idris, I. (2021). Python data analysis: perform data collection, data processing, wrangling visualization, and model building using Python. Packt Publishing.\n",
        "<br><br>\n",
        "Pramoditha, R. (2022, 6 enero). How do you apply PCA to Logistic Regression to remove Multicollinearity? Medium.\n",
        "Recuperado 11 de octubre de 2022, de https://towardsdatascience.com/how-do-you-apply-pca-to-logistic-regression-to-remove-multicollinearity-10b7f8e89f9b#:~:text=PCA%20(Principal%20Component%20Analysis)%20takes,effectively%20eliminate%20multicollinearity%20between%20features."
      ],
      "metadata": {
        "id": "KAHxUVpBGUX0"
      }
    },
    {
      "cell_type": "code",
      "source": [],
      "metadata": {
        "id": "XyPuG94bQfou"
      },
      "execution_count": 171,
      "outputs": []
    }
  ],
  "metadata": {
    "colab": {
      "provenance": [],
      "include_colab_link": true
    },
    "kernelspec": {
      "display_name": "Python 3",
      "language": "python",
      "name": "python3"
    },
    "language_info": {
      "codemirror_mode": {
        "name": "ipython",
        "version": 3
      },
      "file_extension": ".py",
      "mimetype": "text/x-python",
      "name": "python",
      "nbconvert_exporter": "python",
      "pygments_lexer": "ipython3",
      "version": "3.7.4"
    }
  },
  "nbformat": 4,
  "nbformat_minor": 0
}