{
 "cells": [
  {
   "cell_type": "markdown",
   "id": "11b732b9",
   "metadata": {},
   "source": [
    "# Reto-> Entrega 2 (18/11) -> Clasificación-ensambles y presentación ejecutiva"
   ]
  },
  {
   "cell_type": "markdown",
   "id": "57d633cc",
   "metadata": {},
   "source": [
    "**Nombre 1:** Daniela Estevez Rodriguez\n",
    "\n",
    "**Matricula 1:** A01793723\n",
    "<br>\n",
    "<br>\n",
    "\n",
    "**Nombre 2:** Ernesto Nicanor Santillán Guerrero \n",
    "\n",
    "**Matricula 2:** A01793675\n",
    "\n",
    "\n",
    "\n",
    "**Materia:** Ciencia y analítica de datos\n",
    "\n",
    "**Profesor:** María de la Paz Rico Fernández\n",
    "\n",
    "**Fecha:** 17 de Noviembre de 2022"
   ]
  },
  {
   "cell_type": "code",
   "execution_count": 1,
   "id": "cb4dc81f",
   "metadata": {},
   "outputs": [
    {
     "data": {
      "application/javascript": [
       "\n",
       "            setTimeout(function() {\n",
       "                var nbb_cell_id = 1;\n",
       "                var nbb_unformatted_code = \"# Librer\\u00edas\\n\\n# Para ayudar a que el c\\u00f3digo est\\u00e9 mejor estructurado (buenas pr\\u00e1cticas)\\n%load_ext nb_black\\n\\n# Para omitir los mensajes de warnings\\nimport warnings\\n\\nwarnings.filterwarnings(\\\"ignore\\\")\\n\\nimport pandas as pd\\nimport numpy as np\\n\\nimport matplotlib.pyplot as plt\\n\\n%matplotlib inline\\nimport seaborn as sns\\n\\nimport os\\nimport fiona\\n\\nimport geopandas as gpd\\n\\n# from shapely.geometry import Point\\n\\nfrom sklearn.model_selection import train_test_split\\n\\n# from sklearn.model_selection import (cross_val_score,\\n#    cross_validate,\\n#    RepeatedStratifiedKFold,\\n#    learning_curve,\\n#    validation_curve)\\n\\nfrom sklearn.preprocessing import OrdinalEncoder\\n\\n# from sklearn.preprocessing import OneHotEncoder\\n\\n# from sklearn.preprocessing import RobustScaler\\n\\nfrom sklearn.impute import SimpleImputer\\n\\nfrom sklearn.model_selection import GridSearchCV\\nfrom sklearn.model_selection import RepeatedStratifiedKFold\\nfrom yellowbrick.classifier import ClassificationReport\\nfrom sklearn.metrics import classification_report\\nfrom yellowbrick.classifier import ConfusionMatrix\\n\\n\\nfrom sklearn.pipeline import Pipeline\\nfrom sklearn.compose import ColumnTransformer\\n\\n# from sklearn.metrics import confusion_matrix, make_scorer\\n\\n# from sklearn.linear_model import LogisticRegression\\nfrom sklearn.tree import DecisionTreeClassifier\\nfrom sklearn.ensemble import RandomForestClassifier\\nfrom sklearn import tree\\n\\npd.options.display.max_columns = 60\\npd.options.display.max_rows = 70\";\n",
       "                var nbb_formatted_code = \"# Librer\\u00edas\\n\\n# Para ayudar a que el c\\u00f3digo est\\u00e9 mejor estructurado (buenas pr\\u00e1cticas)\\n%load_ext nb_black\\n\\n# Para omitir los mensajes de warnings\\nimport warnings\\n\\nwarnings.filterwarnings(\\\"ignore\\\")\\n\\nimport pandas as pd\\nimport numpy as np\\n\\nimport matplotlib.pyplot as plt\\n\\n%matplotlib inline\\nimport seaborn as sns\\n\\nimport os\\nimport fiona\\n\\nimport geopandas as gpd\\n\\n# from shapely.geometry import Point\\n\\nfrom sklearn.model_selection import train_test_split\\n\\n# from sklearn.model_selection import (cross_val_score,\\n#    cross_validate,\\n#    RepeatedStratifiedKFold,\\n#    learning_curve,\\n#    validation_curve)\\n\\nfrom sklearn.preprocessing import OrdinalEncoder\\n\\n# from sklearn.preprocessing import OneHotEncoder\\n\\n# from sklearn.preprocessing import RobustScaler\\n\\nfrom sklearn.impute import SimpleImputer\\n\\nfrom sklearn.model_selection import GridSearchCV\\nfrom sklearn.model_selection import RepeatedStratifiedKFold\\nfrom yellowbrick.classifier import ClassificationReport\\nfrom sklearn.metrics import classification_report\\nfrom yellowbrick.classifier import ConfusionMatrix\\n\\n\\nfrom sklearn.pipeline import Pipeline\\nfrom sklearn.compose import ColumnTransformer\\n\\n# from sklearn.metrics import confusion_matrix, make_scorer\\n\\n# from sklearn.linear_model import LogisticRegression\\nfrom sklearn.tree import DecisionTreeClassifier\\nfrom sklearn.ensemble import RandomForestClassifier\\nfrom sklearn import tree\\n\\npd.options.display.max_columns = 60\\npd.options.display.max_rows = 70\";\n",
       "                var nbb_cells = Jupyter.notebook.get_cells();\n",
       "                for (var i = 0; i < nbb_cells.length; ++i) {\n",
       "                    if (nbb_cells[i].input_prompt_number == nbb_cell_id) {\n",
       "                        if (nbb_cells[i].get_text() == nbb_unformatted_code) {\n",
       "                             nbb_cells[i].set_text(nbb_formatted_code);\n",
       "                        }\n",
       "                        break;\n",
       "                    }\n",
       "                }\n",
       "            }, 500);\n",
       "            "
      ],
      "text/plain": [
       "<IPython.core.display.Javascript object>"
      ]
     },
     "metadata": {},
     "output_type": "display_data"
    }
   ],
   "source": [
    "# Librerías\n",
    "\n",
    "# Para ayudar a que el código esté mejor estructurado (buenas prácticas)\n",
    "%load_ext nb_black\n",
    "\n",
    "# Para omitir los mensajes de warnings\n",
    "import warnings\n",
    "\n",
    "warnings.filterwarnings(\"ignore\")\n",
    "\n",
    "import pandas as pd\n",
    "import numpy as np\n",
    "\n",
    "import matplotlib.pyplot as plt\n",
    "\n",
    "%matplotlib inline\n",
    "import seaborn as sns\n",
    "\n",
    "import os\n",
    "import fiona\n",
    "\n",
    "import geopandas as gpd\n",
    "\n",
    "# from shapely.geometry import Point\n",
    "\n",
    "from sklearn.model_selection import train_test_split\n",
    "\n",
    "# from sklearn.model_selection import (cross_val_score,\n",
    "#    cross_validate,\n",
    "#    RepeatedStratifiedKFold,\n",
    "#    learning_curve,\n",
    "#    validation_curve)\n",
    "\n",
    "from sklearn.preprocessing import OrdinalEncoder\n",
    "\n",
    "# from sklearn.preprocessing import OneHotEncoder\n",
    "\n",
    "# from sklearn.preprocessing import RobustScaler\n",
    "\n",
    "from sklearn.impute import SimpleImputer\n",
    "\n",
    "from sklearn.model_selection import GridSearchCV\n",
    "from sklearn.model_selection import RepeatedStratifiedKFold\n",
    "from yellowbrick.classifier import ClassificationReport\n",
    "from sklearn.metrics import classification_report\n",
    "from yellowbrick.classifier import ConfusionMatrix\n",
    "\n",
    "\n",
    "from sklearn.pipeline import Pipeline\n",
    "from sklearn.compose import ColumnTransformer\n",
    "\n",
    "# from sklearn.metrics import confusion_matrix, make_scorer\n",
    "\n",
    "# from sklearn.linear_model import LogisticRegression\n",
    "from sklearn.tree import DecisionTreeClassifier\n",
    "from sklearn.ensemble import RandomForestClassifier\n",
    "from sklearn import tree\n",
    "\n",
    "pd.options.display.max_columns = 60\n",
    "pd.options.display.max_rows = 70"
   ]
  },
  {
   "cell_type": "code",
   "execution_count": 2,
   "id": "50e22377",
   "metadata": {},
   "outputs": [
    {
     "data": {
      "text/plain": [
       "['Datos_de_calidad_del_agua_de_sitios_de_monitoreo_de_aguas_superficiales_2020.csv',\n",
       " 'Escalas_superficial.csv',\n",
       " '.DS_Store',\n",
       " 'Datos_de_calidad_del_agua_de_sitios_de_monitoreo_de_aguas_subterraneas_2020.csv',\n",
       " 'Datos_de_calidad_del_agua_de_sitios_de_monitoreo_de_aguas_superficiales_2020.kmz',\n",
       " 'doc_subterraneas.kml',\n",
       " 'doc_superficiales.kml',\n",
       " 'Escalas_subterranea.csv',\n",
       " 'Datos_de_calidad_del_agua_de_sitios_de_monitoreo_de_aguas_subterraneas_2020.kmz']"
      ]
     },
     "execution_count": 2,
     "metadata": {},
     "output_type": "execute_result"
    },
    {
     "data": {
      "application/javascript": [
       "\n",
       "            setTimeout(function() {\n",
       "                var nbb_cell_id = 2;\n",
       "                var nbb_unformatted_code = \"# Directorio local\\npath = \\\"/Users/danielaestevezrodriguez/Documents/Educacio\\u0301n continua y posgrados/Tec de Monterrey/2do Trimestre/Ciencia y anali\\u0301tica de datos/Actividades grupales/Reto _1/Datos_de_calidad_del_agua_2020/\\\"\\n# path = \\\"/Users/santien/reto_1/\\\"\\nos.listdir(path)\";\n",
       "                var nbb_formatted_code = \"# Directorio local\\npath = \\\"/Users/danielaestevezrodriguez/Documents/Educacio\\u0301n continua y posgrados/Tec de Monterrey/2do Trimestre/Ciencia y anali\\u0301tica de datos/Actividades grupales/Reto _1/Datos_de_calidad_del_agua_2020/\\\"\\n# path = \\\"/Users/santien/reto_1/\\\"\\nos.listdir(path)\";\n",
       "                var nbb_cells = Jupyter.notebook.get_cells();\n",
       "                for (var i = 0; i < nbb_cells.length; ++i) {\n",
       "                    if (nbb_cells[i].input_prompt_number == nbb_cell_id) {\n",
       "                        if (nbb_cells[i].get_text() == nbb_unformatted_code) {\n",
       "                             nbb_cells[i].set_text(nbb_formatted_code);\n",
       "                        }\n",
       "                        break;\n",
       "                    }\n",
       "                }\n",
       "            }, 500);\n",
       "            "
      ],
      "text/plain": [
       "<IPython.core.display.Javascript object>"
      ]
     },
     "metadata": {},
     "output_type": "display_data"
    }
   ],
   "source": [
    "# Directorio local\n",
    "path = \"/Users/danielaestevezrodriguez/Documents/Educación continua y posgrados/Tec de Monterrey/2do Trimestre/Ciencia y analítica de datos/Actividades grupales/Reto _1/Datos_de_calidad_del_agua_2020/\"\n",
    "# path = \"/Users/santien/reto_1/\"\n",
    "os.listdir(path)"
   ]
  },
  {
   "cell_type": "code",
   "execution_count": 3,
   "id": "8fe13dfb",
   "metadata": {},
   "outputs": [
    {
     "data": {
      "application/javascript": [
       "\n",
       "            setTimeout(function() {\n",
       "                var nbb_cell_id = 3;\n",
       "                var nbb_unformatted_code = \"# Documentos\\nfile1 = \\\"doc_subterraneas.kml\\\"\\nfile2 = (\\n    \\\"Datos_de_calidad_del_agua_de_sitios_de_monitoreo_de_aguas_subterraneas_2020.csv\\\"\\n)\\nfile3 = \\\"Escalas_subterranea.csv\\\"\";\n",
       "                var nbb_formatted_code = \"# Documentos\\nfile1 = \\\"doc_subterraneas.kml\\\"\\nfile2 = (\\n    \\\"Datos_de_calidad_del_agua_de_sitios_de_monitoreo_de_aguas_subterraneas_2020.csv\\\"\\n)\\nfile3 = \\\"Escalas_subterranea.csv\\\"\";\n",
       "                var nbb_cells = Jupyter.notebook.get_cells();\n",
       "                for (var i = 0; i < nbb_cells.length; ++i) {\n",
       "                    if (nbb_cells[i].input_prompt_number == nbb_cell_id) {\n",
       "                        if (nbb_cells[i].get_text() == nbb_unformatted_code) {\n",
       "                             nbb_cells[i].set_text(nbb_formatted_code);\n",
       "                        }\n",
       "                        break;\n",
       "                    }\n",
       "                }\n",
       "            }, 500);\n",
       "            "
      ],
      "text/plain": [
       "<IPython.core.display.Javascript object>"
      ]
     },
     "metadata": {},
     "output_type": "display_data"
    }
   ],
   "source": [
    "# Documentos\n",
    "file1 = \"doc_subterraneas.kml\"\n",
    "file2 = (\n",
    "    \"Datos_de_calidad_del_agua_de_sitios_de_monitoreo_de_aguas_subterraneas_2020.csv\"\n",
    ")\n",
    "file3 = \"Escalas_subterranea.csv\""
   ]
  },
  {
   "cell_type": "code",
   "execution_count": 4,
   "id": "4af0c8df",
   "metadata": {},
   "outputs": [
    {
     "data": {
      "text/html": [
       "<div>\n",
       "<style scoped>\n",
       "    .dataframe tbody tr th:only-of-type {\n",
       "        vertical-align: middle;\n",
       "    }\n",
       "\n",
       "    .dataframe tbody tr th {\n",
       "        vertical-align: top;\n",
       "    }\n",
       "\n",
       "    .dataframe thead th {\n",
       "        text-align: right;\n",
       "    }\n",
       "</style>\n",
       "<table border=\"1\" class=\"dataframe\">\n",
       "  <thead>\n",
       "    <tr style=\"text-align: right;\">\n",
       "      <th></th>\n",
       "      <th>Name</th>\n",
       "      <th>Description</th>\n",
       "      <th>geometry</th>\n",
       "    </tr>\n",
       "  </thead>\n",
       "  <tbody>\n",
       "    <tr>\n",
       "      <th>0</th>\n",
       "      <td></td>\n",
       "      <td></td>\n",
       "      <td>POINT Z (-102.02210 22.20887 0.00000)</td>\n",
       "    </tr>\n",
       "    <tr>\n",
       "      <th>1</th>\n",
       "      <td></td>\n",
       "      <td></td>\n",
       "      <td>POINT Z (-102.20075 21.99958 0.00000)</td>\n",
       "    </tr>\n",
       "    <tr>\n",
       "      <th>2</th>\n",
       "      <td></td>\n",
       "      <td></td>\n",
       "      <td>POINT Z (-102.28801 22.36685 0.00000)</td>\n",
       "    </tr>\n",
       "    <tr>\n",
       "      <th>3</th>\n",
       "      <td></td>\n",
       "      <td></td>\n",
       "      <td>POINT Z (-102.29449 22.18435 0.00000)</td>\n",
       "    </tr>\n",
       "    <tr>\n",
       "      <th>4</th>\n",
       "      <td></td>\n",
       "      <td></td>\n",
       "      <td>POINT Z (-110.24480 23.45138 0.00000)</td>\n",
       "    </tr>\n",
       "  </tbody>\n",
       "</table>\n",
       "</div>"
      ],
      "text/plain": [
       "  Name Description                               geometry\n",
       "0                   POINT Z (-102.02210 22.20887 0.00000)\n",
       "1                   POINT Z (-102.20075 21.99958 0.00000)\n",
       "2                   POINT Z (-102.28801 22.36685 0.00000)\n",
       "3                   POINT Z (-102.29449 22.18435 0.00000)\n",
       "4                   POINT Z (-110.24480 23.45138 0.00000)"
      ]
     },
     "execution_count": 4,
     "metadata": {},
     "output_type": "execute_result"
    },
    {
     "data": {
      "application/javascript": [
       "\n",
       "            setTimeout(function() {\n",
       "                var nbb_cell_id = 4;\n",
       "                var nbb_unformatted_code = \"# Descarga kml subterraneas\\nif os.path.exists(path + file1):\\n    fiona.drvsupport.supported_drivers[\\\"KML\\\"] = \\\"rw\\\"\\n    df_subterraneas = gpd.read_file(path + file1, driver=\\\"KML\\\")\\n\\n# Algunos rows de subterraneas\\ndf_subterraneas.head()\";\n",
       "                var nbb_formatted_code = \"# Descarga kml subterraneas\\nif os.path.exists(path + file1):\\n    fiona.drvsupport.supported_drivers[\\\"KML\\\"] = \\\"rw\\\"\\n    df_subterraneas = gpd.read_file(path + file1, driver=\\\"KML\\\")\\n\\n# Algunos rows de subterraneas\\ndf_subterraneas.head()\";\n",
       "                var nbb_cells = Jupyter.notebook.get_cells();\n",
       "                for (var i = 0; i < nbb_cells.length; ++i) {\n",
       "                    if (nbb_cells[i].input_prompt_number == nbb_cell_id) {\n",
       "                        if (nbb_cells[i].get_text() == nbb_unformatted_code) {\n",
       "                             nbb_cells[i].set_text(nbb_formatted_code);\n",
       "                        }\n",
       "                        break;\n",
       "                    }\n",
       "                }\n",
       "            }, 500);\n",
       "            "
      ],
      "text/plain": [
       "<IPython.core.display.Javascript object>"
      ]
     },
     "metadata": {},
     "output_type": "display_data"
    }
   ],
   "source": [
    "# Descarga kml subterraneas\n",
    "if os.path.exists(path + file1):\n",
    "    fiona.drvsupport.supported_drivers[\"KML\"] = \"rw\"\n",
    "    df_subterraneas = gpd.read_file(path + file1, driver=\"KML\")\n",
    "\n",
    "# Algunos rows de subterraneas\n",
    "df_subterraneas.head()"
   ]
  },
  {
   "cell_type": "code",
   "execution_count": 5,
   "id": "81d9a15d",
   "metadata": {},
   "outputs": [
    {
     "data": {
      "text/html": [
       "<div>\n",
       "<style scoped>\n",
       "    .dataframe tbody tr th:only-of-type {\n",
       "        vertical-align: middle;\n",
       "    }\n",
       "\n",
       "    .dataframe tbody tr th {\n",
       "        vertical-align: top;\n",
       "    }\n",
       "\n",
       "    .dataframe thead th {\n",
       "        text-align: right;\n",
       "    }\n",
       "</style>\n",
       "<table border=\"1\" class=\"dataframe\">\n",
       "  <thead>\n",
       "    <tr style=\"text-align: right;\">\n",
       "      <th></th>\n",
       "      <th>CLAVE</th>\n",
       "      <th>SITIO</th>\n",
       "      <th>ORGANISMO_DE_CUENCA</th>\n",
       "      <th>ESTADO</th>\n",
       "      <th>MUNICIPIO</th>\n",
       "      <th>ACUIFERO</th>\n",
       "      <th>SUBTIPO</th>\n",
       "      <th>LONGITUD</th>\n",
       "      <th>LATITUD</th>\n",
       "      <th>PERIODO</th>\n",
       "      <th>ALC_mg/L</th>\n",
       "      <th>CALIDAD_ALC</th>\n",
       "      <th>CONDUCT_mS/cm</th>\n",
       "      <th>CALIDAD_CONDUC</th>\n",
       "      <th>SDT_mg/L</th>\n",
       "      <th>SDT_M_mg/L</th>\n",
       "      <th>CALIDAD_SDT_ra</th>\n",
       "      <th>CALIDAD_SDT_salin</th>\n",
       "      <th>FLUORUROS_mg/L</th>\n",
       "      <th>CALIDAD_FLUO</th>\n",
       "      <th>DUR_mg/L</th>\n",
       "      <th>CALIDAD_DUR</th>\n",
       "      <th>COLI_FEC_NMP/100_mL</th>\n",
       "      <th>CALIDAD_COLI_FEC</th>\n",
       "      <th>N_NO3_mg/L</th>\n",
       "      <th>CALIDAD_N_NO3</th>\n",
       "      <th>AS_TOT_mg/L</th>\n",
       "      <th>CALIDAD_AS</th>\n",
       "      <th>CD_TOT_mg/L</th>\n",
       "      <th>CALIDAD_CD</th>\n",
       "      <th>CR_TOT_mg/L</th>\n",
       "      <th>CALIDAD_CR</th>\n",
       "      <th>HG_TOT_mg/L</th>\n",
       "      <th>CALIDAD_HG</th>\n",
       "      <th>PB_TOT_mg/L</th>\n",
       "      <th>CALIDAD_PB</th>\n",
       "      <th>MN_TOT_mg/L</th>\n",
       "      <th>CALIDAD_MN</th>\n",
       "      <th>FE_TOT_mg/L</th>\n",
       "      <th>CALIDAD_FE</th>\n",
       "      <th>SEMAFORO</th>\n",
       "      <th>CONTAMINANTES</th>\n",
       "      <th>CUMPLE_CON_ALC</th>\n",
       "      <th>CUMPLE_CON_COND</th>\n",
       "      <th>CUMPLE_CON_SDT_ra</th>\n",
       "      <th>CUMPLE_CON_SDT_salin</th>\n",
       "      <th>CUMPLE_CON_FLUO</th>\n",
       "      <th>CUMPLE_CON_DUR</th>\n",
       "      <th>CUMPLE_CON_CF</th>\n",
       "      <th>CUMPLE_CON_NO3</th>\n",
       "      <th>CUMPLE_CON_AS</th>\n",
       "      <th>CUMPLE_CON_CD</th>\n",
       "      <th>CUMPLE_CON_CR</th>\n",
       "      <th>CUMPLE_CON_HG</th>\n",
       "      <th>CUMPLE_CON_PB</th>\n",
       "      <th>CUMPLE_CON_MN</th>\n",
       "      <th>CUMPLE_CON_FE</th>\n",
       "    </tr>\n",
       "  </thead>\n",
       "  <tbody>\n",
       "    <tr>\n",
       "      <th>0</th>\n",
       "      <td>DLAGU6</td>\n",
       "      <td>POZO SAN GIL</td>\n",
       "      <td>LERMA SANTIAGO PACIFICO</td>\n",
       "      <td>AGUASCALIENTES</td>\n",
       "      <td>ASIENTOS</td>\n",
       "      <td>VALLE DE CHICALOTE</td>\n",
       "      <td>POZO</td>\n",
       "      <td>-102.02210</td>\n",
       "      <td>22.20887</td>\n",
       "      <td>2020</td>\n",
       "      <td>229.990</td>\n",
       "      <td>Alta</td>\n",
       "      <td>940.0</td>\n",
       "      <td>Permisible para riego</td>\n",
       "      <td>NaN</td>\n",
       "      <td>603.6</td>\n",
       "      <td>Cultivos sensibles</td>\n",
       "      <td>Potable - Dulce</td>\n",
       "      <td>0.9766</td>\n",
       "      <td>Potable - Optima</td>\n",
       "      <td>213.732</td>\n",
       "      <td>Potable - Dura</td>\n",
       "      <td>&lt;1.1</td>\n",
       "      <td>Potable - Excelente</td>\n",
       "      <td>4.184656</td>\n",
       "      <td>Potable - Excelente</td>\n",
       "      <td>0.0161</td>\n",
       "      <td>Apta como FAAP</td>\n",
       "      <td>&lt;0.003</td>\n",
       "      <td>Potable - Excelente</td>\n",
       "      <td>&lt;0.005</td>\n",
       "      <td>Potable - Excelente</td>\n",
       "      <td>&lt;0.0005</td>\n",
       "      <td>Potable - Excelente</td>\n",
       "      <td>&lt;0.005</td>\n",
       "      <td>Potable - Excelente</td>\n",
       "      <td>&lt;0.0015</td>\n",
       "      <td>Potable - Excelente</td>\n",
       "      <td>0.0891</td>\n",
       "      <td>Potable - Excelente</td>\n",
       "      <td>Verde</td>\n",
       "      <td>NaN</td>\n",
       "      <td>SI</td>\n",
       "      <td>SI</td>\n",
       "      <td>SI</td>\n",
       "      <td>SI</td>\n",
       "      <td>SI</td>\n",
       "      <td>SI</td>\n",
       "      <td>SI</td>\n",
       "      <td>SI</td>\n",
       "      <td>SI</td>\n",
       "      <td>SI</td>\n",
       "      <td>SI</td>\n",
       "      <td>SI</td>\n",
       "      <td>SI</td>\n",
       "      <td>SI</td>\n",
       "      <td>SI</td>\n",
       "    </tr>\n",
       "    <tr>\n",
       "      <th>1</th>\n",
       "      <td>DLAGU6516</td>\n",
       "      <td>POZO R013 CAÑADA HONDA</td>\n",
       "      <td>LERMA SANTIAGO PACIFICO</td>\n",
       "      <td>AGUASCALIENTES</td>\n",
       "      <td>AGUASCALIENTES</td>\n",
       "      <td>VALLE DE CHICALOTE</td>\n",
       "      <td>POZO</td>\n",
       "      <td>-102.20075</td>\n",
       "      <td>21.99958</td>\n",
       "      <td>2020</td>\n",
       "      <td>231.990</td>\n",
       "      <td>Alta</td>\n",
       "      <td>608.0</td>\n",
       "      <td>Buena para riego</td>\n",
       "      <td>NaN</td>\n",
       "      <td>445.4</td>\n",
       "      <td>Excelente para riego</td>\n",
       "      <td>Potable - Dulce</td>\n",
       "      <td>0.9298</td>\n",
       "      <td>Potable - Optima</td>\n",
       "      <td>185.0514</td>\n",
       "      <td>Potable - Dura</td>\n",
       "      <td>&lt;1.1</td>\n",
       "      <td>Potable - Excelente</td>\n",
       "      <td>5.75011</td>\n",
       "      <td>Potable - Buena calidad</td>\n",
       "      <td>0.0134</td>\n",
       "      <td>Apta como FAAP</td>\n",
       "      <td>&lt;0.003</td>\n",
       "      <td>Potable - Excelente</td>\n",
       "      <td>&lt;0.005</td>\n",
       "      <td>Potable - Excelente</td>\n",
       "      <td>&lt;0.0005</td>\n",
       "      <td>Potable - Excelente</td>\n",
       "      <td>&lt;0.005</td>\n",
       "      <td>Potable - Excelente</td>\n",
       "      <td>&lt;0.0015</td>\n",
       "      <td>Potable - Excelente</td>\n",
       "      <td>&lt;0.025</td>\n",
       "      <td>Potable - Excelente</td>\n",
       "      <td>Verde</td>\n",
       "      <td>NaN</td>\n",
       "      <td>SI</td>\n",
       "      <td>SI</td>\n",
       "      <td>SI</td>\n",
       "      <td>SI</td>\n",
       "      <td>SI</td>\n",
       "      <td>SI</td>\n",
       "      <td>SI</td>\n",
       "      <td>SI</td>\n",
       "      <td>SI</td>\n",
       "      <td>SI</td>\n",
       "      <td>SI</td>\n",
       "      <td>SI</td>\n",
       "      <td>SI</td>\n",
       "      <td>SI</td>\n",
       "      <td>SI</td>\n",
       "    </tr>\n",
       "    <tr>\n",
       "      <th>2</th>\n",
       "      <td>DLAGU7</td>\n",
       "      <td>POZO COSIO</td>\n",
       "      <td>LERMA SANTIAGO PACIFICO</td>\n",
       "      <td>AGUASCALIENTES</td>\n",
       "      <td>COSIO</td>\n",
       "      <td>VALLE DE AGUASCALIENTES</td>\n",
       "      <td>POZO</td>\n",
       "      <td>-102.28801</td>\n",
       "      <td>22.36685</td>\n",
       "      <td>2020</td>\n",
       "      <td>204.920</td>\n",
       "      <td>Alta</td>\n",
       "      <td>532.0</td>\n",
       "      <td>Buena para riego</td>\n",
       "      <td>NaN</td>\n",
       "      <td>342</td>\n",
       "      <td>Excelente para riego</td>\n",
       "      <td>Potable - Dulce</td>\n",
       "      <td>1.8045</td>\n",
       "      <td>Alta</td>\n",
       "      <td>120.719</td>\n",
       "      <td>Potable - Dura</td>\n",
       "      <td>&lt;1.1</td>\n",
       "      <td>Potable - Excelente</td>\n",
       "      <td>1.449803</td>\n",
       "      <td>Potable - Excelente</td>\n",
       "      <td>0.037</td>\n",
       "      <td>No apta como FAAP</td>\n",
       "      <td>&lt;0.003</td>\n",
       "      <td>Potable - Excelente</td>\n",
       "      <td>&lt;0.005</td>\n",
       "      <td>Potable - Excelente</td>\n",
       "      <td>&lt;0.0005</td>\n",
       "      <td>Potable - Excelente</td>\n",
       "      <td>&lt;0.005</td>\n",
       "      <td>Potable - Excelente</td>\n",
       "      <td>&lt;0.0015</td>\n",
       "      <td>Potable - Excelente</td>\n",
       "      <td>&lt;0.025</td>\n",
       "      <td>Potable - Excelente</td>\n",
       "      <td>Rojo</td>\n",
       "      <td>FLUO,AS,</td>\n",
       "      <td>SI</td>\n",
       "      <td>SI</td>\n",
       "      <td>SI</td>\n",
       "      <td>SI</td>\n",
       "      <td>NO</td>\n",
       "      <td>SI</td>\n",
       "      <td>SI</td>\n",
       "      <td>SI</td>\n",
       "      <td>NO</td>\n",
       "      <td>SI</td>\n",
       "      <td>SI</td>\n",
       "      <td>SI</td>\n",
       "      <td>SI</td>\n",
       "      <td>SI</td>\n",
       "      <td>SI</td>\n",
       "    </tr>\n",
       "    <tr>\n",
       "      <th>3</th>\n",
       "      <td>DLAGU9</td>\n",
       "      <td>POZO EL SALITRILLO</td>\n",
       "      <td>LERMA SANTIAGO PACIFICO</td>\n",
       "      <td>AGUASCALIENTES</td>\n",
       "      <td>RINCON DE ROMOS</td>\n",
       "      <td>VALLE DE AGUASCALIENTES</td>\n",
       "      <td>POZO</td>\n",
       "      <td>-102.29449</td>\n",
       "      <td>22.18435</td>\n",
       "      <td>2020</td>\n",
       "      <td>327.000</td>\n",
       "      <td>Alta</td>\n",
       "      <td>686.0</td>\n",
       "      <td>Buena para riego</td>\n",
       "      <td>NaN</td>\n",
       "      <td>478.6</td>\n",
       "      <td>Excelente para riego</td>\n",
       "      <td>Potable - Dulce</td>\n",
       "      <td>1.1229</td>\n",
       "      <td>Potable - Optima</td>\n",
       "      <td>199.879</td>\n",
       "      <td>Potable - Dura</td>\n",
       "      <td>&lt;1.1</td>\n",
       "      <td>Potable - Excelente</td>\n",
       "      <td>1.258597</td>\n",
       "      <td>Potable - Excelente</td>\n",
       "      <td>0.0154</td>\n",
       "      <td>Apta como FAAP</td>\n",
       "      <td>&lt;0.003</td>\n",
       "      <td>Potable - Excelente</td>\n",
       "      <td>0.005</td>\n",
       "      <td>Potable - Excelente</td>\n",
       "      <td>&lt;0.0005</td>\n",
       "      <td>Potable - Excelente</td>\n",
       "      <td>&lt;0.005</td>\n",
       "      <td>Potable - Excelente</td>\n",
       "      <td>&lt;0.0015</td>\n",
       "      <td>Potable - Excelente</td>\n",
       "      <td>&lt;0.025</td>\n",
       "      <td>Potable - Excelente</td>\n",
       "      <td>Verde</td>\n",
       "      <td>NaN</td>\n",
       "      <td>SI</td>\n",
       "      <td>SI</td>\n",
       "      <td>SI</td>\n",
       "      <td>SI</td>\n",
       "      <td>SI</td>\n",
       "      <td>SI</td>\n",
       "      <td>SI</td>\n",
       "      <td>SI</td>\n",
       "      <td>SI</td>\n",
       "      <td>SI</td>\n",
       "      <td>SI</td>\n",
       "      <td>SI</td>\n",
       "      <td>SI</td>\n",
       "      <td>SI</td>\n",
       "      <td>SI</td>\n",
       "    </tr>\n",
       "    <tr>\n",
       "      <th>4</th>\n",
       "      <td>DLBAJ107</td>\n",
       "      <td>RANCHO EL TECOLOTE</td>\n",
       "      <td>PENINSULA DE BAJA CALIFORNIA</td>\n",
       "      <td>BAJA CALIFORNIA SUR</td>\n",
       "      <td>LA PAZ</td>\n",
       "      <td>TODOS SANTOS</td>\n",
       "      <td>POZO</td>\n",
       "      <td>-110.24480</td>\n",
       "      <td>23.45138</td>\n",
       "      <td>2020</td>\n",
       "      <td>309.885</td>\n",
       "      <td>Alta</td>\n",
       "      <td>1841.0</td>\n",
       "      <td>Permisible para riego</td>\n",
       "      <td>NaN</td>\n",
       "      <td>1179</td>\n",
       "      <td>Cultivos con manejo especial</td>\n",
       "      <td>Ligeramente salobres</td>\n",
       "      <td>0.2343</td>\n",
       "      <td>Baja</td>\n",
       "      <td>476.9872</td>\n",
       "      <td>Potable - Dura</td>\n",
       "      <td>291</td>\n",
       "      <td>Aceptable</td>\n",
       "      <td>15.672251</td>\n",
       "      <td>No apta como FAAP</td>\n",
       "      <td>&lt;0.01</td>\n",
       "      <td>Potable - Excelente</td>\n",
       "      <td>&lt;0.003</td>\n",
       "      <td>Potable - Excelente</td>\n",
       "      <td>&lt;0.005</td>\n",
       "      <td>Potable - Excelente</td>\n",
       "      <td>&lt;0.0005</td>\n",
       "      <td>Potable - Excelente</td>\n",
       "      <td>&lt;0.005</td>\n",
       "      <td>Potable - Excelente</td>\n",
       "      <td>&lt;0.0015</td>\n",
       "      <td>Potable - Excelente</td>\n",
       "      <td>&lt;0.025</td>\n",
       "      <td>Potable - Excelente</td>\n",
       "      <td>Rojo</td>\n",
       "      <td>NO3,</td>\n",
       "      <td>SI</td>\n",
       "      <td>SI</td>\n",
       "      <td>SI</td>\n",
       "      <td>SI</td>\n",
       "      <td>SI</td>\n",
       "      <td>SI</td>\n",
       "      <td>SI</td>\n",
       "      <td>NO</td>\n",
       "      <td>SI</td>\n",
       "      <td>SI</td>\n",
       "      <td>SI</td>\n",
       "      <td>SI</td>\n",
       "      <td>SI</td>\n",
       "      <td>SI</td>\n",
       "      <td>SI</td>\n",
       "    </tr>\n",
       "  </tbody>\n",
       "</table>\n",
       "</div>"
      ],
      "text/plain": [
       "       CLAVE                   SITIO           ORGANISMO_DE_CUENCA  \\\n",
       "0     DLAGU6            POZO SAN GIL       LERMA SANTIAGO PACIFICO   \n",
       "1  DLAGU6516  POZO R013 CAÑADA HONDA       LERMA SANTIAGO PACIFICO   \n",
       "2     DLAGU7              POZO COSIO       LERMA SANTIAGO PACIFICO   \n",
       "3     DLAGU9      POZO EL SALITRILLO       LERMA SANTIAGO PACIFICO   \n",
       "4   DLBAJ107      RANCHO EL TECOLOTE  PENINSULA DE BAJA CALIFORNIA   \n",
       "\n",
       "                ESTADO        MUNICIPIO                 ACUIFERO SUBTIPO  \\\n",
       "0       AGUASCALIENTES         ASIENTOS       VALLE DE CHICALOTE    POZO   \n",
       "1       AGUASCALIENTES   AGUASCALIENTES       VALLE DE CHICALOTE    POZO   \n",
       "2       AGUASCALIENTES            COSIO  VALLE DE AGUASCALIENTES    POZO   \n",
       "3       AGUASCALIENTES  RINCON DE ROMOS  VALLE DE AGUASCALIENTES    POZO   \n",
       "4  BAJA CALIFORNIA SUR           LA PAZ             TODOS SANTOS    POZO   \n",
       "\n",
       "    LONGITUD   LATITUD  PERIODO  ALC_mg/L CALIDAD_ALC  CONDUCT_mS/cm  \\\n",
       "0 -102.02210  22.20887     2020   229.990        Alta          940.0   \n",
       "1 -102.20075  21.99958     2020   231.990        Alta          608.0   \n",
       "2 -102.28801  22.36685     2020   204.920        Alta          532.0   \n",
       "3 -102.29449  22.18435     2020   327.000        Alta          686.0   \n",
       "4 -110.24480  23.45138     2020   309.885        Alta         1841.0   \n",
       "\n",
       "          CALIDAD_CONDUC  SDT_mg/L SDT_M_mg/L                CALIDAD_SDT_ra  \\\n",
       "0  Permisible para riego       NaN      603.6            Cultivos sensibles   \n",
       "1       Buena para riego       NaN      445.4          Excelente para riego   \n",
       "2       Buena para riego       NaN        342          Excelente para riego   \n",
       "3       Buena para riego       NaN      478.6          Excelente para riego   \n",
       "4  Permisible para riego       NaN       1179  Cultivos con manejo especial   \n",
       "\n",
       "      CALIDAD_SDT_salin FLUORUROS_mg/L      CALIDAD_FLUO  DUR_mg/L  \\\n",
       "0       Potable - Dulce         0.9766  Potable - Optima   213.732   \n",
       "1       Potable - Dulce         0.9298  Potable - Optima  185.0514   \n",
       "2       Potable - Dulce         1.8045              Alta   120.719   \n",
       "3       Potable - Dulce         1.1229  Potable - Optima   199.879   \n",
       "4  Ligeramente salobres         0.2343              Baja  476.9872   \n",
       "\n",
       "      CALIDAD_DUR COLI_FEC_NMP/100_mL     CALIDAD_COLI_FEC N_NO3_mg/L  \\\n",
       "0  Potable - Dura                <1.1  Potable - Excelente   4.184656   \n",
       "1  Potable - Dura                <1.1  Potable - Excelente    5.75011   \n",
       "2  Potable - Dura                <1.1  Potable - Excelente   1.449803   \n",
       "3  Potable - Dura                <1.1  Potable - Excelente   1.258597   \n",
       "4  Potable - Dura                 291            Aceptable  15.672251   \n",
       "\n",
       "             CALIDAD_N_NO3 AS_TOT_mg/L           CALIDAD_AS CD_TOT_mg/L  \\\n",
       "0      Potable - Excelente      0.0161       Apta como FAAP      <0.003   \n",
       "1  Potable - Buena calidad      0.0134       Apta como FAAP      <0.003   \n",
       "2      Potable - Excelente       0.037    No apta como FAAP      <0.003   \n",
       "3      Potable - Excelente      0.0154       Apta como FAAP      <0.003   \n",
       "4        No apta como FAAP       <0.01  Potable - Excelente      <0.003   \n",
       "\n",
       "            CALIDAD_CD CR_TOT_mg/L           CALIDAD_CR HG_TOT_mg/L  \\\n",
       "0  Potable - Excelente      <0.005  Potable - Excelente     <0.0005   \n",
       "1  Potable - Excelente      <0.005  Potable - Excelente     <0.0005   \n",
       "2  Potable - Excelente      <0.005  Potable - Excelente     <0.0005   \n",
       "3  Potable - Excelente       0.005  Potable - Excelente     <0.0005   \n",
       "4  Potable - Excelente      <0.005  Potable - Excelente     <0.0005   \n",
       "\n",
       "            CALIDAD_HG PB_TOT_mg/L           CALIDAD_PB MN_TOT_mg/L  \\\n",
       "0  Potable - Excelente      <0.005  Potable - Excelente     <0.0015   \n",
       "1  Potable - Excelente      <0.005  Potable - Excelente     <0.0015   \n",
       "2  Potable - Excelente      <0.005  Potable - Excelente     <0.0015   \n",
       "3  Potable - Excelente      <0.005  Potable - Excelente     <0.0015   \n",
       "4  Potable - Excelente      <0.005  Potable - Excelente     <0.0015   \n",
       "\n",
       "            CALIDAD_MN FE_TOT_mg/L           CALIDAD_FE SEMAFORO  \\\n",
       "0  Potable - Excelente      0.0891  Potable - Excelente    Verde   \n",
       "1  Potable - Excelente      <0.025  Potable - Excelente    Verde   \n",
       "2  Potable - Excelente      <0.025  Potable - Excelente     Rojo   \n",
       "3  Potable - Excelente      <0.025  Potable - Excelente    Verde   \n",
       "4  Potable - Excelente      <0.025  Potable - Excelente     Rojo   \n",
       "\n",
       "  CONTAMINANTES CUMPLE_CON_ALC CUMPLE_CON_COND CUMPLE_CON_SDT_ra  \\\n",
       "0           NaN             SI              SI                SI   \n",
       "1           NaN             SI              SI                SI   \n",
       "2      FLUO,AS,             SI              SI                SI   \n",
       "3           NaN             SI              SI                SI   \n",
       "4          NO3,             SI              SI                SI   \n",
       "\n",
       "  CUMPLE_CON_SDT_salin CUMPLE_CON_FLUO CUMPLE_CON_DUR CUMPLE_CON_CF  \\\n",
       "0                   SI              SI             SI            SI   \n",
       "1                   SI              SI             SI            SI   \n",
       "2                   SI              NO             SI            SI   \n",
       "3                   SI              SI             SI            SI   \n",
       "4                   SI              SI             SI            SI   \n",
       "\n",
       "  CUMPLE_CON_NO3 CUMPLE_CON_AS CUMPLE_CON_CD CUMPLE_CON_CR CUMPLE_CON_HG  \\\n",
       "0             SI            SI            SI            SI            SI   \n",
       "1             SI            SI            SI            SI            SI   \n",
       "2             SI            NO            SI            SI            SI   \n",
       "3             SI            SI            SI            SI            SI   \n",
       "4             NO            SI            SI            SI            SI   \n",
       "\n",
       "  CUMPLE_CON_PB CUMPLE_CON_MN CUMPLE_CON_FE  \n",
       "0            SI            SI            SI  \n",
       "1            SI            SI            SI  \n",
       "2            SI            SI            SI  \n",
       "3            SI            SI            SI  \n",
       "4            SI            SI            SI  "
      ]
     },
     "execution_count": 5,
     "metadata": {},
     "output_type": "execute_result"
    },
    {
     "data": {
      "application/javascript": [
       "\n",
       "            setTimeout(function() {\n",
       "                var nbb_cell_id = 5;\n",
       "                var nbb_unformatted_code = \"# Descarga csv calidad subterraneas\\nif os.path.exists(path + file2):\\n    df_calidad_agua_sub = pd.read_csv(path + file2, encoding=\\\"latin1\\\")\\n\\n# Algunos rows de subterraneas\\ndf_calidad_agua_sub.head()\";\n",
       "                var nbb_formatted_code = \"# Descarga csv calidad subterraneas\\nif os.path.exists(path + file2):\\n    df_calidad_agua_sub = pd.read_csv(path + file2, encoding=\\\"latin1\\\")\\n\\n# Algunos rows de subterraneas\\ndf_calidad_agua_sub.head()\";\n",
       "                var nbb_cells = Jupyter.notebook.get_cells();\n",
       "                for (var i = 0; i < nbb_cells.length; ++i) {\n",
       "                    if (nbb_cells[i].input_prompt_number == nbb_cell_id) {\n",
       "                        if (nbb_cells[i].get_text() == nbb_unformatted_code) {\n",
       "                             nbb_cells[i].set_text(nbb_formatted_code);\n",
       "                        }\n",
       "                        break;\n",
       "                    }\n",
       "                }\n",
       "            }, 500);\n",
       "            "
      ],
      "text/plain": [
       "<IPython.core.display.Javascript object>"
      ]
     },
     "metadata": {},
     "output_type": "display_data"
    }
   ],
   "source": [
    "# Descarga csv calidad subterraneas\n",
    "if os.path.exists(path + file2):\n",
    "    df_calidad_agua_sub = pd.read_csv(path + file2, encoding=\"latin1\")\n",
    "\n",
    "# Algunos rows de subterraneas\n",
    "df_calidad_agua_sub.head()"
   ]
  },
  {
   "cell_type": "code",
   "execution_count": 6,
   "id": "cc7cb799",
   "metadata": {},
   "outputs": [
    {
     "data": {
      "text/html": [
       "<div>\n",
       "<style scoped>\n",
       "    .dataframe tbody tr th:only-of-type {\n",
       "        vertical-align: middle;\n",
       "    }\n",
       "\n",
       "    .dataframe tbody tr th {\n",
       "        vertical-align: top;\n",
       "    }\n",
       "\n",
       "    .dataframe thead th {\n",
       "        text-align: right;\n",
       "    }\n",
       "</style>\n",
       "<table border=\"1\" class=\"dataframe\">\n",
       "  <thead>\n",
       "    <tr style=\"text-align: right;\">\n",
       "      <th></th>\n",
       "      <th>CALIDAD DEL AGUA PARA COLIFORMES FECALES_subterraneas</th>\n",
       "      <th>CRITERIO</th>\n",
       "      <th>DESCRIPCION</th>\n",
       "    </tr>\n",
       "  </thead>\n",
       "  <tbody>\n",
       "    <tr>\n",
       "      <th>0</th>\n",
       "      <td>Excelente</td>\n",
       "      <td>COLI_FEC menor a 1.1</td>\n",
       "      <td>Agua potable. Agua no contaminada o condicion ...</td>\n",
       "    </tr>\n",
       "    <tr>\n",
       "      <th>1</th>\n",
       "      <td>Buena calidad</td>\n",
       "      <td>COLI_FEC mayor o igual de 1.1 y menor o igual ...</td>\n",
       "      <td>Aguas para uso recreativo con contacto primari...</td>\n",
       "    </tr>\n",
       "    <tr>\n",
       "      <th>2</th>\n",
       "      <td>Aceptable</td>\n",
       "      <td>COLI_FEC mayor de 200 y menor o igual a 1000</td>\n",
       "      <td>Aguas con calidad admisible como fuente de aba...</td>\n",
       "    </tr>\n",
       "    <tr>\n",
       "      <th>3</th>\n",
       "      <td>Contaminada</td>\n",
       "      <td>COLI_FEC mayor de 1000 y menor o igual a 10000</td>\n",
       "      <td>Aguas  con contaminacion bacteriologica. Indic...</td>\n",
       "    </tr>\n",
       "    <tr>\n",
       "      <th>4</th>\n",
       "      <td>Fuertemente contaminada</td>\n",
       "      <td>COLI_FEC mayor de 10000</td>\n",
       "      <td>Aguas con fuerte contaminacion bacteriologica....</td>\n",
       "    </tr>\n",
       "  </tbody>\n",
       "</table>\n",
       "</div>"
      ],
      "text/plain": [
       "  CALIDAD DEL AGUA PARA COLIFORMES FECALES_subterraneas  \\\n",
       "0                                          Excelente      \n",
       "1                                      Buena calidad      \n",
       "2                                          Aceptable      \n",
       "3                                        Contaminada      \n",
       "4                            Fuertemente contaminada      \n",
       "\n",
       "                                            CRITERIO  \\\n",
       "0                               COLI_FEC menor a 1.1   \n",
       "1  COLI_FEC mayor o igual de 1.1 y menor o igual ...   \n",
       "2       COLI_FEC mayor de 200 y menor o igual a 1000   \n",
       "3     COLI_FEC mayor de 1000 y menor o igual a 10000   \n",
       "4                            COLI_FEC mayor de 10000   \n",
       "\n",
       "                                         DESCRIPCION  \n",
       "0  Agua potable. Agua no contaminada o condicion ...  \n",
       "1  Aguas para uso recreativo con contacto primari...  \n",
       "2  Aguas con calidad admisible como fuente de aba...  \n",
       "3  Aguas  con contaminacion bacteriologica. Indic...  \n",
       "4  Aguas con fuerte contaminacion bacteriologica....  "
      ]
     },
     "execution_count": 6,
     "metadata": {},
     "output_type": "execute_result"
    },
    {
     "data": {
      "application/javascript": [
       "\n",
       "            setTimeout(function() {\n",
       "                var nbb_cell_id = 6;\n",
       "                var nbb_unformatted_code = \"# Descarga csv escalas subterraneas\\nif os.path.exists(path + file3):\\n    df_escala_sub = pd.read_csv(path + file3, encoding=\\\"latin1\\\")\\n\\n# Algunos rows de subterraneas\\ndf_escala_sub.head()\";\n",
       "                var nbb_formatted_code = \"# Descarga csv escalas subterraneas\\nif os.path.exists(path + file3):\\n    df_escala_sub = pd.read_csv(path + file3, encoding=\\\"latin1\\\")\\n\\n# Algunos rows de subterraneas\\ndf_escala_sub.head()\";\n",
       "                var nbb_cells = Jupyter.notebook.get_cells();\n",
       "                for (var i = 0; i < nbb_cells.length; ++i) {\n",
       "                    if (nbb_cells[i].input_prompt_number == nbb_cell_id) {\n",
       "                        if (nbb_cells[i].get_text() == nbb_unformatted_code) {\n",
       "                             nbb_cells[i].set_text(nbb_formatted_code);\n",
       "                        }\n",
       "                        break;\n",
       "                    }\n",
       "                }\n",
       "            }, 500);\n",
       "            "
      ],
      "text/plain": [
       "<IPython.core.display.Javascript object>"
      ]
     },
     "metadata": {},
     "output_type": "display_data"
    }
   ],
   "source": [
    "# Descarga csv escalas subterraneas\n",
    "if os.path.exists(path + file3):\n",
    "    df_escala_sub = pd.read_csv(path + file3, encoding=\"latin1\")\n",
    "\n",
    "# Algunos rows de subterraneas\n",
    "df_escala_sub.head()"
   ]
  },
  {
   "cell_type": "markdown",
   "id": "fb727b5d",
   "metadata": {},
   "source": [
    "## Limpieza de base de datos."
   ]
  },
  {
   "cell_type": "markdown",
   "id": "ee71fdb0",
   "metadata": {},
   "source": [
    "**Omitimos la exploración de datos realizada en la entrega anterior**"
   ]
  },
  {
   "cell_type": "markdown",
   "id": "8fd46725",
   "metadata": {},
   "source": [
    "**Eliminamos variable que no nos sirven**"
   ]
  },
  {
   "cell_type": "code",
   "execution_count": 7,
   "id": "5efc266f",
   "metadata": {},
   "outputs": [
    {
     "data": {
      "application/javascript": [
       "\n",
       "            setTimeout(function() {\n",
       "                var nbb_cell_id = 7;\n",
       "                var nbb_unformatted_code = \"# eliminar columna con puros nulls\\ndf_calidad_agua_sub.drop(\\\"SDT_mg/L\\\", axis=1, inplace=True)\\n\\n# eliminar columna que no nos dan informaci\\u00f3n porque son claves \\u00fanicas\\ndf_calidad_agua_sub.drop(\\\"CLAVE\\\", axis=1, inplace=True)\\n\\n# eliminar columna que no nos dan informaci\\u00f3n porque casi todos son valores \\u00fanicos (solo se repite 1)\\ndf_calidad_agua_sub.drop(\\\"SITIO\\\", axis=1, inplace=True)\\n\\n# eliminar columna que no nos dan informaci\\u00f3n porque solo toma un valor\\ndf_calidad_agua_sub.drop(\\\"PERIODO\\\", axis=1, inplace=True)\";\n",
       "                var nbb_formatted_code = \"# eliminar columna con puros nulls\\ndf_calidad_agua_sub.drop(\\\"SDT_mg/L\\\", axis=1, inplace=True)\\n\\n# eliminar columna que no nos dan informaci\\u00f3n porque son claves \\u00fanicas\\ndf_calidad_agua_sub.drop(\\\"CLAVE\\\", axis=1, inplace=True)\\n\\n# eliminar columna que no nos dan informaci\\u00f3n porque casi todos son valores \\u00fanicos (solo se repite 1)\\ndf_calidad_agua_sub.drop(\\\"SITIO\\\", axis=1, inplace=True)\\n\\n# eliminar columna que no nos dan informaci\\u00f3n porque solo toma un valor\\ndf_calidad_agua_sub.drop(\\\"PERIODO\\\", axis=1, inplace=True)\";\n",
       "                var nbb_cells = Jupyter.notebook.get_cells();\n",
       "                for (var i = 0; i < nbb_cells.length; ++i) {\n",
       "                    if (nbb_cells[i].input_prompt_number == nbb_cell_id) {\n",
       "                        if (nbb_cells[i].get_text() == nbb_unformatted_code) {\n",
       "                             nbb_cells[i].set_text(nbb_formatted_code);\n",
       "                        }\n",
       "                        break;\n",
       "                    }\n",
       "                }\n",
       "            }, 500);\n",
       "            "
      ],
      "text/plain": [
       "<IPython.core.display.Javascript object>"
      ]
     },
     "metadata": {},
     "output_type": "display_data"
    }
   ],
   "source": [
    "# eliminar columna con puros nulls\n",
    "df_calidad_agua_sub.drop(\"SDT_mg/L\", axis=1, inplace=True)\n",
    "\n",
    "# eliminar columna que no nos dan información porque son claves únicas\n",
    "df_calidad_agua_sub.drop(\"CLAVE\", axis=1, inplace=True)\n",
    "\n",
    "# eliminar columna que no nos dan información porque casi todos son valores únicos (solo se repite 1)\n",
    "df_calidad_agua_sub.drop(\"SITIO\", axis=1, inplace=True)\n",
    "\n",
    "# eliminar columna que no nos dan información porque solo toma un valor\n",
    "df_calidad_agua_sub.drop(\"PERIODO\", axis=1, inplace=True)"
   ]
  },
  {
   "cell_type": "markdown",
   "id": "f2680c26",
   "metadata": {},
   "source": [
    "**Conversión de columnas a numéricas**"
   ]
  },
  {
   "cell_type": "code",
   "execution_count": 8,
   "id": "d8e96184",
   "metadata": {},
   "outputs": [
    {
     "data": {
      "application/javascript": [
       "\n",
       "            setTimeout(function() {\n",
       "                var nbb_cell_id = 8;\n",
       "                var nbb_unformatted_code = \"def convert_to_numeric(item):\\n    if type(item) == str:\\n        item = item.strip(\\\"<\\\")\\n    return float(item)\";\n",
       "                var nbb_formatted_code = \"def convert_to_numeric(item):\\n    if type(item) == str:\\n        item = item.strip(\\\"<\\\")\\n    return float(item)\";\n",
       "                var nbb_cells = Jupyter.notebook.get_cells();\n",
       "                for (var i = 0; i < nbb_cells.length; ++i) {\n",
       "                    if (nbb_cells[i].input_prompt_number == nbb_cell_id) {\n",
       "                        if (nbb_cells[i].get_text() == nbb_unformatted_code) {\n",
       "                             nbb_cells[i].set_text(nbb_formatted_code);\n",
       "                        }\n",
       "                        break;\n",
       "                    }\n",
       "                }\n",
       "            }, 500);\n",
       "            "
      ],
      "text/plain": [
       "<IPython.core.display.Javascript object>"
      ]
     },
     "metadata": {},
     "output_type": "display_data"
    }
   ],
   "source": [
    "def convert_to_numeric(item):\n",
    "    if type(item) == str:\n",
    "        item = item.strip(\"<\")\n",
    "    return float(item)"
   ]
  },
  {
   "cell_type": "code",
   "execution_count": 9,
   "id": "c063e601",
   "metadata": {},
   "outputs": [
    {
     "data": {
      "application/javascript": [
       "\n",
       "            setTimeout(function() {\n",
       "                var nbb_cell_id = 9;\n",
       "                var nbb_unformatted_code = \"# Columnas para convertir en numericas\\ncol_a_numeric = [\\n    item\\n    for item in df_calidad_agua_sub.loc[:, \\\"SDT_M_mg/L\\\":\\\"FE_TOT_mg/L\\\"].columns\\n    if \\\"CALIDAD\\\" not in item\\n]\";\n",
       "                var nbb_formatted_code = \"# Columnas para convertir en numericas\\ncol_a_numeric = [\\n    item\\n    for item in df_calidad_agua_sub.loc[:, \\\"SDT_M_mg/L\\\":\\\"FE_TOT_mg/L\\\"].columns\\n    if \\\"CALIDAD\\\" not in item\\n]\";\n",
       "                var nbb_cells = Jupyter.notebook.get_cells();\n",
       "                for (var i = 0; i < nbb_cells.length; ++i) {\n",
       "                    if (nbb_cells[i].input_prompt_number == nbb_cell_id) {\n",
       "                        if (nbb_cells[i].get_text() == nbb_unformatted_code) {\n",
       "                             nbb_cells[i].set_text(nbb_formatted_code);\n",
       "                        }\n",
       "                        break;\n",
       "                    }\n",
       "                }\n",
       "            }, 500);\n",
       "            "
      ],
      "text/plain": [
       "<IPython.core.display.Javascript object>"
      ]
     },
     "metadata": {},
     "output_type": "display_data"
    }
   ],
   "source": [
    "# Columnas para convertir en numericas\n",
    "col_a_numeric = [\n",
    "    item\n",
    "    for item in df_calidad_agua_sub.loc[:, \"SDT_M_mg/L\":\"FE_TOT_mg/L\"].columns\n",
    "    if \"CALIDAD\" not in item\n",
    "]"
   ]
  },
  {
   "cell_type": "code",
   "execution_count": 10,
   "id": "2415e23e",
   "metadata": {},
   "outputs": [
    {
     "data": {
      "application/javascript": [
       "\n",
       "            setTimeout(function() {\n",
       "                var nbb_cell_id = 10;\n",
       "                var nbb_unformatted_code = \"# Convertimos columnas a numericas\\nfor col in col_a_numeric:\\n    df_calidad_agua_sub[col] = df_calidad_agua_sub[col].apply(convert_to_numeric)\";\n",
       "                var nbb_formatted_code = \"# Convertimos columnas a numericas\\nfor col in col_a_numeric:\\n    df_calidad_agua_sub[col] = df_calidad_agua_sub[col].apply(convert_to_numeric)\";\n",
       "                var nbb_cells = Jupyter.notebook.get_cells();\n",
       "                for (var i = 0; i < nbb_cells.length; ++i) {\n",
       "                    if (nbb_cells[i].input_prompt_number == nbb_cell_id) {\n",
       "                        if (nbb_cells[i].get_text() == nbb_unformatted_code) {\n",
       "                             nbb_cells[i].set_text(nbb_formatted_code);\n",
       "                        }\n",
       "                        break;\n",
       "                    }\n",
       "                }\n",
       "            }, 500);\n",
       "            "
      ],
      "text/plain": [
       "<IPython.core.display.Javascript object>"
      ]
     },
     "metadata": {},
     "output_type": "display_data"
    }
   ],
   "source": [
    "# Convertimos columnas a numericas\n",
    "for col in col_a_numeric:\n",
    "    df_calidad_agua_sub[col] = df_calidad_agua_sub[col].apply(convert_to_numeric)"
   ]
  },
  {
   "cell_type": "markdown",
   "id": "4a7288d4",
   "metadata": {},
   "source": [
    "**Cambiar a ordinales las variables de calidad**\n",
    "\n",
    "Se realizara en a traves de un pipeline con el apoyo de OrdinalEncoder."
   ]
  },
  {
   "cell_type": "markdown",
   "id": "1fcca3ca",
   "metadata": {},
   "source": [
    "**Datos faltantes**\n",
    "\n",
    "Usaremos un pipeline para evitar data leaking al rellenar datos faltates.\n",
    "\n",
    "- Datos numericos usaremos mediana.\n",
    "- Variable CONTAMINANTES usaremos \"Ninguno\".\n",
    "- Variables binarias, categóricas y ordinales usaremos la moda."
   ]
  },
  {
   "cell_type": "markdown",
   "id": "d92d5e3e",
   "metadata": {},
   "source": [
    "**Codificar las variables categóricas para convertirlas a numericas**\n",
    "\n",
    "Debido a la cantidad de valores que toman (la que menos es SUBTIPO y toma 8 valores) usaremos OrdinalEncoder en vez de OneHotEncoder. La transformación se realizará dentro de un pipeline."
   ]
  },
  {
   "cell_type": "markdown",
   "id": "b822eb79",
   "metadata": {},
   "source": [
    "**Escalamiento de datos**\n",
    "\n",
    "No es necesario ya que ni los árboles de decisión ni los bosques aleatorios se ven afectados por rango distinto u outliers."
   ]
  },
  {
   "cell_type": "markdown",
   "id": "0b243914",
   "metadata": {},
   "source": [
    "## 1. Selecciona tus variables independientes X y dependiente Y (semáforo)"
   ]
  },
  {
   "cell_type": "code",
   "execution_count": 11,
   "id": "84832342",
   "metadata": {},
   "outputs": [
    {
     "data": {
      "application/javascript": [
       "\n",
       "            setTimeout(function() {\n",
       "                var nbb_cell_id = 11;\n",
       "                var nbb_unformatted_code = \"# Definamos las variables de entrada y de salida\\nX = pd.concat(\\n    [df_calidad_agua_sub.iloc[:, :36], df_calidad_agua_sub.iloc[:, 37:]], axis=1\\n).copy()\\nY = df_calidad_agua_sub[[\\\"SEMAFORO\\\"]]\";\n",
       "                var nbb_formatted_code = \"# Definamos las variables de entrada y de salida\\nX = pd.concat(\\n    [df_calidad_agua_sub.iloc[:, :36], df_calidad_agua_sub.iloc[:, 37:]], axis=1\\n).copy()\\nY = df_calidad_agua_sub[[\\\"SEMAFORO\\\"]]\";\n",
       "                var nbb_cells = Jupyter.notebook.get_cells();\n",
       "                for (var i = 0; i < nbb_cells.length; ++i) {\n",
       "                    if (nbb_cells[i].input_prompt_number == nbb_cell_id) {\n",
       "                        if (nbb_cells[i].get_text() == nbb_unformatted_code) {\n",
       "                             nbb_cells[i].set_text(nbb_formatted_code);\n",
       "                        }\n",
       "                        break;\n",
       "                    }\n",
       "                }\n",
       "            }, 500);\n",
       "            "
      ],
      "text/plain": [
       "<IPython.core.display.Javascript object>"
      ]
     },
     "metadata": {},
     "output_type": "display_data"
    }
   ],
   "source": [
    "# Definamos las variables de entrada y de salida\n",
    "X = pd.concat(\n",
    "    [df_calidad_agua_sub.iloc[:, :36], df_calidad_agua_sub.iloc[:, 37:]], axis=1\n",
    ").copy()\n",
    "Y = df_calidad_agua_sub[[\"SEMAFORO\"]]"
   ]
  },
  {
   "cell_type": "markdown",
   "id": "2c9af3c0",
   "metadata": {},
   "source": [
    "## 2. Cambia a label encoding el semáforo, ej, de [\"clase 1\", \"clase 2\", \"clase 3\"] a [ 1,2,3]"
   ]
  },
  {
   "cell_type": "markdown",
   "id": "f03c619c",
   "metadata": {},
   "source": [
    "Realizamos la transformación a través de un pipeline apoyados de OrdinalEncoder."
   ]
  },
  {
   "cell_type": "markdown",
   "id": "3473cc66",
   "metadata": {},
   "source": [
    "**Pipeline para SEMAFORO**"
   ]
  },
  {
   "cell_type": "code",
   "execution_count": 12,
   "id": "20285f62",
   "metadata": {},
   "outputs": [
    {
     "data": {
      "application/javascript": [
       "\n",
       "            setTimeout(function() {\n",
       "                var nbb_cell_id = 12;\n",
       "                var nbb_unformatted_code = \"# Pipeline para variable y\\ny_pipeline = Pipeline(steps=[(\\\"OrdE\\\", OrdinalEncoder())])\\ny_pipeline_nombres = [\\\"SEMAFORO\\\"]\";\n",
       "                var nbb_formatted_code = \"# Pipeline para variable y\\ny_pipeline = Pipeline(steps=[(\\\"OrdE\\\", OrdinalEncoder())])\\ny_pipeline_nombres = [\\\"SEMAFORO\\\"]\";\n",
       "                var nbb_cells = Jupyter.notebook.get_cells();\n",
       "                for (var i = 0; i < nbb_cells.length; ++i) {\n",
       "                    if (nbb_cells[i].input_prompt_number == nbb_cell_id) {\n",
       "                        if (nbb_cells[i].get_text() == nbb_unformatted_code) {\n",
       "                             nbb_cells[i].set_text(nbb_formatted_code);\n",
       "                        }\n",
       "                        break;\n",
       "                    }\n",
       "                }\n",
       "            }, 500);\n",
       "            "
      ],
      "text/plain": [
       "<IPython.core.display.Javascript object>"
      ]
     },
     "metadata": {},
     "output_type": "display_data"
    }
   ],
   "source": [
    "# Pipeline para variable y\n",
    "y_pipeline = Pipeline(steps=[(\"OrdE\", OrdinalEncoder())])\n",
    "y_pipeline_nombres = [\"SEMAFORO\"]"
   ]
  },
  {
   "cell_type": "code",
   "execution_count": 13,
   "id": "172f2e91",
   "metadata": {},
   "outputs": [
    {
     "data": {
      "application/javascript": [
       "\n",
       "            setTimeout(function() {\n",
       "                var nbb_cell_id = 13;\n",
       "                var nbb_unformatted_code = \"# Transformamos variable SEMAFORO\\nYy = y_pipeline.fit_transform(Y)\";\n",
       "                var nbb_formatted_code = \"# Transformamos variable SEMAFORO\\nYy = y_pipeline.fit_transform(Y)\";\n",
       "                var nbb_cells = Jupyter.notebook.get_cells();\n",
       "                for (var i = 0; i < nbb_cells.length; ++i) {\n",
       "                    if (nbb_cells[i].input_prompt_number == nbb_cell_id) {\n",
       "                        if (nbb_cells[i].get_text() == nbb_unformatted_code) {\n",
       "                             nbb_cells[i].set_text(nbb_formatted_code);\n",
       "                        }\n",
       "                        break;\n",
       "                    }\n",
       "                }\n",
       "            }, 500);\n",
       "            "
      ],
      "text/plain": [
       "<IPython.core.display.Javascript object>"
      ]
     },
     "metadata": {},
     "output_type": "display_data"
    }
   ],
   "source": [
    "# Transformamos variable SEMAFORO\n",
    "Yy = y_pipeline.fit_transform(Y)"
   ]
  },
  {
   "cell_type": "code",
   "execution_count": 14,
   "id": "ab77656e",
   "metadata": {},
   "outputs": [
    {
     "data": {
      "text/plain": [
       "[array(['Amarillo', 'Rojo', 'Verde'], dtype=object)]"
      ]
     },
     "execution_count": 14,
     "metadata": {},
     "output_type": "execute_result"
    },
    {
     "data": {
      "application/javascript": [
       "\n",
       "            setTimeout(function() {\n",
       "                var nbb_cell_id = 14;\n",
       "                var nbb_unformatted_code = \"y_pipeline.named_steps.OrdE.categories_\";\n",
       "                var nbb_formatted_code = \"y_pipeline.named_steps.OrdE.categories_\";\n",
       "                var nbb_cells = Jupyter.notebook.get_cells();\n",
       "                for (var i = 0; i < nbb_cells.length; ++i) {\n",
       "                    if (nbb_cells[i].input_prompt_number == nbb_cell_id) {\n",
       "                        if (nbb_cells[i].get_text() == nbb_unformatted_code) {\n",
       "                             nbb_cells[i].set_text(nbb_formatted_code);\n",
       "                        }\n",
       "                        break;\n",
       "                    }\n",
       "                }\n",
       "            }, 500);\n",
       "            "
      ],
      "text/plain": [
       "<IPython.core.display.Javascript object>"
      ]
     },
     "metadata": {},
     "output_type": "display_data"
    }
   ],
   "source": [
    "y_pipeline.named_steps.OrdE.categories_"
   ]
  },
  {
   "cell_type": "markdown",
   "id": "4990fbb8",
   "metadata": {},
   "source": [
    "**Pipeline para X**"
   ]
  },
  {
   "cell_type": "code",
   "execution_count": 15,
   "id": "b1537e80",
   "metadata": {},
   "outputs": [
    {
     "data": {
      "application/javascript": [
       "\n",
       "            setTimeout(function() {\n",
       "                var nbb_cell_id = 15;\n",
       "                var nbb_unformatted_code = \"# Pipeline para  variables num\\u00e9ricas\\nnum_pipeline = Pipeline(steps=[(\\\"imputer\\\", SimpleImputer(strategy=\\\"median\\\"))])\\nnum_pipeline_nombres = [\\n    \\\"LONGITUD\\\",\\n    \\\"LATITUD\\\",\\n    \\\"ALC_mg/L\\\",\\n    \\\"CONDUCT_mS/cm\\\",\\n    \\\"SDT_M_mg/L\\\",\\n    \\\"FLUORUROS_mg/L\\\",\\n    \\\"DUR_mg/L\\\",\\n    \\\"COLI_FEC_NMP/100_mL\\\",\\n    \\\"N_NO3_mg/L\\\",\\n    \\\"AS_TOT_mg/L\\\",\\n    \\\"CD_TOT_mg/L\\\",\\n    \\\"CR_TOT_mg/L\\\",\\n    \\\"HG_TOT_mg/L\\\",\\n    \\\"PB_TOT_mg/L\\\",\\n    \\\"MN_TOT_mg/L\\\",\\n    \\\"FE_TOT_mg/L\\\",\\n]\\n\\n# Pipeline para variables CONTAMINANTES\\ncont_pipeline = Pipeline(\\n    steps=[\\n        (\\\"imputer1\\\", SimpleImputer(strategy=\\\"constant\\\", fill_value=\\\"Ninguno\\\")),\\n        (\\n            \\\"OrdE\\\",\\n            OrdinalEncoder(handle_unknown=\\\"use_encoded_value\\\", unknown_value=np.nan),\\n        ),\\n        (\\\"imputer2\\\", SimpleImputer(strategy=\\\"most_frequent\\\")),\\n    ]\\n)\\ncont_pipeline_nombres = [\\\"CONTAMINANTES\\\"]\\n\\n# Pipeline para variables categ\\u00f3ricas\\ncat_pipeline = Pipeline(\\n    steps=[\\n        (\\\"imputer1\\\", SimpleImputer(strategy=\\\"most_frequent\\\")),\\n        (\\n            \\\"OrdE\\\",\\n            OrdinalEncoder(handle_unknown=\\\"use_encoded_value\\\", unknown_value=np.nan),\\n        ),\\n        (\\\"imputer2\\\", SimpleImputer(strategy=\\\"most_frequent\\\")),\\n    ]\\n)\\ncat_pipeline_nombres = [\\n    \\\"ORGANISMO_DE_CUENCA\\\",\\n    \\\"ESTADO\\\",\\n    \\\"MUNICIPIO\\\",\\n    \\\"ACUIFERO\\\",\\n    \\\"SUBTIPO\\\",\\n]\\n\\n# Pipeline para  variables ordinales\\nord_pipeline = Pipeline(\\n    steps=[\\n        (\\\"imputer1\\\", SimpleImputer(strategy=\\\"most_frequent\\\")),\\n        (\\n            \\\"OrdE\\\",\\n            OrdinalEncoder(handle_unknown=\\\"use_encoded_value\\\", unknown_value=np.nan),\\n        ),\\n        (\\\"imputer2\\\", SimpleImputer(strategy=\\\"most_frequent\\\")),\\n    ]\\n)\\nord_pipeline_nombres = [\\n    \\\"CALIDAD_ALC\\\",\\n    \\\"CALIDAD_CONDUC\\\",\\n    \\\"CALIDAD_SDT_ra\\\",\\n    \\\"CALIDAD_SDT_salin\\\",\\n    \\\"CALIDAD_FLUO\\\",\\n    \\\"CALIDAD_DUR\\\",\\n    \\\"CALIDAD_COLI_FEC\\\",\\n    \\\"CALIDAD_N_NO3\\\",\\n    \\\"CALIDAD_AS\\\",\\n    \\\"CALIDAD_CD\\\",\\n    \\\"CALIDAD_CR\\\",\\n    \\\"CALIDAD_HG\\\",\\n    \\\"CALIDAD_PB\\\",\\n    \\\"CALIDAD_MN\\\",\\n    \\\"CALIDAD_FE\\\",\\n    \\\"CUMPLE_CON_ALC\\\",\\n    \\\"CUMPLE_CON_COND\\\",\\n    \\\"CUMPLE_CON_SDT_ra\\\",\\n    \\\"CUMPLE_CON_SDT_salin\\\",\\n    \\\"CUMPLE_CON_FLUO\\\",\\n    \\\"CUMPLE_CON_DUR\\\",\\n    \\\"CUMPLE_CON_CF\\\",\\n    \\\"CUMPLE_CON_NO3\\\",\\n    \\\"CUMPLE_CON_AS\\\",\\n    \\\"CUMPLE_CON_CD\\\",\\n    \\\"CUMPLE_CON_CR\\\",\\n    \\\"CUMPLE_CON_HG\\\",\\n    \\\"CUMPLE_CON_PB\\\",\\n    \\\"CUMPLE_CON_MN\\\",\\n    \\\"CUMPLE_CON_FE\\\",\\n]\\n\\n# Conjuntamos las transformaciones num\\u00e9ricas, categ\\u00f3ricas, ordinales y binarias que se estar\\u00e1n aplicando a los datos de entrada:\\ncolumnasTransformer = ColumnTransformer(\\n    transformers=[\\n        (\\\"numerica\\\", num_pipeline, num_pipeline_nombres),\\n        (\\\"contaminantes\\\", cont_pipeline, cont_pipeline_nombres),\\n        (\\\"categorica\\\", cat_pipeline, cat_pipeline_nombres),\\n        (\\\"ordinaria\\\", ord_pipeline, ord_pipeline_nombres),\\n    ],\\n    remainder=\\\"passthrough\\\",\\n)\";\n",
       "                var nbb_formatted_code = \"# Pipeline para  variables num\\u00e9ricas\\nnum_pipeline = Pipeline(steps=[(\\\"imputer\\\", SimpleImputer(strategy=\\\"median\\\"))])\\nnum_pipeline_nombres = [\\n    \\\"LONGITUD\\\",\\n    \\\"LATITUD\\\",\\n    \\\"ALC_mg/L\\\",\\n    \\\"CONDUCT_mS/cm\\\",\\n    \\\"SDT_M_mg/L\\\",\\n    \\\"FLUORUROS_mg/L\\\",\\n    \\\"DUR_mg/L\\\",\\n    \\\"COLI_FEC_NMP/100_mL\\\",\\n    \\\"N_NO3_mg/L\\\",\\n    \\\"AS_TOT_mg/L\\\",\\n    \\\"CD_TOT_mg/L\\\",\\n    \\\"CR_TOT_mg/L\\\",\\n    \\\"HG_TOT_mg/L\\\",\\n    \\\"PB_TOT_mg/L\\\",\\n    \\\"MN_TOT_mg/L\\\",\\n    \\\"FE_TOT_mg/L\\\",\\n]\\n\\n# Pipeline para variables CONTAMINANTES\\ncont_pipeline = Pipeline(\\n    steps=[\\n        (\\\"imputer1\\\", SimpleImputer(strategy=\\\"constant\\\", fill_value=\\\"Ninguno\\\")),\\n        (\\n            \\\"OrdE\\\",\\n            OrdinalEncoder(handle_unknown=\\\"use_encoded_value\\\", unknown_value=np.nan),\\n        ),\\n        (\\\"imputer2\\\", SimpleImputer(strategy=\\\"most_frequent\\\")),\\n    ]\\n)\\ncont_pipeline_nombres = [\\\"CONTAMINANTES\\\"]\\n\\n# Pipeline para variables categ\\u00f3ricas\\ncat_pipeline = Pipeline(\\n    steps=[\\n        (\\\"imputer1\\\", SimpleImputer(strategy=\\\"most_frequent\\\")),\\n        (\\n            \\\"OrdE\\\",\\n            OrdinalEncoder(handle_unknown=\\\"use_encoded_value\\\", unknown_value=np.nan),\\n        ),\\n        (\\\"imputer2\\\", SimpleImputer(strategy=\\\"most_frequent\\\")),\\n    ]\\n)\\ncat_pipeline_nombres = [\\n    \\\"ORGANISMO_DE_CUENCA\\\",\\n    \\\"ESTADO\\\",\\n    \\\"MUNICIPIO\\\",\\n    \\\"ACUIFERO\\\",\\n    \\\"SUBTIPO\\\",\\n]\\n\\n# Pipeline para  variables ordinales\\nord_pipeline = Pipeline(\\n    steps=[\\n        (\\\"imputer1\\\", SimpleImputer(strategy=\\\"most_frequent\\\")),\\n        (\\n            \\\"OrdE\\\",\\n            OrdinalEncoder(handle_unknown=\\\"use_encoded_value\\\", unknown_value=np.nan),\\n        ),\\n        (\\\"imputer2\\\", SimpleImputer(strategy=\\\"most_frequent\\\")),\\n    ]\\n)\\nord_pipeline_nombres = [\\n    \\\"CALIDAD_ALC\\\",\\n    \\\"CALIDAD_CONDUC\\\",\\n    \\\"CALIDAD_SDT_ra\\\",\\n    \\\"CALIDAD_SDT_salin\\\",\\n    \\\"CALIDAD_FLUO\\\",\\n    \\\"CALIDAD_DUR\\\",\\n    \\\"CALIDAD_COLI_FEC\\\",\\n    \\\"CALIDAD_N_NO3\\\",\\n    \\\"CALIDAD_AS\\\",\\n    \\\"CALIDAD_CD\\\",\\n    \\\"CALIDAD_CR\\\",\\n    \\\"CALIDAD_HG\\\",\\n    \\\"CALIDAD_PB\\\",\\n    \\\"CALIDAD_MN\\\",\\n    \\\"CALIDAD_FE\\\",\\n    \\\"CUMPLE_CON_ALC\\\",\\n    \\\"CUMPLE_CON_COND\\\",\\n    \\\"CUMPLE_CON_SDT_ra\\\",\\n    \\\"CUMPLE_CON_SDT_salin\\\",\\n    \\\"CUMPLE_CON_FLUO\\\",\\n    \\\"CUMPLE_CON_DUR\\\",\\n    \\\"CUMPLE_CON_CF\\\",\\n    \\\"CUMPLE_CON_NO3\\\",\\n    \\\"CUMPLE_CON_AS\\\",\\n    \\\"CUMPLE_CON_CD\\\",\\n    \\\"CUMPLE_CON_CR\\\",\\n    \\\"CUMPLE_CON_HG\\\",\\n    \\\"CUMPLE_CON_PB\\\",\\n    \\\"CUMPLE_CON_MN\\\",\\n    \\\"CUMPLE_CON_FE\\\",\\n]\\n\\n# Conjuntamos las transformaciones num\\u00e9ricas, categ\\u00f3ricas, ordinales y binarias que se estar\\u00e1n aplicando a los datos de entrada:\\ncolumnasTransformer = ColumnTransformer(\\n    transformers=[\\n        (\\\"numerica\\\", num_pipeline, num_pipeline_nombres),\\n        (\\\"contaminantes\\\", cont_pipeline, cont_pipeline_nombres),\\n        (\\\"categorica\\\", cat_pipeline, cat_pipeline_nombres),\\n        (\\\"ordinaria\\\", ord_pipeline, ord_pipeline_nombres),\\n    ],\\n    remainder=\\\"passthrough\\\",\\n)\";\n",
       "                var nbb_cells = Jupyter.notebook.get_cells();\n",
       "                for (var i = 0; i < nbb_cells.length; ++i) {\n",
       "                    if (nbb_cells[i].input_prompt_number == nbb_cell_id) {\n",
       "                        if (nbb_cells[i].get_text() == nbb_unformatted_code) {\n",
       "                             nbb_cells[i].set_text(nbb_formatted_code);\n",
       "                        }\n",
       "                        break;\n",
       "                    }\n",
       "                }\n",
       "            }, 500);\n",
       "            "
      ],
      "text/plain": [
       "<IPython.core.display.Javascript object>"
      ]
     },
     "metadata": {},
     "output_type": "display_data"
    }
   ],
   "source": [
    "# Pipeline para  variables numéricas\n",
    "num_pipeline = Pipeline(steps=[(\"imputer\", SimpleImputer(strategy=\"median\"))])\n",
    "num_pipeline_nombres = [\n",
    "    \"LONGITUD\",\n",
    "    \"LATITUD\",\n",
    "    \"ALC_mg/L\",\n",
    "    \"CONDUCT_mS/cm\",\n",
    "    \"SDT_M_mg/L\",\n",
    "    \"FLUORUROS_mg/L\",\n",
    "    \"DUR_mg/L\",\n",
    "    \"COLI_FEC_NMP/100_mL\",\n",
    "    \"N_NO3_mg/L\",\n",
    "    \"AS_TOT_mg/L\",\n",
    "    \"CD_TOT_mg/L\",\n",
    "    \"CR_TOT_mg/L\",\n",
    "    \"HG_TOT_mg/L\",\n",
    "    \"PB_TOT_mg/L\",\n",
    "    \"MN_TOT_mg/L\",\n",
    "    \"FE_TOT_mg/L\",\n",
    "]\n",
    "\n",
    "# Pipeline para variables CONTAMINANTES\n",
    "cont_pipeline = Pipeline(\n",
    "    steps=[\n",
    "        (\"imputer1\", SimpleImputer(strategy=\"constant\", fill_value=\"Ninguno\")),\n",
    "        (\n",
    "            \"OrdE\",\n",
    "            OrdinalEncoder(handle_unknown=\"use_encoded_value\", unknown_value=np.nan),\n",
    "        ),\n",
    "        (\"imputer2\", SimpleImputer(strategy=\"most_frequent\")),\n",
    "    ]\n",
    ")\n",
    "cont_pipeline_nombres = [\"CONTAMINANTES\"]\n",
    "\n",
    "# Pipeline para variables categóricas\n",
    "cat_pipeline = Pipeline(\n",
    "    steps=[\n",
    "        (\"imputer1\", SimpleImputer(strategy=\"most_frequent\")),\n",
    "        (\n",
    "            \"OrdE\",\n",
    "            OrdinalEncoder(handle_unknown=\"use_encoded_value\", unknown_value=np.nan),\n",
    "        ),\n",
    "        (\"imputer2\", SimpleImputer(strategy=\"most_frequent\")),\n",
    "    ]\n",
    ")\n",
    "cat_pipeline_nombres = [\n",
    "    \"ORGANISMO_DE_CUENCA\",\n",
    "    \"ESTADO\",\n",
    "    \"MUNICIPIO\",\n",
    "    \"ACUIFERO\",\n",
    "    \"SUBTIPO\",\n",
    "]\n",
    "\n",
    "# Pipeline para  variables ordinales\n",
    "ord_pipeline = Pipeline(\n",
    "    steps=[\n",
    "        (\"imputer1\", SimpleImputer(strategy=\"most_frequent\")),\n",
    "        (\n",
    "            \"OrdE\",\n",
    "            OrdinalEncoder(handle_unknown=\"use_encoded_value\", unknown_value=np.nan),\n",
    "        ),\n",
    "        (\"imputer2\", SimpleImputer(strategy=\"most_frequent\")),\n",
    "    ]\n",
    ")\n",
    "ord_pipeline_nombres = [\n",
    "    \"CALIDAD_ALC\",\n",
    "    \"CALIDAD_CONDUC\",\n",
    "    \"CALIDAD_SDT_ra\",\n",
    "    \"CALIDAD_SDT_salin\",\n",
    "    \"CALIDAD_FLUO\",\n",
    "    \"CALIDAD_DUR\",\n",
    "    \"CALIDAD_COLI_FEC\",\n",
    "    \"CALIDAD_N_NO3\",\n",
    "    \"CALIDAD_AS\",\n",
    "    \"CALIDAD_CD\",\n",
    "    \"CALIDAD_CR\",\n",
    "    \"CALIDAD_HG\",\n",
    "    \"CALIDAD_PB\",\n",
    "    \"CALIDAD_MN\",\n",
    "    \"CALIDAD_FE\",\n",
    "    \"CUMPLE_CON_ALC\",\n",
    "    \"CUMPLE_CON_COND\",\n",
    "    \"CUMPLE_CON_SDT_ra\",\n",
    "    \"CUMPLE_CON_SDT_salin\",\n",
    "    \"CUMPLE_CON_FLUO\",\n",
    "    \"CUMPLE_CON_DUR\",\n",
    "    \"CUMPLE_CON_CF\",\n",
    "    \"CUMPLE_CON_NO3\",\n",
    "    \"CUMPLE_CON_AS\",\n",
    "    \"CUMPLE_CON_CD\",\n",
    "    \"CUMPLE_CON_CR\",\n",
    "    \"CUMPLE_CON_HG\",\n",
    "    \"CUMPLE_CON_PB\",\n",
    "    \"CUMPLE_CON_MN\",\n",
    "    \"CUMPLE_CON_FE\",\n",
    "]\n",
    "\n",
    "# Conjuntamos las transformaciones numéricas, categóricas, ordinales y binarias que se estarán aplicando a los datos de entrada:\n",
    "columnasTransformer = ColumnTransformer(\n",
    "    transformers=[\n",
    "        (\"numerica\", num_pipeline, num_pipeline_nombres),\n",
    "        (\"contaminantes\", cont_pipeline, cont_pipeline_nombres),\n",
    "        (\"categorica\", cat_pipeline, cat_pipeline_nombres),\n",
    "        (\"ordinaria\", ord_pipeline, ord_pipeline_nombres),\n",
    "    ],\n",
    "    remainder=\"passthrough\",\n",
    ")"
   ]
  },
  {
   "cell_type": "markdown",
   "id": "07b770b6",
   "metadata": {},
   "source": [
    "## 3. Realiza un análisis general de las features importances a traves de decision trees o random forest."
   ]
  },
  {
   "cell_type": "code",
   "execution_count": 16,
   "id": "905fe692",
   "metadata": {},
   "outputs": [
    {
     "data": {
      "text/plain": [
       "Pipeline(steps=[('ct',\n",
       "                 ColumnTransformer(remainder='passthrough',\n",
       "                                   transformers=[('numerica',\n",
       "                                                  Pipeline(steps=[('imputer',\n",
       "                                                                   SimpleImputer(strategy='median'))]),\n",
       "                                                  ['LONGITUD', 'LATITUD',\n",
       "                                                   'ALC_mg/L', 'CONDUCT_mS/cm',\n",
       "                                                   'SDT_M_mg/L',\n",
       "                                                   'FLUORUROS_mg/L', 'DUR_mg/L',\n",
       "                                                   'COLI_FEC_NMP/100_mL',\n",
       "                                                   'N_NO3_mg/L', 'AS_TOT_mg/L',\n",
       "                                                   'CD_TOT_mg/L', 'CR_TOT_mg/L',\n",
       "                                                   'HG_TOT_mg/L', 'PB_TOT_mg/L',\n",
       "                                                   'M...\n",
       "                                                   'CALIDAD_CR', 'CALIDAD_HG',\n",
       "                                                   'CALIDAD_PB', 'CALIDAD_MN',\n",
       "                                                   'CALIDAD_FE',\n",
       "                                                   'CUMPLE_CON_ALC',\n",
       "                                                   'CUMPLE_CON_COND',\n",
       "                                                   'CUMPLE_CON_SDT_ra',\n",
       "                                                   'CUMPLE_CON_SDT_salin',\n",
       "                                                   'CUMPLE_CON_FLUO',\n",
       "                                                   'CUMPLE_CON_DUR',\n",
       "                                                   'CUMPLE_CON_CF',\n",
       "                                                   'CUMPLE_CON_NO3',\n",
       "                                                   'CUMPLE_CON_AS',\n",
       "                                                   'CUMPLE_CON_CD',\n",
       "                                                   'CUMPLE_CON_CR',\n",
       "                                                   'CUMPLE_CON_HG',\n",
       "                                                   'CUMPLE_CON_PB',\n",
       "                                                   'CUMPLE_CON_MN',\n",
       "                                                   'CUMPLE_CON_FE'])])),\n",
       "                ('m', DecisionTreeClassifier(random_state=1))])"
      ]
     },
     "execution_count": 16,
     "metadata": {},
     "output_type": "execute_result"
    },
    {
     "data": {
      "application/javascript": [
       "\n",
       "            setTimeout(function() {\n",
       "                var nbb_cell_id = 16;\n",
       "                var nbb_unformatted_code = \"# Se crea el objeto del modelo\\ntree = Pipeline(\\n    steps=[(\\\"ct\\\", columnasTransformer), (\\\"m\\\", DecisionTreeClassifier(random_state=1))]\\n)\\n\\n# Se entrena el modelo\\ntree.fit(X, Yy)\";\n",
       "                var nbb_formatted_code = \"# Se crea el objeto del modelo\\ntree = Pipeline(\\n    steps=[(\\\"ct\\\", columnasTransformer), (\\\"m\\\", DecisionTreeClassifier(random_state=1))]\\n)\\n\\n# Se entrena el modelo\\ntree.fit(X, Yy)\";\n",
       "                var nbb_cells = Jupyter.notebook.get_cells();\n",
       "                for (var i = 0; i < nbb_cells.length; ++i) {\n",
       "                    if (nbb_cells[i].input_prompt_number == nbb_cell_id) {\n",
       "                        if (nbb_cells[i].get_text() == nbb_unformatted_code) {\n",
       "                             nbb_cells[i].set_text(nbb_formatted_code);\n",
       "                        }\n",
       "                        break;\n",
       "                    }\n",
       "                }\n",
       "            }, 500);\n",
       "            "
      ],
      "text/plain": [
       "<IPython.core.display.Javascript object>"
      ]
     },
     "metadata": {},
     "output_type": "display_data"
    }
   ],
   "source": [
    "# Se crea el objeto del modelo\n",
    "tree = Pipeline(\n",
    "    steps=[(\"ct\", columnasTransformer), (\"m\", DecisionTreeClassifier(random_state=1))]\n",
    ")\n",
    "\n",
    "# Se entrena el modelo\n",
    "tree.fit(X, Yy)"
   ]
  },
  {
   "cell_type": "code",
   "execution_count": 17,
   "id": "0dc2ae3d",
   "metadata": {},
   "outputs": [
    {
     "name": "stdout",
     "output_type": "stream",
     "text": [
      "                           Imp\n",
      "DUR_mg/L              0.652072\n",
      "CUMPLE_CON_FLUO       0.121491\n",
      "CUMPLE_CON_NO3        0.076984\n",
      "MUNICIPIO             0.046079\n",
      "CUMPLE_CON_CR         0.027445\n",
      "ALC_mg/L              0.025138\n",
      "CONDUCT_mS/cm         0.024890\n",
      "ESTADO                0.009341\n",
      "CALIDAD_SDT_salin     0.005550\n",
      "CUMPLE_CON_CD         0.002867\n",
      "CALIDAD_SDT_ra        0.002840\n",
      "CUMPLE_CON_CF         0.002781\n",
      "ACUIFERO              0.002521\n",
      "FE_TOT_mg/L           0.000000\n",
      "CUMPLE_CON_COND       0.000000\n",
      "CALIDAD_MN            0.000000\n",
      "CALIDAD_FE            0.000000\n",
      "MN_TOT_mg/L           0.000000\n",
      "CONTAMINANTES         0.000000\n",
      "CUMPLE_CON_ALC        0.000000\n",
      "ORGANISMO_DE_CUENCA   0.000000\n",
      "CUMPLE_CON_SDT_ra     0.000000\n",
      "CUMPLE_CON_SDT_salin  0.000000\n",
      "CUMPLE_CON_DUR        0.000000\n",
      "PB_TOT_mg/L           0.000000\n",
      "CUMPLE_CON_AS         0.000000\n",
      "CUMPLE_CON_HG         0.000000\n",
      "CUMPLE_CON_PB         0.000000\n",
      "CUMPLE_CON_MN         0.000000\n",
      "CALIDAD_PB            0.000000\n",
      "CR_TOT_mg/L           0.000000\n",
      "CALIDAD_HG            0.000000\n",
      "CALIDAD_DUR           0.000000\n",
      "SUBTIPO               0.000000\n",
      "LONGITUD              0.000000\n",
      "LATITUD               0.000000\n",
      "CALIDAD_ALC           0.000000\n",
      "CALIDAD_CONDUC        0.000000\n",
      "SDT_M_mg/L            0.000000\n",
      "FLUORUROS_mg/L        0.000000\n",
      "CALIDAD_FLUO          0.000000\n",
      "COLI_FEC_NMP/100_mL   0.000000\n",
      "HG_TOT_mg/L           0.000000\n",
      "CALIDAD_COLI_FEC      0.000000\n",
      "N_NO3_mg/L            0.000000\n",
      "CALIDAD_N_NO3         0.000000\n",
      "AS_TOT_mg/L           0.000000\n",
      "CALIDAD_AS            0.000000\n",
      "CD_TOT_mg/L           0.000000\n",
      "CALIDAD_CD            0.000000\n",
      "CALIDAD_CR            0.000000\n",
      "CUMPLE_CON_FE         0.000000\n"
     ]
    },
    {
     "data": {
      "application/javascript": [
       "\n",
       "            setTimeout(function() {\n",
       "                var nbb_cell_id = 17;\n",
       "                var nbb_unformatted_code = \"# Importancia de variables\\nprint(\\n    pd.DataFrame(\\n        tree[\\\"m\\\"].feature_importances_, columns=[\\\"Imp\\\"], index=X.columns\\n    ).sort_values(by=\\\"Imp\\\", ascending=False)\\n)\";\n",
       "                var nbb_formatted_code = \"# Importancia de variables\\nprint(\\n    pd.DataFrame(\\n        tree[\\\"m\\\"].feature_importances_, columns=[\\\"Imp\\\"], index=X.columns\\n    ).sort_values(by=\\\"Imp\\\", ascending=False)\\n)\";\n",
       "                var nbb_cells = Jupyter.notebook.get_cells();\n",
       "                for (var i = 0; i < nbb_cells.length; ++i) {\n",
       "                    if (nbb_cells[i].input_prompt_number == nbb_cell_id) {\n",
       "                        if (nbb_cells[i].get_text() == nbb_unformatted_code) {\n",
       "                             nbb_cells[i].set_text(nbb_formatted_code);\n",
       "                        }\n",
       "                        break;\n",
       "                    }\n",
       "                }\n",
       "            }, 500);\n",
       "            "
      ],
      "text/plain": [
       "<IPython.core.display.Javascript object>"
      ]
     },
     "metadata": {},
     "output_type": "display_data"
    }
   ],
   "source": [
    "# Importancia de variables\n",
    "print(\n",
    "    pd.DataFrame(\n",
    "        tree[\"m\"].feature_importances_, columns=[\"Imp\"], index=X.columns\n",
    "    ).sort_values(by=\"Imp\", ascending=False)\n",
    ")"
   ]
  },
  {
   "cell_type": "code",
   "execution_count": 18,
   "id": "cc67f5a4",
   "metadata": {},
   "outputs": [
    {
     "data": {
      "image/png": "[encoded data removed]",
      "text/plain": [
       "<Figure size 864x864 with 1 Axes>"
      ]
     },
     "metadata": {},
     "output_type": "display_data"
    },
    {
     "data": {
      "application/javascript": [
       "\n",
       "            setTimeout(function() {\n",
       "                var nbb_cell_id = 18;\n",
       "                var nbb_unformatted_code = \"# Lista de nombres de variables\\nfeature_names = list(X.columns)\\n\\n# Gr\\u00e1fico de importancia de variables\\nimportances = tree[\\\"m\\\"].feature_importances_\\nindices = np.argsort(importances)\\n\\nplt.figure(figsize=(12, 12))\\nplt.title(\\\"Feature Importances\\\")\\nplt.barh(range(len(indices)), importances[indices], color=\\\"violet\\\", align=\\\"center\\\")\\nplt.yticks(range(len(indices)), [feature_names[i] for i in indices])\\nplt.xlabel(\\\"Relative Importance\\\")\\nplt.show()\";\n",
       "                var nbb_formatted_code = \"# Lista de nombres de variables\\nfeature_names = list(X.columns)\\n\\n# Gr\\u00e1fico de importancia de variables\\nimportances = tree[\\\"m\\\"].feature_importances_\\nindices = np.argsort(importances)\\n\\nplt.figure(figsize=(12, 12))\\nplt.title(\\\"Feature Importances\\\")\\nplt.barh(range(len(indices)), importances[indices], color=\\\"violet\\\", align=\\\"center\\\")\\nplt.yticks(range(len(indices)), [feature_names[i] for i in indices])\\nplt.xlabel(\\\"Relative Importance\\\")\\nplt.show()\";\n",
       "                var nbb_cells = Jupyter.notebook.get_cells();\n",
       "                for (var i = 0; i < nbb_cells.length; ++i) {\n",
       "                    if (nbb_cells[i].input_prompt_number == nbb_cell_id) {\n",
       "                        if (nbb_cells[i].get_text() == nbb_unformatted_code) {\n",
       "                             nbb_cells[i].set_text(nbb_formatted_code);\n",
       "                        }\n",
       "                        break;\n",
       "                    }\n",
       "                }\n",
       "            }, 500);\n",
       "            "
      ],
      "text/plain": [
       "<IPython.core.display.Javascript object>"
      ]
     },
     "metadata": {},
     "output_type": "display_data"
    }
   ],
   "source": [
    "# Lista de nombres de variables\n",
    "feature_names = list(X.columns)\n",
    "\n",
    "# Gráfico de importancia de variables\n",
    "importances = tree[\"m\"].feature_importances_\n",
    "indices = np.argsort(importances)\n",
    "\n",
    "plt.figure(figsize=(12, 12))\n",
    "plt.title(\"Feature Importances\")\n",
    "plt.barh(range(len(indices)), importances[indices], color=\"violet\", align=\"center\")\n",
    "plt.yticks(range(len(indices)), [feature_names[i] for i in indices])\n",
    "plt.xlabel(\"Relative Importance\")\n",
    "plt.show()"
   ]
  },
  {
   "cell_type": "markdown",
   "id": "c2285fa6",
   "metadata": {},
   "source": [
    "## 4. Selecciona las variables de mayor importancia."
   ]
  },
  {
   "cell_type": "markdown",
   "id": "37cd5d7b",
   "metadata": {},
   "source": [
    "Como se observa en el gráfico anterior las variables de mayor importancia son DUR_mg/L, CUMPLE_CON_FLUO, CUMPLE_CON_NO3 y MUNICIPIO."
   ]
  },
  {
   "cell_type": "markdown",
   "id": "9147390b",
   "metadata": {},
   "source": [
    "## 5. Realiza tu clasificador, recuerda dividir los datos de manera balanceada (auxiliate de train test split)."
   ]
  },
  {
   "cell_type": "code",
   "execution_count": 19,
   "id": "1146e41c",
   "metadata": {},
   "outputs": [
    {
     "data": {
      "application/javascript": [
       "\n",
       "            setTimeout(function() {\n",
       "                var nbb_cell_id = 19;\n",
       "                var nbb_unformatted_code = \"# Definimos los conjuntos de entrenamiento y prueba con una partici\\u00f3n de 85-15\\nX_train, X_test, y_train, y_test = train_test_split(\\n    X, Y, test_size=0.15, stratify=Y, random_state=1\\n)\";\n",
       "                var nbb_formatted_code = \"# Definimos los conjuntos de entrenamiento y prueba con una partici\\u00f3n de 85-15\\nX_train, X_test, y_train, y_test = train_test_split(\\n    X, Y, test_size=0.15, stratify=Y, random_state=1\\n)\";\n",
       "                var nbb_cells = Jupyter.notebook.get_cells();\n",
       "                for (var i = 0; i < nbb_cells.length; ++i) {\n",
       "                    if (nbb_cells[i].input_prompt_number == nbb_cell_id) {\n",
       "                        if (nbb_cells[i].get_text() == nbb_unformatted_code) {\n",
       "                             nbb_cells[i].set_text(nbb_formatted_code);\n",
       "                        }\n",
       "                        break;\n",
       "                    }\n",
       "                }\n",
       "            }, 500);\n",
       "            "
      ],
      "text/plain": [
       "<IPython.core.display.Javascript object>"
      ]
     },
     "metadata": {},
     "output_type": "display_data"
    }
   ],
   "source": [
    "# Definimos los conjuntos de entrenamiento y prueba con una partición de 85-15\n",
    "X_train, X_test, y_train, y_test = train_test_split(\n",
    "    X, Y, test_size=0.15, stratify=Y, random_state=1\n",
    ")"
   ]
  },
  {
   "cell_type": "code",
   "execution_count": 20,
   "id": "ba4c7c52",
   "metadata": {},
   "outputs": [
    {
     "name": "stdout",
     "output_type": "stream",
     "text": [
      "Datos completos\n",
      "\n",
      " SEMAFORO\n",
      "Verde       0.406367\n",
      "Rojo        0.362360\n",
      "Amarillo    0.231273\n",
      "dtype: float64 \n",
      "\n",
      "\n",
      "Datos de entreamiento\n",
      "\n",
      " SEMAFORO\n",
      "Verde       0.405733\n",
      "Rojo        0.362734\n",
      "Amarillo    0.231533\n",
      "dtype: float64 \n",
      "\n",
      "\n",
      "Datos de prueba\n",
      "\n",
      " SEMAFORO\n",
      "Verde       0.409938\n",
      "Rojo        0.360248\n",
      "Amarillo    0.229814\n",
      "dtype: float64\n"
     ]
    },
    {
     "data": {
      "application/javascript": [
       "\n",
       "            setTimeout(function() {\n",
       "                var nbb_cell_id = 20;\n",
       "                var nbb_unformatted_code = \"print(\\\"Datos completos\\\\n\\\\n\\\", Y.value_counts(normalize=True), \\\"\\\\n\\\\n\\\")\\nprint(\\\"Datos de entreamiento\\\\n\\\\n\\\", y_train.value_counts(normalize=True), \\\"\\\\n\\\\n\\\")\\nprint(\\\"Datos de prueba\\\\n\\\\n\\\", y_test.value_counts(normalize=True))\";\n",
       "                var nbb_formatted_code = \"print(\\\"Datos completos\\\\n\\\\n\\\", Y.value_counts(normalize=True), \\\"\\\\n\\\\n\\\")\\nprint(\\\"Datos de entreamiento\\\\n\\\\n\\\", y_train.value_counts(normalize=True), \\\"\\\\n\\\\n\\\")\\nprint(\\\"Datos de prueba\\\\n\\\\n\\\", y_test.value_counts(normalize=True))\";\n",
       "                var nbb_cells = Jupyter.notebook.get_cells();\n",
       "                for (var i = 0; i < nbb_cells.length; ++i) {\n",
       "                    if (nbb_cells[i].input_prompt_number == nbb_cell_id) {\n",
       "                        if (nbb_cells[i].get_text() == nbb_unformatted_code) {\n",
       "                             nbb_cells[i].set_text(nbb_formatted_code);\n",
       "                        }\n",
       "                        break;\n",
       "                    }\n",
       "                }\n",
       "            }, 500);\n",
       "            "
      ],
      "text/plain": [
       "<IPython.core.display.Javascript object>"
      ]
     },
     "metadata": {},
     "output_type": "display_data"
    }
   ],
   "source": [
    "print(\"Datos completos\\n\\n\", Y.value_counts(normalize=True), \"\\n\\n\")\n",
    "print(\"Datos de entreamiento\\n\\n\", y_train.value_counts(normalize=True), \"\\n\\n\")\n",
    "print(\"Datos de prueba\\n\\n\", y_test.value_counts(normalize=True))"
   ]
  },
  {
   "cell_type": "markdown",
   "id": "0291a95c",
   "metadata": {},
   "source": [
    "**Obs:**\n",
    "- Notamos que la clase más comun es 2 con el 41%, seguido de 0 con el 36% y por último 1 con el 23%"
   ]
  },
  {
   "cell_type": "markdown",
   "id": "038c71a3",
   "metadata": {},
   "source": [
    "### Árbol de decisión (hiperparámetros de default)"
   ]
  },
  {
   "cell_type": "code",
   "execution_count": 21,
   "id": "80ae3b9c",
   "metadata": {},
   "outputs": [
    {
     "data": {
      "text/plain": [
       "Pipeline(steps=[('ct',\n",
       "                 ColumnTransformer(remainder='passthrough',\n",
       "                                   transformers=[('numerica',\n",
       "                                                  Pipeline(steps=[('imputer',\n",
       "                                                                   SimpleImputer(strategy='median'))]),\n",
       "                                                  ['LONGITUD', 'LATITUD',\n",
       "                                                   'ALC_mg/L', 'CONDUCT_mS/cm',\n",
       "                                                   'SDT_M_mg/L',\n",
       "                                                   'FLUORUROS_mg/L', 'DUR_mg/L',\n",
       "                                                   'COLI_FEC_NMP/100_mL',\n",
       "                                                   'N_NO3_mg/L', 'AS_TOT_mg/L',\n",
       "                                                   'CD_TOT_mg/L', 'CR_TOT_mg/L',\n",
       "                                                   'HG_TOT_mg/L', 'PB_TOT_mg/L',\n",
       "                                                   'M...\n",
       "                                                   'CALIDAD_CR', 'CALIDAD_HG',\n",
       "                                                   'CALIDAD_PB', 'CALIDAD_MN',\n",
       "                                                   'CALIDAD_FE',\n",
       "                                                   'CUMPLE_CON_ALC',\n",
       "                                                   'CUMPLE_CON_COND',\n",
       "                                                   'CUMPLE_CON_SDT_ra',\n",
       "                                                   'CUMPLE_CON_SDT_salin',\n",
       "                                                   'CUMPLE_CON_FLUO',\n",
       "                                                   'CUMPLE_CON_DUR',\n",
       "                                                   'CUMPLE_CON_CF',\n",
       "                                                   'CUMPLE_CON_NO3',\n",
       "                                                   'CUMPLE_CON_AS',\n",
       "                                                   'CUMPLE_CON_CD',\n",
       "                                                   'CUMPLE_CON_CR',\n",
       "                                                   'CUMPLE_CON_HG',\n",
       "                                                   'CUMPLE_CON_PB',\n",
       "                                                   'CUMPLE_CON_MN',\n",
       "                                                   'CUMPLE_CON_FE'])])),\n",
       "                ('m', DecisionTreeClassifier(random_state=1))])"
      ]
     },
     "execution_count": 21,
     "metadata": {},
     "output_type": "execute_result"
    },
    {
     "data": {
      "application/javascript": [
       "\n",
       "            setTimeout(function() {\n",
       "                var nbb_cell_id = 21;\n",
       "                var nbb_unformatted_code = \"# Se transforma y de entrenamiento\\ny_pipeline.fit(y_train)\\ny_train2 = y_pipeline.fit_transform(y_train)\\n\\n# Se entrena el modelo con datos de entrenamiento\\ntree.fit(X_train, y_train2)\";\n",
       "                var nbb_formatted_code = \"# Se transforma y de entrenamiento\\ny_pipeline.fit(y_train)\\ny_train2 = y_pipeline.fit_transform(y_train)\\n\\n# Se entrena el modelo con datos de entrenamiento\\ntree.fit(X_train, y_train2)\";\n",
       "                var nbb_cells = Jupyter.notebook.get_cells();\n",
       "                for (var i = 0; i < nbb_cells.length; ++i) {\n",
       "                    if (nbb_cells[i].input_prompt_number == nbb_cell_id) {\n",
       "                        if (nbb_cells[i].get_text() == nbb_unformatted_code) {\n",
       "                             nbb_cells[i].set_text(nbb_formatted_code);\n",
       "                        }\n",
       "                        break;\n",
       "                    }\n",
       "                }\n",
       "            }, 500);\n",
       "            "
      ],
      "text/plain": [
       "<IPython.core.display.Javascript object>"
      ]
     },
     "metadata": {},
     "output_type": "display_data"
    }
   ],
   "source": [
    "# Se transforma y de entrenamiento\n",
    "y_pipeline.fit(y_train)\n",
    "y_train2 = y_pipeline.fit_transform(y_train)\n",
    "\n",
    "# Se entrena el modelo con datos de entrenamiento\n",
    "tree.fit(X_train, y_train2)"
   ]
  },
  {
   "cell_type": "markdown",
   "id": "92a856d4",
   "metadata": {},
   "source": [
    "### Bosque aleatorio (hiperparámetros de default)"
   ]
  },
  {
   "cell_type": "code",
   "execution_count": 22,
   "id": "bf6e5834",
   "metadata": {},
   "outputs": [
    {
     "data": {
      "text/plain": [
       "Pipeline(steps=[('ct',\n",
       "                 ColumnTransformer(remainder='passthrough',\n",
       "                                   transformers=[('numerica',\n",
       "                                                  Pipeline(steps=[('imputer',\n",
       "                                                                   SimpleImputer(strategy='median'))]),\n",
       "                                                  ['LONGITUD', 'LATITUD',\n",
       "                                                   'ALC_mg/L', 'CONDUCT_mS/cm',\n",
       "                                                   'SDT_M_mg/L',\n",
       "                                                   'FLUORUROS_mg/L', 'DUR_mg/L',\n",
       "                                                   'COLI_FEC_NMP/100_mL',\n",
       "                                                   'N_NO3_mg/L', 'AS_TOT_mg/L',\n",
       "                                                   'CD_TOT_mg/L', 'CR_TOT_mg/L',\n",
       "                                                   'HG_TOT_mg/L', 'PB_TOT_mg/L',\n",
       "                                                   'M...\n",
       "                                                   'CALIDAD_CR', 'CALIDAD_HG',\n",
       "                                                   'CALIDAD_PB', 'CALIDAD_MN',\n",
       "                                                   'CALIDAD_FE',\n",
       "                                                   'CUMPLE_CON_ALC',\n",
       "                                                   'CUMPLE_CON_COND',\n",
       "                                                   'CUMPLE_CON_SDT_ra',\n",
       "                                                   'CUMPLE_CON_SDT_salin',\n",
       "                                                   'CUMPLE_CON_FLUO',\n",
       "                                                   'CUMPLE_CON_DUR',\n",
       "                                                   'CUMPLE_CON_CF',\n",
       "                                                   'CUMPLE_CON_NO3',\n",
       "                                                   'CUMPLE_CON_AS',\n",
       "                                                   'CUMPLE_CON_CD',\n",
       "                                                   'CUMPLE_CON_CR',\n",
       "                                                   'CUMPLE_CON_HG',\n",
       "                                                   'CUMPLE_CON_PB',\n",
       "                                                   'CUMPLE_CON_MN',\n",
       "                                                   'CUMPLE_CON_FE'])])),\n",
       "                ('m', RandomForestClassifier(random_state=1))])"
      ]
     },
     "execution_count": 22,
     "metadata": {},
     "output_type": "execute_result"
    },
    {
     "data": {
      "application/javascript": [
       "\n",
       "            setTimeout(function() {\n",
       "                var nbb_cell_id = 22;\n",
       "                var nbb_unformatted_code = \"# Se crea el objeto de bosque aleatorio\\nrf = Pipeline(\\n    steps=[(\\\"ct\\\", columnasTransformer), (\\\"m\\\", RandomForestClassifier(random_state=1))]\\n)\\n\\n# Se entrena el modelo con datos de entrenamiento\\nrf.fit(X_train, y_train2)\";\n",
       "                var nbb_formatted_code = \"# Se crea el objeto de bosque aleatorio\\nrf = Pipeline(\\n    steps=[(\\\"ct\\\", columnasTransformer), (\\\"m\\\", RandomForestClassifier(random_state=1))]\\n)\\n\\n# Se entrena el modelo con datos de entrenamiento\\nrf.fit(X_train, y_train2)\";\n",
       "                var nbb_cells = Jupyter.notebook.get_cells();\n",
       "                for (var i = 0; i < nbb_cells.length; ++i) {\n",
       "                    if (nbb_cells[i].input_prompt_number == nbb_cell_id) {\n",
       "                        if (nbb_cells[i].get_text() == nbb_unformatted_code) {\n",
       "                             nbb_cells[i].set_text(nbb_formatted_code);\n",
       "                        }\n",
       "                        break;\n",
       "                    }\n",
       "                }\n",
       "            }, 500);\n",
       "            "
      ],
      "text/plain": [
       "<IPython.core.display.Javascript object>"
      ]
     },
     "metadata": {},
     "output_type": "display_data"
    }
   ],
   "source": [
    "# Se crea el objeto de bosque aleatorio\n",
    "rf = Pipeline(\n",
    "    steps=[(\"ct\", columnasTransformer), (\"m\", RandomForestClassifier(random_state=1))]\n",
    ")\n",
    "\n",
    "# Se entrena el modelo con datos de entrenamiento\n",
    "rf.fit(X_train, y_train2)"
   ]
  },
  {
   "cell_type": "markdown",
   "id": "18882325",
   "metadata": {},
   "source": [
    "## 6. Explora que clasificador es el más optimo, ejemplo:"
   ]
  },
  {
   "cell_type": "markdown",
   "id": "bb138816",
   "metadata": {},
   "source": [
    "### a) Decision trees."
   ]
  },
  {
   "cell_type": "code",
   "execution_count": 23,
   "id": "b15e781b",
   "metadata": {},
   "outputs": [
    {
     "name": "stdout",
     "output_type": "stream",
     "text": [
      "Best parameter (CV score=0.960):\n",
      "{'regressor__criterion': 'gini', 'regressor__max_depth': None, 'regressor__max_features': 11, 'regressor__random_state': 1, 'regressor__splitter': 'random'}\n"
     ]
    },
    {
     "data": {
      "application/javascript": [
       "\n",
       "            setTimeout(function() {\n",
       "                var nbb_cell_id = 23;\n",
       "                var nbb_unformatted_code = \"tree_1 = Pipeline(\\n    steps=[\\n        (\\\"preprocessor\\\", columnasTransformer),\\n        (\\\"regressor\\\", DecisionTreeClassifier()),\\n    ]\\n)\\n\\nkfold = RepeatedStratifiedKFold(n_splits=5, n_repeats=3, random_state=1)\\n\\nparam_grid = {\\n    \\\"regressor__splitter\\\": [\\\"best\\\", \\\"random\\\"],\\n    \\\"regressor__criterion\\\": [\\\"gini\\\", \\\"entropy\\\"],\\n    \\\"regressor__max_depth\\\": [None, 10, 30],\\n    \\\"regressor__max_features\\\": [None, 7, 9, 11],\\n    \\\"regressor__random_state\\\": [1],\\n}\\nsearch_t = GridSearchCV(\\n    tree_1, param_grid, cv=kfold, n_jobs=-1, refit=True, scoring=\\\"accuracy\\\"\\n)\\n\\nsearch_t.fit(X_train, np.ravel(y_train2))\\n\\nprint(\\\"Best parameter (CV score=%0.3f):\\\" % search_t.best_score_)\\nprint(search_t.best_params_)\";\n",
       "                var nbb_formatted_code = \"tree_1 = Pipeline(\\n    steps=[\\n        (\\\"preprocessor\\\", columnasTransformer),\\n        (\\\"regressor\\\", DecisionTreeClassifier()),\\n    ]\\n)\\n\\nkfold = RepeatedStratifiedKFold(n_splits=5, n_repeats=3, random_state=1)\\n\\nparam_grid = {\\n    \\\"regressor__splitter\\\": [\\\"best\\\", \\\"random\\\"],\\n    \\\"regressor__criterion\\\": [\\\"gini\\\", \\\"entropy\\\"],\\n    \\\"regressor__max_depth\\\": [None, 10, 30],\\n    \\\"regressor__max_features\\\": [None, 7, 9, 11],\\n    \\\"regressor__random_state\\\": [1],\\n}\\nsearch_t = GridSearchCV(\\n    tree_1, param_grid, cv=kfold, n_jobs=-1, refit=True, scoring=\\\"accuracy\\\"\\n)\\n\\nsearch_t.fit(X_train, np.ravel(y_train2))\\n\\nprint(\\\"Best parameter (CV score=%0.3f):\\\" % search_t.best_score_)\\nprint(search_t.best_params_)\";\n",
       "                var nbb_cells = Jupyter.notebook.get_cells();\n",
       "                for (var i = 0; i < nbb_cells.length; ++i) {\n",
       "                    if (nbb_cells[i].input_prompt_number == nbb_cell_id) {\n",
       "                        if (nbb_cells[i].get_text() == nbb_unformatted_code) {\n",
       "                             nbb_cells[i].set_text(nbb_formatted_code);\n",
       "                        }\n",
       "                        break;\n",
       "                    }\n",
       "                }\n",
       "            }, 500);\n",
       "            "
      ],
      "text/plain": [
       "<IPython.core.display.Javascript object>"
      ]
     },
     "metadata": {},
     "output_type": "display_data"
    }
   ],
   "source": [
    "tree_1 = Pipeline(\n",
    "    steps=[\n",
    "        (\"preprocessor\", columnasTransformer),\n",
    "        (\"regressor\", DecisionTreeClassifier()),\n",
    "    ]\n",
    ")\n",
    "\n",
    "kfold = RepeatedStratifiedKFold(n_splits=5, n_repeats=3, random_state=1)\n",
    "\n",
    "param_grid = {\n",
    "    \"regressor__splitter\": [\"best\", \"random\"],\n",
    "    \"regressor__criterion\": [\"gini\", \"entropy\"],\n",
    "    \"regressor__max_depth\": [None, 10, 30],\n",
    "    \"regressor__max_features\": [None, 7, 9, 11],\n",
    "    \"regressor__random_state\": [1],\n",
    "}\n",
    "search_t = GridSearchCV(\n",
    "    tree_1, param_grid, cv=kfold, n_jobs=-1, refit=True, scoring=\"accuracy\"\n",
    ")\n",
    "\n",
    "search_t.fit(X_train, np.ravel(y_train2))\n",
    "\n",
    "print(\"Best parameter (CV score=%0.3f):\" % search_t.best_score_)\n",
    "print(search_t.best_params_)"
   ]
  },
  {
   "cell_type": "code",
   "execution_count": 24,
   "id": "a328ba87",
   "metadata": {},
   "outputs": [
    {
     "data": {
      "text/plain": [
       "0.968944099378882"
      ]
     },
     "execution_count": 24,
     "metadata": {},
     "output_type": "execute_result"
    },
    {
     "data": {
      "application/javascript": [
       "\n",
       "            setTimeout(function() {\n",
       "                var nbb_cell_id = 24;\n",
       "                var nbb_unformatted_code = \"tree_model = search_t.best_estimator_.fit(X_train, y_train2)\\ntree_model.score(X_test, y_pipeline.fit_transform(y_test))\";\n",
       "                var nbb_formatted_code = \"tree_model = search_t.best_estimator_.fit(X_train, y_train2)\\ntree_model.score(X_test, y_pipeline.fit_transform(y_test))\";\n",
       "                var nbb_cells = Jupyter.notebook.get_cells();\n",
       "                for (var i = 0; i < nbb_cells.length; ++i) {\n",
       "                    if (nbb_cells[i].input_prompt_number == nbb_cell_id) {\n",
       "                        if (nbb_cells[i].get_text() == nbb_unformatted_code) {\n",
       "                             nbb_cells[i].set_text(nbb_formatted_code);\n",
       "                        }\n",
       "                        break;\n",
       "                    }\n",
       "                }\n",
       "            }, 500);\n",
       "            "
      ],
      "text/plain": [
       "<IPython.core.display.Javascript object>"
      ]
     },
     "metadata": {},
     "output_type": "display_data"
    }
   ],
   "source": [
    "tree_model = search_t.best_estimator_.fit(X_train, y_train2)\n",
    "tree_model.score(X_test, y_pipeline.fit_transform(y_test))"
   ]
  },
  {
   "cell_type": "markdown",
   "id": "2c70b6b2",
   "metadata": {},
   "source": [
    "### b) Random Forest."
   ]
  },
  {
   "cell_type": "code",
   "execution_count": 25,
   "id": "b7a547bd",
   "metadata": {},
   "outputs": [
    {
     "name": "stdout",
     "output_type": "stream",
     "text": [
      "Best parameter (CV score=0.983):\n",
      "{'regressor__max_depth': 11, 'regressor__max_features': 5, 'regressor__n_estimators': 200, 'regressor__random_state': 1}\n"
     ]
    },
    {
     "data": {
      "application/javascript": [
       "\n",
       "            setTimeout(function() {\n",
       "                var nbb_cell_id = 25;\n",
       "                var nbb_unformatted_code = \"rf_1 = Pipeline(\\n    steps=[\\n        (\\\"preprocessor\\\", columnasTransformer),\\n        (\\\"regressor\\\", RandomForestClassifier()),\\n    ]\\n)\\n\\nkfold = RepeatedStratifiedKFold(n_splits=5, n_repeats=3, random_state=1)\\n\\nparam_grid = {\\n    \\\"regressor__n_estimators\\\": [100, 150, 200],\\n    \\\"regressor__max_depth\\\": [11, 13, 15, 17],\\n    \\\"regressor__max_features\\\": [None, 5, 7, 9, 11],\\n    \\\"regressor__random_state\\\": [1],\\n}\\n\\nsearch_rf = GridSearchCV(\\n    rf_1, param_grid, cv=kfold, n_jobs=-1, refit=True, scoring=\\\"accuracy\\\"\\n)\\n\\nsearch_rf.fit(X_train, np.ravel(y_train2))\\n\\nprint(\\\"Best parameter (CV score=%0.3f):\\\" % search_rf.best_score_)\\nprint(search_rf.best_params_)\";\n",
       "                var nbb_formatted_code = \"rf_1 = Pipeline(\\n    steps=[\\n        (\\\"preprocessor\\\", columnasTransformer),\\n        (\\\"regressor\\\", RandomForestClassifier()),\\n    ]\\n)\\n\\nkfold = RepeatedStratifiedKFold(n_splits=5, n_repeats=3, random_state=1)\\n\\nparam_grid = {\\n    \\\"regressor__n_estimators\\\": [100, 150, 200],\\n    \\\"regressor__max_depth\\\": [11, 13, 15, 17],\\n    \\\"regressor__max_features\\\": [None, 5, 7, 9, 11],\\n    \\\"regressor__random_state\\\": [1],\\n}\\n\\nsearch_rf = GridSearchCV(\\n    rf_1, param_grid, cv=kfold, n_jobs=-1, refit=True, scoring=\\\"accuracy\\\"\\n)\\n\\nsearch_rf.fit(X_train, np.ravel(y_train2))\\n\\nprint(\\\"Best parameter (CV score=%0.3f):\\\" % search_rf.best_score_)\\nprint(search_rf.best_params_)\";\n",
       "                var nbb_cells = Jupyter.notebook.get_cells();\n",
       "                for (var i = 0; i < nbb_cells.length; ++i) {\n",
       "                    if (nbb_cells[i].input_prompt_number == nbb_cell_id) {\n",
       "                        if (nbb_cells[i].get_text() == nbb_unformatted_code) {\n",
       "                             nbb_cells[i].set_text(nbb_formatted_code);\n",
       "                        }\n",
       "                        break;\n",
       "                    }\n",
       "                }\n",
       "            }, 500);\n",
       "            "
      ],
      "text/plain": [
       "<IPython.core.display.Javascript object>"
      ]
     },
     "metadata": {},
     "output_type": "display_data"
    }
   ],
   "source": [
    "rf_1 = Pipeline(\n",
    "    steps=[\n",
    "        (\"preprocessor\", columnasTransformer),\n",
    "        (\"regressor\", RandomForestClassifier()),\n",
    "    ]\n",
    ")\n",
    "\n",
    "kfold = RepeatedStratifiedKFold(n_splits=5, n_repeats=3, random_state=1)\n",
    "\n",
    "param_grid = {\n",
    "    \"regressor__n_estimators\": [100, 150, 200],\n",
    "    \"regressor__max_depth\": [11, 13, 15, 17],\n",
    "    \"regressor__max_features\": [None, 5, 7, 9, 11],\n",
    "    \"regressor__random_state\": [1],\n",
    "}\n",
    "\n",
    "search_rf = GridSearchCV(\n",
    "    rf_1, param_grid, cv=kfold, n_jobs=-1, refit=True, scoring=\"accuracy\"\n",
    ")\n",
    "\n",
    "search_rf.fit(X_train, np.ravel(y_train2))\n",
    "\n",
    "print(\"Best parameter (CV score=%0.3f):\" % search_rf.best_score_)\n",
    "print(search_rf.best_params_)"
   ]
  },
  {
   "cell_type": "code",
   "execution_count": 26,
   "id": "92ba2fcd",
   "metadata": {},
   "outputs": [
    {
     "data": {
      "text/plain": [
       "0.9751552795031055"
      ]
     },
     "execution_count": 26,
     "metadata": {},
     "output_type": "execute_result"
    },
    {
     "data": {
      "application/javascript": [
       "\n",
       "            setTimeout(function() {\n",
       "                var nbb_cell_id = 26;\n",
       "                var nbb_unformatted_code = \"rf_model = search_rf.best_estimator_.fit(X_train, y_train2)\\nrf_model.score(X_test, y_pipeline.fit_transform(y_test))\";\n",
       "                var nbb_formatted_code = \"rf_model = search_rf.best_estimator_.fit(X_train, y_train2)\\nrf_model.score(X_test, y_pipeline.fit_transform(y_test))\";\n",
       "                var nbb_cells = Jupyter.notebook.get_cells();\n",
       "                for (var i = 0; i < nbb_cells.length; ++i) {\n",
       "                    if (nbb_cells[i].input_prompt_number == nbb_cell_id) {\n",
       "                        if (nbb_cells[i].get_text() == nbb_unformatted_code) {\n",
       "                             nbb_cells[i].set_text(nbb_formatted_code);\n",
       "                        }\n",
       "                        break;\n",
       "                    }\n",
       "                }\n",
       "            }, 500);\n",
       "            "
      ],
      "text/plain": [
       "<IPython.core.display.Javascript object>"
      ]
     },
     "metadata": {},
     "output_type": "display_data"
    }
   ],
   "source": [
    "rf_model = search_rf.best_estimator_.fit(X_train, y_train2)\n",
    "rf_model.score(X_test, y_pipeline.fit_transform(y_test))"
   ]
  },
  {
   "cell_type": "markdown",
   "id": "7f47be08",
   "metadata": {},
   "source": [
    "## 7. Determina el grado de exactitud a través del reporte de clasificación."
   ]
  },
  {
   "cell_type": "code",
   "execution_count": 27,
   "id": "da938b8d",
   "metadata": {},
   "outputs": [
    {
     "data": {
      "text/plain": [
       "[array(['Amarillo', 'Rojo', 'Verde'], dtype=object)]"
      ]
     },
     "execution_count": 27,
     "metadata": {},
     "output_type": "execute_result"
    },
    {
     "data": {
      "application/javascript": [
       "\n",
       "            setTimeout(function() {\n",
       "                var nbb_cell_id = 27;\n",
       "                var nbb_unformatted_code = \"y_pipeline.named_steps.OrdE.categories_\";\n",
       "                var nbb_formatted_code = \"y_pipeline.named_steps.OrdE.categories_\";\n",
       "                var nbb_cells = Jupyter.notebook.get_cells();\n",
       "                for (var i = 0; i < nbb_cells.length; ++i) {\n",
       "                    if (nbb_cells[i].input_prompt_number == nbb_cell_id) {\n",
       "                        if (nbb_cells[i].get_text() == nbb_unformatted_code) {\n",
       "                             nbb_cells[i].set_text(nbb_formatted_code);\n",
       "                        }\n",
       "                        break;\n",
       "                    }\n",
       "                }\n",
       "            }, 500);\n",
       "            "
      ],
      "text/plain": [
       "<IPython.core.display.Javascript object>"
      ]
     },
     "metadata": {},
     "output_type": "display_data"
    }
   ],
   "source": [
    "y_pipeline.named_steps.OrdE.categories_"
   ]
  },
  {
   "cell_type": "code",
   "execution_count": 28,
   "id": "c17adf1a",
   "metadata": {},
   "outputs": [
    {
     "name": "stdout",
     "output_type": "stream",
     "text": [
      "              precision    recall  f1-score   support\n",
      "\n",
      "    Amarillo       0.92      0.97      0.95        37\n",
      "        Rojo       0.98      0.95      0.96        58\n",
      "       Verde       0.98      0.98      0.98        66\n",
      "\n",
      "    accuracy                           0.97       161\n",
      "   macro avg       0.96      0.97      0.97       161\n",
      "weighted avg       0.97      0.97      0.97       161\n",
      "\n"
     ]
    },
    {
     "data": {
      "application/javascript": [
       "\n",
       "            setTimeout(function() {\n",
       "                var nbb_cell_id = 28;\n",
       "                var nbb_unformatted_code = \"y_pred = tree_model.predict(X_test)\\ny_true = y_pipeline.fit_transform(y_test)\\nprint(classification_report(y_true, y_pred, target_names=[\\\"Amarillo\\\", \\\"Rojo\\\", \\\"Verde\\\"]))\";\n",
       "                var nbb_formatted_code = \"y_pred = tree_model.predict(X_test)\\ny_true = y_pipeline.fit_transform(y_test)\\nprint(classification_report(y_true, y_pred, target_names=[\\\"Amarillo\\\", \\\"Rojo\\\", \\\"Verde\\\"]))\";\n",
       "                var nbb_cells = Jupyter.notebook.get_cells();\n",
       "                for (var i = 0; i < nbb_cells.length; ++i) {\n",
       "                    if (nbb_cells[i].input_prompt_number == nbb_cell_id) {\n",
       "                        if (nbb_cells[i].get_text() == nbb_unformatted_code) {\n",
       "                             nbb_cells[i].set_text(nbb_formatted_code);\n",
       "                        }\n",
       "                        break;\n",
       "                    }\n",
       "                }\n",
       "            }, 500);\n",
       "            "
      ],
      "text/plain": [
       "<IPython.core.display.Javascript object>"
      ]
     },
     "metadata": {},
     "output_type": "display_data"
    }
   ],
   "source": [
    "y_pred = tree_model.predict(X_test)\n",
    "y_true = y_pipeline.fit_transform(y_test)\n",
    "print(classification_report(y_true, y_pred, target_names=[\"Amarillo\", \"Rojo\", \"Verde\"]))"
   ]
  },
  {
   "cell_type": "code",
   "execution_count": 29,
   "id": "e472ee04",
   "metadata": {},
   "outputs": [
    {
     "data": {
      "image/png": "[encoded data removed]",
      "text/plain": [
       "<Figure size 600x360 with 2 Axes>"
      ]
     },
     "metadata": {},
     "output_type": "display_data"
    },
    {
     "data": {
      "application/javascript": [
       "\n",
       "            setTimeout(function() {\n",
       "                var nbb_cell_id = 29;\n",
       "                var nbb_unformatted_code = \"visualizer = ClassificationReport(\\n    tree_model, classes=['Amarillo','Rojo','Verde'], \\n                                  cmap=\\\"GnBu\\\", size=(600, 360),support='count',fontsize=14\\n    )\\nvisualizer.fit(X_train, y_train)\\nvisualizer.score(X_test, y_pipeline.fit_transform(y_test))\\nvisualizer.show();\";\n",
       "                var nbb_formatted_code = \"visualizer = ClassificationReport(\\n    tree_model,\\n    classes=[\\\"Amarillo\\\", \\\"Rojo\\\", \\\"Verde\\\"],\\n    cmap=\\\"GnBu\\\",\\n    size=(600, 360),\\n    support=\\\"count\\\",\\n    fontsize=14,\\n)\\nvisualizer.fit(X_train, y_train)\\nvisualizer.score(X_test, y_pipeline.fit_transform(y_test))\\nvisualizer.show()\";\n",
       "                var nbb_cells = Jupyter.notebook.get_cells();\n",
       "                for (var i = 0; i < nbb_cells.length; ++i) {\n",
       "                    if (nbb_cells[i].input_prompt_number == nbb_cell_id) {\n",
       "                        if (nbb_cells[i].get_text() == nbb_unformatted_code) {\n",
       "                             nbb_cells[i].set_text(nbb_formatted_code);\n",
       "                        }\n",
       "                        break;\n",
       "                    }\n",
       "                }\n",
       "            }, 500);\n",
       "            "
      ],
      "text/plain": [
       "<IPython.core.display.Javascript object>"
      ]
     },
     "metadata": {},
     "output_type": "display_data"
    }
   ],
   "source": [
    "visualizer = ClassificationReport(\n",
    "    tree_model, classes=['Amarillo','Rojo','Verde'], \n",
    "                                  cmap=\"GnBu\", size=(600, 360),support='count',fontsize=14\n",
    "    )\n",
    "visualizer.fit(X_train, y_train)\n",
    "visualizer.score(X_test, y_pipeline.fit_transform(y_test))\n",
    "visualizer.show();\n"
   ]
  },
  {
   "cell_type": "code",
   "execution_count": 30,
   "id": "b5785813",
   "metadata": {
    "scrolled": true
   },
   "outputs": [
    {
     "name": "stdout",
     "output_type": "stream",
     "text": [
      "              precision    recall  f1-score   support\n",
      "\n",
      "    Amarillo       0.95      1.00      0.97        37\n",
      "        Rojo       1.00      0.93      0.96        58\n",
      "       Verde       0.97      1.00      0.99        66\n",
      "\n",
      "    accuracy                           0.98       161\n",
      "   macro avg       0.97      0.98      0.97       161\n",
      "weighted avg       0.98      0.98      0.97       161\n",
      "\n"
     ]
    },
    {
     "data": {
      "application/javascript": [
       "\n",
       "            setTimeout(function() {\n",
       "                var nbb_cell_id = 30;\n",
       "                var nbb_unformatted_code = \"y_pred = rf_model.predict(X_test)\\ny_true = y_pipeline.fit_transform(y_test)\\nprint(classification_report(y_true, y_pred, target_names=[\\\"Amarillo\\\", \\\"Rojo\\\", \\\"Verde\\\"]))\";\n",
       "                var nbb_formatted_code = \"y_pred = rf_model.predict(X_test)\\ny_true = y_pipeline.fit_transform(y_test)\\nprint(classification_report(y_true, y_pred, target_names=[\\\"Amarillo\\\", \\\"Rojo\\\", \\\"Verde\\\"]))\";\n",
       "                var nbb_cells = Jupyter.notebook.get_cells();\n",
       "                for (var i = 0; i < nbb_cells.length; ++i) {\n",
       "                    if (nbb_cells[i].input_prompt_number == nbb_cell_id) {\n",
       "                        if (nbb_cells[i].get_text() == nbb_unformatted_code) {\n",
       "                             nbb_cells[i].set_text(nbb_formatted_code);\n",
       "                        }\n",
       "                        break;\n",
       "                    }\n",
       "                }\n",
       "            }, 500);\n",
       "            "
      ],
      "text/plain": [
       "<IPython.core.display.Javascript object>"
      ]
     },
     "metadata": {},
     "output_type": "display_data"
    }
   ],
   "source": [
    "y_pred = rf_model.predict(X_test)\n",
    "y_true = y_pipeline.fit_transform(y_test)\n",
    "print(classification_report(y_true, y_pred, target_names=[\"Amarillo\", \"Rojo\", \"Verde\"]))"
   ]
  },
  {
   "cell_type": "code",
   "execution_count": 31,
   "id": "822ac444",
   "metadata": {},
   "outputs": [
    {
     "data": {
      "image/png": "[encoded data removed]",
      "text/plain": [
       "<Figure size 600x360 with 2 Axes>"
      ]
     },
     "metadata": {},
     "output_type": "display_data"
    },
    {
     "data": {
      "text/plain": [
       "<AxesSubplot:title={'center':'RandomForestClassifier Classification Report'}>"
      ]
     },
     "execution_count": 31,
     "metadata": {},
     "output_type": "execute_result"
    },
    {
     "data": {
      "application/javascript": [
       "\n",
       "            setTimeout(function() {\n",
       "                var nbb_cell_id = 31;\n",
       "                var nbb_unformatted_code = \"visualizer = ClassificationReport(\\n    rf_model,\\n    classes=[\\\"Amarillo\\\", \\\"Rojo\\\", \\\"verde\\\"],\\n    cmap=\\\"GnBu\\\",\\n    size=(600, 360),\\n    support=\\\"count\\\",\\n    fontsize=16,\\n)\\nvisualizer.fit(X_train, y_train)\\nvisualizer.score(X_test, y_pipeline.fit_transform(y_test))\\nvisualizer.show()\";\n",
       "                var nbb_formatted_code = \"visualizer = ClassificationReport(\\n    rf_model,\\n    classes=[\\\"Amarillo\\\", \\\"Rojo\\\", \\\"verde\\\"],\\n    cmap=\\\"GnBu\\\",\\n    size=(600, 360),\\n    support=\\\"count\\\",\\n    fontsize=16,\\n)\\nvisualizer.fit(X_train, y_train)\\nvisualizer.score(X_test, y_pipeline.fit_transform(y_test))\\nvisualizer.show()\";\n",
       "                var nbb_cells = Jupyter.notebook.get_cells();\n",
       "                for (var i = 0; i < nbb_cells.length; ++i) {\n",
       "                    if (nbb_cells[i].input_prompt_number == nbb_cell_id) {\n",
       "                        if (nbb_cells[i].get_text() == nbb_unformatted_code) {\n",
       "                             nbb_cells[i].set_text(nbb_formatted_code);\n",
       "                        }\n",
       "                        break;\n",
       "                    }\n",
       "                }\n",
       "            }, 500);\n",
       "            "
      ],
      "text/plain": [
       "<IPython.core.display.Javascript object>"
      ]
     },
     "metadata": {},
     "output_type": "display_data"
    }
   ],
   "source": [
    "visualizer = ClassificationReport(\n",
    "    rf_model,\n",
    "    classes=[\"Amarillo\", \"Rojo\", \"verde\"],\n",
    "    cmap=\"GnBu\",\n",
    "    size=(600, 360),\n",
    "    support=\"count\",\n",
    "    fontsize=16,\n",
    ")\n",
    "visualizer.fit(X_train, y_train)\n",
    "visualizer.score(X_test, y_pipeline.fit_transform(y_test))\n",
    "visualizer.show()"
   ]
  },
  {
   "cell_type": "markdown",
   "id": "8340f8b4",
   "metadata": {},
   "source": [
    "**Obs:**\n",
    "\n",
    "- Ambos modelos tienen muy buenos resultados.\n",
    "- Es posible que este relaicionado con la alta realación entre las variables predictivas y la variable de respuesta.\n",
    "- Es importante estar atentos a problemas de sobre entrenamiento."
   ]
  },
  {
   "cell_type": "markdown",
   "id": "f314a86e",
   "metadata": {},
   "source": [
    "## 8. Visualiza los resultados del modelo o las predicciones a través de una matriz de confusión."
   ]
  },
  {
   "cell_type": "code",
   "execution_count": 32,
   "id": "9bfbf8f3",
   "metadata": {},
   "outputs": [
    {
     "data": {
      "text/plain": [
       "[array(['Amarillo', 'Rojo', 'Verde'], dtype=object)]"
      ]
     },
     "execution_count": 32,
     "metadata": {},
     "output_type": "execute_result"
    },
    {
     "data": {
      "application/javascript": [
       "\n",
       "            setTimeout(function() {\n",
       "                var nbb_cell_id = 32;\n",
       "                var nbb_unformatted_code = \"encoder_map = {0: \\\"Rojo\\\", 1: \\\"Amarillo\\\", 2: \\\"Verde\\\"}\\ny_test2 = y_pipeline.fit_transform(y_test)\\ny_pipeline.named_steps.OrdE.categories_\";\n",
       "                var nbb_formatted_code = \"encoder_map = {0: \\\"Rojo\\\", 1: \\\"Amarillo\\\", 2: \\\"Verde\\\"}\\ny_test2 = y_pipeline.fit_transform(y_test)\\ny_pipeline.named_steps.OrdE.categories_\";\n",
       "                var nbb_cells = Jupyter.notebook.get_cells();\n",
       "                for (var i = 0; i < nbb_cells.length; ++i) {\n",
       "                    if (nbb_cells[i].input_prompt_number == nbb_cell_id) {\n",
       "                        if (nbb_cells[i].get_text() == nbb_unformatted_code) {\n",
       "                             nbb_cells[i].set_text(nbb_formatted_code);\n",
       "                        }\n",
       "                        break;\n",
       "                    }\n",
       "                }\n",
       "            }, 500);\n",
       "            "
      ],
      "text/plain": [
       "<IPython.core.display.Javascript object>"
      ]
     },
     "metadata": {},
     "output_type": "display_data"
    }
   ],
   "source": [
    "encoder_map = {0: \"Rojo\", 1: \"Amarillo\", 2: \"Verde\"}\n",
    "y_test2 = y_pipeline.fit_transform(y_test)\n",
    "y_pipeline.named_steps.OrdE.categories_"
   ]
  },
  {
   "cell_type": "code",
   "execution_count": 33,
   "id": "c7ba63b7",
   "metadata": {},
   "outputs": [
    {
     "data": {
      "image/png": "[encoded data removed]",
      "text/plain": [
       "<Figure size 576x576 with 1 Axes>"
      ]
     },
     "metadata": {},
     "output_type": "display_data"
    },
    {
     "data": {
      "text/plain": [
       "<AxesSubplot:title={'center':'DecisionTreeClassifier Confusion Matrix'}, xlabel='Predicted Class', ylabel='True Class'>"
      ]
     },
     "execution_count": 33,
     "metadata": {},
     "output_type": "execute_result"
    },
    {
     "data": {
      "application/javascript": [
       "\n",
       "            setTimeout(function() {\n",
       "                var nbb_cell_id = 33;\n",
       "                var nbb_unformatted_code = \"plt.figure(figsize=(8, 8))\\ncm_tree = ConfusionMatrix(\\n    tree_model, classes=[\\\"Amarillo\\\", \\\"Rojo\\\", \\\"Verde\\\"], fontsize=14, cmap=\\\"GnBu\\\"\\n)\\ncm_tree.fit(X_train, y_train2)\\ncm_tree.score(X_test, y_pipeline.fit_transform(y_test))\\ncm_tree.show()\";\n",
       "                var nbb_formatted_code = \"plt.figure(figsize=(8, 8))\\ncm_tree = ConfusionMatrix(\\n    tree_model, classes=[\\\"Amarillo\\\", \\\"Rojo\\\", \\\"Verde\\\"], fontsize=14, cmap=\\\"GnBu\\\"\\n)\\ncm_tree.fit(X_train, y_train2)\\ncm_tree.score(X_test, y_pipeline.fit_transform(y_test))\\ncm_tree.show()\";\n",
       "                var nbb_cells = Jupyter.notebook.get_cells();\n",
       "                for (var i = 0; i < nbb_cells.length; ++i) {\n",
       "                    if (nbb_cells[i].input_prompt_number == nbb_cell_id) {\n",
       "                        if (nbb_cells[i].get_text() == nbb_unformatted_code) {\n",
       "                             nbb_cells[i].set_text(nbb_formatted_code);\n",
       "                        }\n",
       "                        break;\n",
       "                    }\n",
       "                }\n",
       "            }, 500);\n",
       "            "
      ],
      "text/plain": [
       "<IPython.core.display.Javascript object>"
      ]
     },
     "metadata": {},
     "output_type": "display_data"
    }
   ],
   "source": [
    "plt.figure(figsize=(8, 8))\n",
    "cm_tree = ConfusionMatrix(\n",
    "    tree_model, classes=[\"Amarillo\", \"Rojo\", \"Verde\"], fontsize=14, cmap=\"GnBu\"\n",
    ")\n",
    "cm_tree.fit(X_train, y_train2)\n",
    "cm_tree.score(X_test, y_pipeline.fit_transform(y_test))\n",
    "cm_tree.show()"
   ]
  },
  {
   "cell_type": "code",
   "execution_count": 34,
   "id": "4557b54d",
   "metadata": {},
   "outputs": [
    {
     "data": {
      "image/png": "[encoded data removed]",
      "text/plain": [
       "<Figure size 576x576 with 1 Axes>"
      ]
     },
     "metadata": {},
     "output_type": "display_data"
    },
    {
     "data": {
      "text/plain": [
       "<AxesSubplot:title={'center':'RandomForestClassifier Confusion Matrix'}, xlabel='Predicted Class', ylabel='True Class'>"
      ]
     },
     "execution_count": 34,
     "metadata": {},
     "output_type": "execute_result"
    },
    {
     "data": {
      "application/javascript": [
       "\n",
       "            setTimeout(function() {\n",
       "                var nbb_cell_id = 34;\n",
       "                var nbb_unformatted_code = \"plt.figure(figsize=(8, 8))\\ncm_rf = ConfusionMatrix(\\n    rf_model, classes=[\\\"Amarillo\\\", \\\"Rojo\\\", \\\"Verde\\\"], fontsize=14, cmap=\\\"GnBu\\\"\\n)\\ncm_rf.fit(X_train, y_train2)\\ncm_rf.score(X_test, y_pipeline.fit_transform(y_test))\\ncm_rf.show()\";\n",
       "                var nbb_formatted_code = \"plt.figure(figsize=(8, 8))\\ncm_rf = ConfusionMatrix(\\n    rf_model, classes=[\\\"Amarillo\\\", \\\"Rojo\\\", \\\"Verde\\\"], fontsize=14, cmap=\\\"GnBu\\\"\\n)\\ncm_rf.fit(X_train, y_train2)\\ncm_rf.score(X_test, y_pipeline.fit_transform(y_test))\\ncm_rf.show()\";\n",
       "                var nbb_cells = Jupyter.notebook.get_cells();\n",
       "                for (var i = 0; i < nbb_cells.length; ++i) {\n",
       "                    if (nbb_cells[i].input_prompt_number == nbb_cell_id) {\n",
       "                        if (nbb_cells[i].get_text() == nbb_unformatted_code) {\n",
       "                             nbb_cells[i].set_text(nbb_formatted_code);\n",
       "                        }\n",
       "                        break;\n",
       "                    }\n",
       "                }\n",
       "            }, 500);\n",
       "            "
      ],
      "text/plain": [
       "<IPython.core.display.Javascript object>"
      ]
     },
     "metadata": {},
     "output_type": "display_data"
    }
   ],
   "source": [
    "plt.figure(figsize=(8, 8))\n",
    "cm_rf = ConfusionMatrix(\n",
    "    rf_model, classes=[\"Amarillo\", \"Rojo\", \"Verde\"], fontsize=14, cmap=\"GnBu\"\n",
    ")\n",
    "cm_rf.fit(X_train, y_train2)\n",
    "cm_rf.score(X_test, y_pipeline.fit_transform(y_test))\n",
    "cm_rf.show()"
   ]
  },
  {
   "cell_type": "markdown",
   "id": "d3428572",
   "metadata": {},
   "source": [
    "**Obs:**\n",
    "\n",
    "- La matriz de confusión nos da información sobre la predicción del modelo y la variable original."
   ]
  },
  {
   "cell_type": "code",
   "execution_count": null,
   "id": "ca286de6",
   "metadata": {},
   "outputs": [],
   "source": []
  }
 ],
 "metadata": {
  "kernelspec": {
   "display_name": "Python 3 (ipykernel)",
   "language": "python",
   "name": "python3"
  },
  "language_info": {
   "codemirror_mode": {
    "name": "ipython",
    "version": 3
   },
   "file_extension": ".py",
   "mimetype": "text/x-python",
   "name": "python",
   "nbconvert_exporter": "python",
   "pygments_lexer": "ipython3",
   "version": "3.9.12"
  }
 },
 "nbformat": 4,
 "nbformat_minor": 5
}
